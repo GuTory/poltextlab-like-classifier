{
 "cells": [
  {
   "cell_type": "code",
   "execution_count": 1,
   "metadata": {},
   "outputs": [],
   "source": [
    "import os\n",
    "import pandas as pd\n",
    "import numpy as np\n",
    "import gzip\n",
    "import json\n",
    "import torch\n",
    "import torch.nn as nn\n",
    "from torch.utils.data import DataLoader\n",
    "import seaborn as sns\n",
    "import matplotlib.pyplot as plt\n",
    "from tqdm import trange\n",
    "from tqdm import tqdm_notebook as tqdm\n",
    "from torch.utils.data import DataLoader\n",
    "import torch.nn as nn\n",
    "import torch.optim as optim\n",
    "from article_dataset import ArticleDataset\n",
    "\n",
    "from transformers import BertForSequenceClassification\n"
   ]
  },
  {
   "cell_type": "code",
   "execution_count": 2,
   "metadata": {},
   "outputs": [],
   "source": [
    "device = torch.device('cuda' if torch.cuda.is_available() else 'cpu')\n",
    "device\n",
    "\n",
    "if torch.cuda.is_available():\n",
    "    os.environ[\"CUDA_VISIBLE_DEVICES\"] = \"0\""
   ]
  },
  {
   "cell_type": "code",
   "execution_count": 3,
   "metadata": {},
   "outputs": [],
   "source": [
    "os.environ[\"TOKENIZERS_PARALLELISM\"] = \"false\"\n",
    "from transformers import BertTokenizerFast as BertTokenizer"
   ]
  },
  {
   "cell_type": "code",
   "execution_count": 4,
   "metadata": {},
   "outputs": [],
   "source": [
    "LABEL = 'major_topic_pred_index'\n",
    "ARTICLE = 'article'"
   ]
  },
  {
   "cell_type": "code",
   "execution_count": 5,
   "metadata": {},
   "outputs": [
    {
     "name": "stdout",
     "output_type": "stream",
     "text": [
      "RangeIndex(start=0, stop=132, step=1)\n",
      "RangeIndex(start=0, stop=66, step=1)\n",
      "RangeIndex(start=0, stop=66, step=1)\n",
      "<class 'pandas.core.frame.DataFrame'>\n",
      "RangeIndex: 66 entries, 0 to 65\n",
      "Data columns (total 11 columns):\n",
      " #   Column                  Non-Null Count  Dtype  \n",
      "---  ------                  --------------  -----  \n",
      " 0   title                   66 non-null     object \n",
      " 1   lead                    66 non-null     object \n",
      " 2   article                 66 non-null     object \n",
      " 3   domain                  66 non-null     object \n",
      " 4   url                     66 non-null     object \n",
      " 5   date_of_creation        63 non-null     object \n",
      " 6   cc_date                 66 non-null     object \n",
      " 7   tags                    66 non-null     object \n",
      " 8   doc_similarity          66 non-null     float64\n",
      " 9   major_topic_pred        66 non-null     int64  \n",
      " 10  major_topic_pred_index  66 non-null     int64  \n",
      "dtypes: float64(1), int64(2), object(8)\n",
      "memory usage: 5.8+ KB\n"
     ]
    }
   ],
   "source": [
    "def read_folder(folder_path):\n",
    "    dataframes = []\n",
    "    for filename in os.listdir(folder_path):\n",
    "        if filename.endswith('.jsonl.gz'):\n",
    "            with gzip.open(os.path.join(folder_path, filename), 'rt', encoding='utf-8') as file:\n",
    "                for line in file:\n",
    "                    json_data = json.loads(line)\n",
    "                    df = pd.DataFrame(json_data)\n",
    "                    dataframes.append(df)\n",
    "    if dataframes:\n",
    "        aggregated_df = pd.concat(dataframes, ignore_index=True)\n",
    "        return aggregated_df\n",
    "    else:\n",
    "        print(\"No jsonl files found in the directory.\")\n",
    "        return None\n",
    "    \n",
    "def reduce(_number=6):\n",
    "    # csak a test\n",
    "    test = os.path.join(os.getcwd(), 'test')\n",
    "    df = read_folder(test)\n",
    "    df.drop('uuid', axis=1, inplace=True)\n",
    "    return df.groupby('major_topic_pred').apply(lambda x: x.sample(n=min(_number, len(x)))).reset_index(drop=True)\n",
    "\n",
    "\n",
    "df_train = reduce(6)\n",
    "df_test = reduce(3)\n",
    "df_eval = reduce(3)\n",
    "\n",
    "print(df_train.index)\n",
    "print(df_test.index)\n",
    "print(df_eval.index)\n",
    "\n",
    "labels = df_train['major_topic_pred'].unique().tolist()\n",
    "number_of_labels = len(labels)\n",
    "id_to_label = {_id: label for _id, label in enumerate(labels)}\n",
    "label_to_id = {label: _id for _id, label in enumerate(labels)}\n",
    "\n",
    "\n",
    "df_train[\"major_topic_pred_index\"] = df_train['major_topic_pred'].map(lambda x: label_to_id[x])\n",
    "df_test[\"major_topic_pred_index\"] = df_test['major_topic_pred'].map(lambda x: label_to_id[x])\n",
    "df_eval[\"major_topic_pred_index\"] = df_eval['major_topic_pred'].map(lambda x: label_to_id[x])\n",
    "\n",
    "df_eval.info()"
   ]
  },
  {
   "cell_type": "code",
   "execution_count": 6,
   "metadata": {},
   "outputs": [
    {
     "data": {
      "text/html": [
       "<div>\n",
       "<style scoped>\n",
       "    .dataframe tbody tr th:only-of-type {\n",
       "        vertical-align: middle;\n",
       "    }\n",
       "\n",
       "    .dataframe tbody tr th {\n",
       "        vertical-align: top;\n",
       "    }\n",
       "\n",
       "    .dataframe thead th {\n",
       "        text-align: right;\n",
       "    }\n",
       "</style>\n",
       "<table border=\"1\" class=\"dataframe\">\n",
       "  <thead>\n",
       "    <tr style=\"text-align: right;\">\n",
       "      <th></th>\n",
       "      <th>title</th>\n",
       "      <th>lead</th>\n",
       "      <th>article</th>\n",
       "      <th>domain</th>\n",
       "      <th>url</th>\n",
       "      <th>date_of_creation</th>\n",
       "      <th>cc_date</th>\n",
       "      <th>tags</th>\n",
       "      <th>doc_similarity</th>\n",
       "      <th>major_topic_pred</th>\n",
       "      <th>major_topic_pred_index</th>\n",
       "    </tr>\n",
       "  </thead>\n",
       "  <tbody>\n",
       "    <tr>\n",
       "      <th>0</th>\n",
       "      <td>Felére csökkent a Volkswagen nyeresége</td>\n",
       "      <td>A Volkswagen harmadik negyedéves nyeresége köz...</td>\n",
       "      <td>A gyár nettó profitja 439 millió euróra csökke...</td>\n",
       "      <td>origo.hu</td>\n",
       "      <td>https://www.origo.hu/gazdasag/hirek/20021030fe...</td>\n",
       "      <td>2002-10-30T11:07:00</td>\n",
       "      <td>2019-05-27T12:36:13</td>\n",
       "      <td>nyereség</td>\n",
       "      <td>0.823234</td>\n",
       "      <td>1</td>\n",
       "      <td>0</td>\n",
       "    </tr>\n",
       "    <tr>\n",
       "      <th>1</th>\n",
       "      <td>Varga Mihály visszaszólt az eurót pocskondiázó...</td>\n",
       "      <td>Szigorításokkal fogná vissza a készpénzhasznál...</td>\n",
       "      <td>Azt szeretné a kormány, ha a mostaninál több n...</td>\n",
       "      <td>hvg.hu</td>\n",
       "      <td>https://hvg.hu/gazdasag/20191106_Varga_Mihaly_...</td>\n",
       "      <td>2019-11-06T06:41:00</td>\n",
       "      <td>2021-01-27T21:03:17</td>\n",
       "      <td>versenyképességi tanács</td>\n",
       "      <td>0.811978</td>\n",
       "      <td>1</td>\n",
       "      <td>0</td>\n",
       "    </tr>\n",
       "    <tr>\n",
       "      <th>2</th>\n",
       "      <td>Hatalmas deficittel birkózik az USA</td>\n",
       "      <td>Az Egyesült Államok költségvetési hiánya idén ...</td>\n",
       "      <td>A kormány költségvetési hivatala 2010-re 1,47 ...</td>\n",
       "      <td>index.hu</td>\n",
       "      <td>http://index.hu/gazdasag/vilag/2010/07/27/hata...</td>\n",
       "      <td>2010-07-27T06:53:00</td>\n",
       "      <td>2017-11-20T00:40:35</td>\n",
       "      <td>egyesült államok</td>\n",
       "      <td>0.731257</td>\n",
       "      <td>1</td>\n",
       "      <td>0</td>\n",
       "    </tr>\n",
       "    <tr>\n",
       "      <th>3</th>\n",
       "      <td>Bod Péter Ákos: Válság után, válságok előtt</td>\n",
       "      <td>Mit válthat ki egy újabb gazdasági krízis, és ...</td>\n",
       "      <td>Gazdaságról ma nem beszélhetünk úgy, hogy ne r...</td>\n",
       "      <td>hvg.hu</td>\n",
       "      <td>https://hvg.hu/gazdasag/201841_beszelgetesek__...</td>\n",
       "      <td>2018-10-15T11:00:00</td>\n",
       "      <td>2019-01-21T16:38:12</td>\n",
       "      <td>Bod Péter Ákos</td>\n",
       "      <td>0.721534</td>\n",
       "      <td>1</td>\n",
       "      <td>0</td>\n",
       "    </tr>\n",
       "    <tr>\n",
       "      <th>4</th>\n",
       "      <td>Putyin elismerte, megszorítások jöhetnek</td>\n",
       "      <td>„Nem lehet válságról beszélni” Putyin szerint,...</td>\n",
       "      <td>„Nem hiszem, hogy válságról beszélhetünk” – mo...</td>\n",
       "      <td>origo.hu</td>\n",
       "      <td>https://www.origo.hu/gazdasag/20141218-putyin-...</td>\n",
       "      <td>2014-12-18T15:59:00</td>\n",
       "      <td>2020-09-30T04:13:35</td>\n",
       "      <td>válság</td>\n",
       "      <td>0.701693</td>\n",
       "      <td>1</td>\n",
       "      <td>0</td>\n",
       "    </tr>\n",
       "  </tbody>\n",
       "</table>\n",
       "</div>"
      ],
      "text/plain": [
       "                                               title  \\\n",
       "0             Felére csökkent a Volkswagen nyeresége   \n",
       "1  Varga Mihály visszaszólt az eurót pocskondiázó...   \n",
       "2                Hatalmas deficittel birkózik az USA   \n",
       "3        Bod Péter Ákos: Válság után, válságok előtt   \n",
       "4           Putyin elismerte, megszorítások jöhetnek   \n",
       "\n",
       "                                                lead  \\\n",
       "0  A Volkswagen harmadik negyedéves nyeresége köz...   \n",
       "1  Szigorításokkal fogná vissza a készpénzhasznál...   \n",
       "2  Az Egyesült Államok költségvetési hiánya idén ...   \n",
       "3  Mit válthat ki egy újabb gazdasági krízis, és ...   \n",
       "4  „Nem lehet válságról beszélni” Putyin szerint,...   \n",
       "\n",
       "                                             article    domain  \\\n",
       "0  A gyár nettó profitja 439 millió euróra csökke...  origo.hu   \n",
       "1  Azt szeretné a kormány, ha a mostaninál több n...    hvg.hu   \n",
       "2  A kormány költségvetési hivatala 2010-re 1,47 ...  index.hu   \n",
       "3  Gazdaságról ma nem beszélhetünk úgy, hogy ne r...    hvg.hu   \n",
       "4  „Nem hiszem, hogy válságról beszélhetünk” – mo...  origo.hu   \n",
       "\n",
       "                                                 url     date_of_creation  \\\n",
       "0  https://www.origo.hu/gazdasag/hirek/20021030fe...  2002-10-30T11:07:00   \n",
       "1  https://hvg.hu/gazdasag/20191106_Varga_Mihaly_...  2019-11-06T06:41:00   \n",
       "2  http://index.hu/gazdasag/vilag/2010/07/27/hata...  2010-07-27T06:53:00   \n",
       "3  https://hvg.hu/gazdasag/201841_beszelgetesek__...  2018-10-15T11:00:00   \n",
       "4  https://www.origo.hu/gazdasag/20141218-putyin-...  2014-12-18T15:59:00   \n",
       "\n",
       "               cc_date                     tags  doc_similarity  \\\n",
       "0  2019-05-27T12:36:13                 nyereség        0.823234   \n",
       "1  2021-01-27T21:03:17  versenyképességi tanács        0.811978   \n",
       "2  2017-11-20T00:40:35         egyesült államok        0.731257   \n",
       "3  2019-01-21T16:38:12           Bod Péter Ákos        0.721534   \n",
       "4  2020-09-30T04:13:35                   válság        0.701693   \n",
       "\n",
       "   major_topic_pred  major_topic_pred_index  \n",
       "0                 1                       0  \n",
       "1                 1                       0  \n",
       "2                 1                       0  \n",
       "3                 1                       0  \n",
       "4                 1                       0  "
      ]
     },
     "execution_count": 6,
     "metadata": {},
     "output_type": "execute_result"
    }
   ],
   "source": [
    "df_train.head()"
   ]
  },
  {
   "cell_type": "code",
   "execution_count": 7,
   "metadata": {},
   "outputs": [
    {
     "data": {
      "text/html": [
       "<div>\n",
       "<style scoped>\n",
       "    .dataframe tbody tr th:only-of-type {\n",
       "        vertical-align: middle;\n",
       "    }\n",
       "\n",
       "    .dataframe tbody tr th {\n",
       "        vertical-align: top;\n",
       "    }\n",
       "\n",
       "    .dataframe thead th {\n",
       "        text-align: right;\n",
       "    }\n",
       "</style>\n",
       "<table border=\"1\" class=\"dataframe\">\n",
       "  <thead>\n",
       "    <tr style=\"text-align: right;\">\n",
       "      <th></th>\n",
       "      <th>title</th>\n",
       "      <th>lead</th>\n",
       "      <th>article</th>\n",
       "      <th>domain</th>\n",
       "      <th>url</th>\n",
       "      <th>date_of_creation</th>\n",
       "      <th>cc_date</th>\n",
       "      <th>tags</th>\n",
       "      <th>doc_similarity</th>\n",
       "      <th>major_topic_pred</th>\n",
       "      <th>major_topic_pred_index</th>\n",
       "    </tr>\n",
       "  </thead>\n",
       "  <tbody>\n",
       "    <tr>\n",
       "      <th>0</th>\n",
       "      <td>Az üzleti szféra üzenete Orbánnak: első a gazd...</td>\n",
       "      <td>A gazdasági érdekvédelmi szervezetek vezetői m...</td>\n",
       "      <td>Legelőször is a gazdaságot kell rendbe hozni, ...</td>\n",
       "      <td>hvg.hu</td>\n",
       "      <td>https://hvg.hu/gazdasag/20100510_uzleti_szfera...</td>\n",
       "      <td>2010-05-11T06:30:00</td>\n",
       "      <td>2020-08-05T22:42:30</td>\n",
       "      <td>MKIK</td>\n",
       "      <td>0.560493</td>\n",
       "      <td>1</td>\n",
       "      <td>0</td>\n",
       "    </tr>\n",
       "    <tr>\n",
       "      <th>1</th>\n",
       "      <td>Gyenge teljesítmény a francia ipari óriástól</td>\n",
       "      <td>A cég nettó nyeresége március 31-ével zárult ü...</td>\n",
       "      <td>A cég nettó nyeresége március 31-ével zárult ü...</td>\n",
       "      <td>hvg.hu</td>\n",
       "      <td>https://hvg.hu/kkv/20110504_alstom/nyomtatas</td>\n",
       "      <td>2011-05-04T12:06:00</td>\n",
       "      <td>2021-02-28T21:06:29</td>\n",
       "      <td>Alstom eredmény</td>\n",
       "      <td>0.867125</td>\n",
       "      <td>1</td>\n",
       "      <td>0</td>\n",
       "    </tr>\n",
       "    <tr>\n",
       "      <th>2</th>\n",
       "      <td>Az üzleti szféra üzenete Orbánnak: első a gazd...</td>\n",
       "      <td>A gazdasági érdekvédelmi szervezetek vezetői m...</td>\n",
       "      <td>Legelőször is a gazdaságot kell rendbe hozni, ...</td>\n",
       "      <td>hvg.hu</td>\n",
       "      <td>https://hvg.hu/gazdasag/20100510_uzleti_szfera...</td>\n",
       "      <td>2010-05-11T06:30:00</td>\n",
       "      <td>2020-08-05T22:42:30</td>\n",
       "      <td>Német-Magyar Ipari és Kereskedelmi Kamara</td>\n",
       "      <td>0.560493</td>\n",
       "      <td>1</td>\n",
       "      <td>0</td>\n",
       "    </tr>\n",
       "    <tr>\n",
       "      <th>3</th>\n",
       "      <td>Lecigányozzák az utcán Béci párját a VV-sztár ...</td>\n",
       "      <td>Béci párja, Adrienn zaklatásnak van kitéve.</td>\n",
       "      <td>A lány nemrég elárulta, már a buszon is lecigá...</td>\n",
       "      <td>kisalfold.hu</td>\n",
       "      <td>http://www.kisalfold.hu/szorakozas/leciganyozz...</td>\n",
       "      <td>2011-03-11T09:45:00</td>\n",
       "      <td>2017-03-26T12:12:27</td>\n",
       "      <td>bulvárketrec</td>\n",
       "      <td>0.405999</td>\n",
       "      <td>2</td>\n",
       "      <td>1</td>\n",
       "    </tr>\n",
       "    <tr>\n",
       "      <th>4</th>\n",
       "      <td>Megtalálták a legendák hatalmas folyóját</td>\n",
       "      <td>Miért omlott össze az ókor egyik legnagyobb, d...</td>\n",
       "      <td>Az Indus-völgyi kultúra - más néven Harappa-ci...</td>\n",
       "      <td>origo.hu</td>\n",
       "      <td>http://www.origo.hu/tudomany/20120529-indus-ha...</td>\n",
       "      <td>2012-05-30T10:35:00</td>\n",
       "      <td>2018-05-24T19:49:06</td>\n",
       "      <td>Egyiptom</td>\n",
       "      <td>0.759946</td>\n",
       "      <td>2</td>\n",
       "      <td>1</td>\n",
       "    </tr>\n",
       "  </tbody>\n",
       "</table>\n",
       "</div>"
      ],
      "text/plain": [
       "                                               title  \\\n",
       "0  Az üzleti szféra üzenete Orbánnak: első a gazd...   \n",
       "1       Gyenge teljesítmény a francia ipari óriástól   \n",
       "2  Az üzleti szféra üzenete Orbánnak: első a gazd...   \n",
       "3  Lecigányozzák az utcán Béci párját a VV-sztár ...   \n",
       "4           Megtalálták a legendák hatalmas folyóját   \n",
       "\n",
       "                                                lead  \\\n",
       "0  A gazdasági érdekvédelmi szervezetek vezetői m...   \n",
       "1  A cég nettó nyeresége március 31-ével zárult ü...   \n",
       "2  A gazdasági érdekvédelmi szervezetek vezetői m...   \n",
       "3        Béci párja, Adrienn zaklatásnak van kitéve.   \n",
       "4  Miért omlott össze az ókor egyik legnagyobb, d...   \n",
       "\n",
       "                                             article        domain  \\\n",
       "0  Legelőször is a gazdaságot kell rendbe hozni, ...        hvg.hu   \n",
       "1  A cég nettó nyeresége március 31-ével zárult ü...        hvg.hu   \n",
       "2  Legelőször is a gazdaságot kell rendbe hozni, ...        hvg.hu   \n",
       "3  A lány nemrég elárulta, már a buszon is lecigá...  kisalfold.hu   \n",
       "4  Az Indus-völgyi kultúra - más néven Harappa-ci...      origo.hu   \n",
       "\n",
       "                                                 url     date_of_creation  \\\n",
       "0  https://hvg.hu/gazdasag/20100510_uzleti_szfera...  2010-05-11T06:30:00   \n",
       "1       https://hvg.hu/kkv/20110504_alstom/nyomtatas  2011-05-04T12:06:00   \n",
       "2  https://hvg.hu/gazdasag/20100510_uzleti_szfera...  2010-05-11T06:30:00   \n",
       "3  http://www.kisalfold.hu/szorakozas/leciganyozz...  2011-03-11T09:45:00   \n",
       "4  http://www.origo.hu/tudomany/20120529-indus-ha...  2012-05-30T10:35:00   \n",
       "\n",
       "               cc_date                                       tags  \\\n",
       "0  2020-08-05T22:42:30                                       MKIK   \n",
       "1  2021-02-28T21:06:29                            Alstom eredmény   \n",
       "2  2020-08-05T22:42:30  Német-Magyar Ipari és Kereskedelmi Kamara   \n",
       "3  2017-03-26T12:12:27                               bulvárketrec   \n",
       "4  2018-05-24T19:49:06                                   Egyiptom   \n",
       "\n",
       "   doc_similarity  major_topic_pred  major_topic_pred_index  \n",
       "0        0.560493                 1                       0  \n",
       "1        0.867125                 1                       0  \n",
       "2        0.560493                 1                       0  \n",
       "3        0.405999                 2                       1  \n",
       "4        0.759946                 2                       1  "
      ]
     },
     "execution_count": 7,
     "metadata": {},
     "output_type": "execute_result"
    }
   ],
   "source": [
    "df_test.head()"
   ]
  },
  {
   "cell_type": "code",
   "execution_count": 8,
   "metadata": {},
   "outputs": [
    {
     "data": {
      "text/html": [
       "<div>\n",
       "<style scoped>\n",
       "    .dataframe tbody tr th:only-of-type {\n",
       "        vertical-align: middle;\n",
       "    }\n",
       "\n",
       "    .dataframe tbody tr th {\n",
       "        vertical-align: top;\n",
       "    }\n",
       "\n",
       "    .dataframe thead th {\n",
       "        text-align: right;\n",
       "    }\n",
       "</style>\n",
       "<table border=\"1\" class=\"dataframe\">\n",
       "  <thead>\n",
       "    <tr style=\"text-align: right;\">\n",
       "      <th></th>\n",
       "      <th>title</th>\n",
       "      <th>lead</th>\n",
       "      <th>article</th>\n",
       "      <th>domain</th>\n",
       "      <th>url</th>\n",
       "      <th>date_of_creation</th>\n",
       "      <th>cc_date</th>\n",
       "      <th>tags</th>\n",
       "      <th>doc_similarity</th>\n",
       "      <th>major_topic_pred</th>\n",
       "      <th>major_topic_pred_index</th>\n",
       "    </tr>\n",
       "  </thead>\n",
       "  <tbody>\n",
       "    <tr>\n",
       "      <th>0</th>\n",
       "      <td>Százmilliárdokkal több EU-s pénzt költhetünk a...</td>\n",
       "      <td>Már ha tartósan marad a mostani magas euróárfo...</td>\n",
       "      <td>Ha a forint tartósan 330-as szinten ragad az e...</td>\n",
       "      <td>24.hu</td>\n",
       "      <td>https://24.hu/belfold/2018/07/05/szazmilliardo...</td>\n",
       "      <td>2018-07-05T10:50:00</td>\n",
       "      <td>2018-11-18T02:13:24</td>\n",
       "      <td>árfolyam</td>\n",
       "      <td>0.666326</td>\n",
       "      <td>1</td>\n",
       "      <td>0</td>\n",
       "    </tr>\n",
       "    <tr>\n",
       "      <th>1</th>\n",
       "      <td>Orbán ellentmondott Matolcsynak</td>\n",
       "      <td>Orbán Viktor szerint a gazdasági növekedéssel ...</td>\n",
       "      <td>Orbán Viktor miniszterelnök szerint a gazdaság...</td>\n",
       "      <td>origo.hu</td>\n",
       "      <td>https://www.origo.hu/gazdasag/20141031-orban-e...</td>\n",
       "      <td>2014-10-31T11:43:00</td>\n",
       "      <td>2019-08-26T02:13:49</td>\n",
       "      <td>államadósság</td>\n",
       "      <td>0.869738</td>\n",
       "      <td>1</td>\n",
       "      <td>0</td>\n",
       "    </tr>\n",
       "    <tr>\n",
       "      <th>2</th>\n",
       "      <td>Alapos megütötték a bitcoint - Az amerikai tőz...</td>\n",
       "      <td>A hétvégi G7-csúcstalálkozó nagy adómegállapod...</td>\n",
       "      <td>2021. június 08. 22:45\\n\\nNem volt egységes ir...</td>\n",
       "      <td>portfolio.hu</td>\n",
       "      <td>https://www.portfolio.hu/uzlet/20210608/alapos...</td>\n",
       "      <td>2021-06-08T22:45:00</td>\n",
       "      <td>2021-06-15T04:20:35</td>\n",
       "      <td>otp</td>\n",
       "      <td>0.620573</td>\n",
       "      <td>1</td>\n",
       "      <td>0</td>\n",
       "    </tr>\n",
       "    <tr>\n",
       "      <th>3</th>\n",
       "      <td>Az Európai Parlament úgy döntött, hogy ezentúl...</td>\n",
       "      <td>A Gyurcsány-párt, a radikális baloldali Moment...</td>\n",
       "      <td>Szülhetnek a férfiak is – egyebek mellett ezt ...</td>\n",
       "      <td>origo.hu</td>\n",
       "      <td>https://www.origo.hu/nagyvilag/20210625-magyar...</td>\n",
       "      <td>2021-06-25T23:40:00</td>\n",
       "      <td>2022-05-24T11:54:03</td>\n",
       "      <td>Predrag Fred Matic</td>\n",
       "      <td>0.677065</td>\n",
       "      <td>2</td>\n",
       "      <td>1</td>\n",
       "    </tr>\n",
       "    <tr>\n",
       "      <th>4</th>\n",
       "      <td>Szalay Gábor iratai tűntek el a BM-ből</td>\n",
       "      <td>Az Index információit megerősítve Szalay Gábor...</td>\n",
       "      <td>Szalay Gábor a '70-es évek végétől a '80-as év...</td>\n",
       "      <td>index.hu</td>\n",
       "      <td>http://index.hu/belfold/szalay0906/</td>\n",
       "      <td>2002-09-06T12:44:00</td>\n",
       "      <td>2017-04-23T18:10:49</td>\n",
       "      <td>Belföld</td>\n",
       "      <td>0.771706</td>\n",
       "      <td>2</td>\n",
       "      <td>1</td>\n",
       "    </tr>\n",
       "  </tbody>\n",
       "</table>\n",
       "</div>"
      ],
      "text/plain": [
       "                                               title  \\\n",
       "0  Százmilliárdokkal több EU-s pénzt költhetünk a...   \n",
       "1                    Orbán ellentmondott Matolcsynak   \n",
       "2  Alapos megütötték a bitcoint - Az amerikai tőz...   \n",
       "3  Az Európai Parlament úgy döntött, hogy ezentúl...   \n",
       "4             Szalay Gábor iratai tűntek el a BM-ből   \n",
       "\n",
       "                                                lead  \\\n",
       "0  Már ha tartósan marad a mostani magas euróárfo...   \n",
       "1  Orbán Viktor szerint a gazdasági növekedéssel ...   \n",
       "2  A hétvégi G7-csúcstalálkozó nagy adómegállapod...   \n",
       "3  A Gyurcsány-párt, a radikális baloldali Moment...   \n",
       "4  Az Index információit megerősítve Szalay Gábor...   \n",
       "\n",
       "                                             article        domain  \\\n",
       "0  Ha a forint tartósan 330-as szinten ragad az e...         24.hu   \n",
       "1  Orbán Viktor miniszterelnök szerint a gazdaság...      origo.hu   \n",
       "2  2021. június 08. 22:45\\n\\nNem volt egységes ir...  portfolio.hu   \n",
       "3  Szülhetnek a férfiak is – egyebek mellett ezt ...      origo.hu   \n",
       "4  Szalay Gábor a '70-es évek végétől a '80-as év...      index.hu   \n",
       "\n",
       "                                                 url     date_of_creation  \\\n",
       "0  https://24.hu/belfold/2018/07/05/szazmilliardo...  2018-07-05T10:50:00   \n",
       "1  https://www.origo.hu/gazdasag/20141031-orban-e...  2014-10-31T11:43:00   \n",
       "2  https://www.portfolio.hu/uzlet/20210608/alapos...  2021-06-08T22:45:00   \n",
       "3  https://www.origo.hu/nagyvilag/20210625-magyar...  2021-06-25T23:40:00   \n",
       "4                http://index.hu/belfold/szalay0906/  2002-09-06T12:44:00   \n",
       "\n",
       "               cc_date                tags  doc_similarity  major_topic_pred  \\\n",
       "0  2018-11-18T02:13:24            árfolyam        0.666326                 1   \n",
       "1  2019-08-26T02:13:49        államadósság        0.869738                 1   \n",
       "2  2021-06-15T04:20:35                 otp        0.620573                 1   \n",
       "3  2022-05-24T11:54:03  Predrag Fred Matic        0.677065                 2   \n",
       "4  2017-04-23T18:10:49             Belföld        0.771706                 2   \n",
       "\n",
       "   major_topic_pred_index  \n",
       "0                       0  \n",
       "1                       0  \n",
       "2                       0  \n",
       "3                       1  \n",
       "4                       1  "
      ]
     },
     "execution_count": 8,
     "metadata": {},
     "output_type": "execute_result"
    }
   ],
   "source": [
    "df_eval.head()"
   ]
  },
  {
   "cell_type": "code",
   "execution_count": 9,
   "metadata": {},
   "outputs": [
    {
     "data": {
      "text/plain": [
       "({0: 1,\n",
       "  1: 2,\n",
       "  2: 3,\n",
       "  3: 4,\n",
       "  4: 5,\n",
       "  5: 6,\n",
       "  6: 7,\n",
       "  7: 8,\n",
       "  8: 9,\n",
       "  9: 10,\n",
       "  10: 12,\n",
       "  11: 13,\n",
       "  12: 14,\n",
       "  13: 15,\n",
       "  14: 16,\n",
       "  15: 17,\n",
       "  16: 18,\n",
       "  17: 19,\n",
       "  18: 20,\n",
       "  19: 21,\n",
       "  20: 23,\n",
       "  21: 999},\n",
       " {1: 0,\n",
       "  2: 1,\n",
       "  3: 2,\n",
       "  4: 3,\n",
       "  5: 4,\n",
       "  6: 5,\n",
       "  7: 6,\n",
       "  8: 7,\n",
       "  9: 8,\n",
       "  10: 9,\n",
       "  12: 10,\n",
       "  13: 11,\n",
       "  14: 12,\n",
       "  15: 13,\n",
       "  16: 14,\n",
       "  17: 15,\n",
       "  18: 16,\n",
       "  19: 17,\n",
       "  20: 18,\n",
       "  21: 19,\n",
       "  23: 20,\n",
       "  999: 21})"
      ]
     },
     "execution_count": 9,
     "metadata": {},
     "output_type": "execute_result"
    }
   ],
   "source": [
    "id_to_label, label_to_id"
   ]
  },
  {
   "cell_type": "code",
   "execution_count": 10,
   "metadata": {},
   "outputs": [],
   "source": [
    "BERT_MODEL_NAME = 'bert-base-uncased'\n",
    "tokenizer = BertTokenizer.from_pretrained(BERT_MODEL_NAME, return_tensors='pt')"
   ]
  },
  {
   "cell_type": "code",
   "execution_count": 11,
   "metadata": {},
   "outputs": [
    {
     "name": "stdout",
     "output_type": "stream",
     "text": [
      "A gyár nettó profitja 439 millió euróra csökkent az elõzõ év harmadik negyedévében elért 903 millió euróhoz képest. Értékesítési árbevétele ezzel szemben 21,2 milliárd euróra emelkedett, ami 2,2 százalékos növekedést jelent.\n",
      "\n",
      "A német autógyár, amely olyan autómárkákat birtokol, mint az Audi, Seat, Skoda és a VW, nyereségének csökkenését az európai, illetve észak- és dél amerikai piacokon tapasztalható, idõsödõ modelljei iránti keresletcsökkenéssel magyarázta.\n",
      "\n",
      "(Üzleti Negyed)\n",
      "\n",
      "Ajánlat:\n",
      "\n",
      "Volkswagen\n",
      "\n",
      "Korábban:\n",
      "\n",
      "Csökkentette profit-elõrejelzését a Volkswagen\n",
      "(2002. július 30.)\n",
      "label:  0\n"
     ]
    }
   ],
   "source": [
    "sample_row = df_train.iloc[0]\n",
    "sample_article = sample_row[ARTICLE]\n",
    "sample_label = sample_row[LABEL]\n",
    "\n",
    "print(sample_article)\n",
    "print(\"label: \", sample_label)"
   ]
  },
  {
   "cell_type": "code",
   "execution_count": 12,
   "metadata": {},
   "outputs": [
    {
     "data": {
      "text/plain": [
       "dict_keys(['input_ids', 'attention_mask'])"
      ]
     },
     "execution_count": 12,
     "metadata": {},
     "output_type": "execute_result"
    }
   ],
   "source": [
    "encoding = tokenizer.encode_plus(\n",
    "  sample_article,\n",
    "  add_special_tokens=True,\n",
    "  max_length=1024,\n",
    "  return_token_type_ids=False,\n",
    "  padding=\"max_length\",\n",
    "  return_attention_mask=True,\n",
    "  return_tensors='pt',\n",
    ")\n",
    "\n",
    "encoding.keys()"
   ]
  },
  {
   "cell_type": "code",
   "execution_count": 13,
   "metadata": {},
   "outputs": [
    {
     "data": {
      "text/plain": [
       "(torch.Size([1, 1024]), torch.Size([1, 1024]))"
      ]
     },
     "execution_count": 13,
     "metadata": {},
     "output_type": "execute_result"
    }
   ],
   "source": [
    "encoding[\"input_ids\"].shape, encoding[\"attention_mask\"].shape"
   ]
  },
  {
   "cell_type": "code",
   "execution_count": 14,
   "metadata": {},
   "outputs": [
    {
     "name": "stdout",
     "output_type": "stream",
     "text": [
      "['[CLS]', 'a', 'g', '##yar', 'net', '##to', 'profit', '##ja', '43', '##9', 'mill', '##io', 'euro', '##ra', 'cs', '##ok', '##ken', '##t', 'az', 'el']\n"
     ]
    }
   ],
   "source": [
    "print(tokenizer.convert_ids_to_tokens(encoding[\"input_ids\"].squeeze())[:20])"
   ]
  },
  {
   "cell_type": "code",
   "execution_count": 15,
   "metadata": {},
   "outputs": [],
   "source": [
    "token_counts = []\n",
    "\n",
    "for _, row in df_train.iterrows():\n",
    "    token_count = len(tokenizer.encode(\n",
    "        row[ARTICLE], \n",
    "        max_length=512, \n",
    "        truncation=True\n",
    "    ))\n",
    "    token_counts.append(token_count)"
   ]
  },
  {
   "cell_type": "code",
   "execution_count": 16,
   "metadata": {},
   "outputs": [
    {
     "data": {
      "image/png": "[encoded data removed]",
      "text/plain": [
       "<Figure size 640x480 with 1 Axes>"
      ]
     },
     "metadata": {},
     "output_type": "display_data"
    }
   ],
   "source": [
    "sns.histplot(token_counts)\n",
    "plt.xlim([0, 512]);"
   ]
  },
  {
   "cell_type": "code",
   "execution_count": 17,
   "metadata": {},
   "outputs": [],
   "source": [
    "MAX_TOKEN_COUNT = 512"
   ]
  },
  {
   "cell_type": "code",
   "execution_count": 18,
   "metadata": {},
   "outputs": [
    {
     "data": {
      "text/plain": [
       "dict_keys(['article', 'input_ids', 'attention_mask', 'label'])"
      ]
     },
     "execution_count": 18,
     "metadata": {},
     "output_type": "execute_result"
    }
   ],
   "source": [
    "\n",
    "\n",
    "train_dataset = ArticleDataset(\n",
    "  df_train,\n",
    "  tokenizer,\n",
    "  max_token_len=MAX_TOKEN_COUNT\n",
    ")\n",
    "\n",
    "sample_item = train_dataset[0]\n",
    "sample_item.keys()"
   ]
  },
  {
   "cell_type": "code",
   "execution_count": 19,
   "metadata": {},
   "outputs": [
    {
     "data": {
      "text/plain": [
       "{'article': 'A gyár nettó profitja 439 millió euróra csökkent az elõzõ év harmadik negyedévében elért 903 millió euróhoz képest. Értékesítési árbevétele ezzel szemben 21,2 milliárd euróra emelkedett, ami 2,2 százalékos növekedést jelent.\\n\\nA német autógyár, amely olyan autómárkákat birtokol, mint az Audi, Seat, Skoda és a VW, nyereségének csökkenését az európai, illetve észak- és dél amerikai piacokon tapasztalható, idõsödõ modelljei iránti keresletcsökkenéssel magyarázta.\\n\\n(Üzleti Negyed)\\n\\nAjánlat:\\n\\nVolkswagen\\n\\nKorábban:\\n\\nCsökkentette profit-elõrejelzését a Volkswagen\\n(2002. július 30.)',\n",
       " 'input_ids': tensor([  101,  1037,  1043, 13380,  5658,  3406,  5618,  3900,  4724,  2683,\n",
       "          4971,  3695,  9944,  2527, 20116,  6559,  7520,  2102, 17207,  3449,\n",
       "         18153,  2080, 23408,  7386, 17190,  2243, 11265,  6292, 14728,  3726,\n",
       "         10609,  3449,  8743,  3938,  2509,  4971,  3695,  9944,  6806,  2480,\n",
       "         17710, 10374,  2102,  1012,  9413, 23125,  2229,  7616,  2072, 12098,\n",
       "          4783, 19510, 12260,  1041, 13213,  2884,  1055,  4371, 18552,  2078,\n",
       "          2538,  1010,  1016,  4971, 14619,  9944,  2527,  7861,  2884,  8126,\n",
       "          6582,  1010, 26445,  1016,  1010,  1016,  1055,  4143, 16739,  5937,\n",
       "          2891, 13292, 23941,  6155,  2102, 15333, 16136,  1012,  1037, 11265,\n",
       "         11368,  8285,  6292,  2906,  1010,  2572, 26006, 19330,  7054,  8285,\n",
       "         10665, 11905,  2102, 12170,  5339, 16366,  2140,  1010, 12927, 17207,\n",
       "         20075,  1010,  2835,  1010, 15315, 13390,  9686,  1037,  1058,  2860,\n",
       "          1010,  6396, 18702, 24746,  2638,  2243, 20116,  6559,  7520,  6810,\n",
       "          2102, 17207, 12124,  2072,  1010,  5665,  3388,  3726,  9686, 20685,\n",
       "          1011,  9686,  3972,  2572, 27350,  4886, 24624,  3597, 19648, 11112,\n",
       "          3022,  2480,  9080, 12707,  2080,  1010,  8909, 19137,  3527,  2944,\n",
       "          2140,  6460,  2072,  4238,  3775, 17710,  6072,  7485,  6169,  6559,\n",
       "          7520,  7971,  2884, 23848, 13380, 10936,  2696,  1012,  1006,  1057,\n",
       "         29247,  3775, 11265,  6292,  2098,  1007, 19128,  2319, 20051,  1024,\n",
       "         18817, 12849,  2527, 22414,  2078,  1024, 20116,  6559,  7520, 22513,\n",
       "          2618,  5618,  1011,  3449,  5686,  6460, 23858,  6810,  2102,  1037,\n",
       "         18817,  1006,  2526,  1012, 10396,  2382,  1012,  1007,   102,     0,\n",
       "             0,     0,     0,     0,     0,     0,     0,     0,     0,     0,\n",
       "             0,     0,     0,     0,     0,     0,     0,     0,     0,     0,\n",
       "             0,     0,     0,     0,     0,     0,     0,     0,     0,     0,\n",
       "             0,     0,     0,     0,     0,     0,     0,     0,     0,     0,\n",
       "             0,     0,     0,     0,     0,     0,     0,     0,     0,     0,\n",
       "             0,     0,     0,     0,     0,     0,     0,     0,     0,     0,\n",
       "             0,     0,     0,     0,     0,     0,     0,     0,     0,     0,\n",
       "             0,     0,     0,     0,     0,     0,     0,     0,     0,     0,\n",
       "             0,     0,     0,     0,     0,     0,     0,     0,     0,     0,\n",
       "             0,     0,     0,     0,     0,     0,     0,     0,     0,     0,\n",
       "             0,     0,     0,     0,     0,     0,     0,     0,     0,     0,\n",
       "             0,     0,     0,     0,     0,     0,     0,     0,     0,     0,\n",
       "             0,     0,     0,     0,     0,     0,     0,     0,     0,     0,\n",
       "             0,     0,     0,     0,     0,     0,     0,     0,     0,     0,\n",
       "             0,     0,     0,     0,     0,     0,     0,     0,     0,     0,\n",
       "             0,     0,     0,     0,     0,     0,     0,     0,     0,     0,\n",
       "             0,     0,     0,     0,     0,     0,     0,     0,     0,     0,\n",
       "             0,     0,     0,     0,     0,     0,     0,     0,     0,     0,\n",
       "             0,     0,     0,     0,     0,     0,     0,     0,     0,     0,\n",
       "             0,     0,     0,     0,     0,     0,     0,     0,     0,     0,\n",
       "             0,     0,     0,     0,     0,     0,     0,     0,     0,     0,\n",
       "             0,     0,     0,     0,     0,     0,     0,     0,     0,     0,\n",
       "             0,     0,     0,     0,     0,     0,     0,     0,     0,     0,\n",
       "             0,     0,     0,     0,     0,     0,     0,     0,     0,     0,\n",
       "             0,     0,     0,     0,     0,     0,     0,     0,     0,     0,\n",
       "             0,     0,     0,     0,     0,     0,     0,     0,     0,     0,\n",
       "             0,     0,     0,     0,     0,     0,     0,     0,     0,     0,\n",
       "             0,     0,     0,     0,     0,     0,     0,     0,     0,     0,\n",
       "             0,     0,     0,     0,     0,     0,     0,     0,     0,     0,\n",
       "             0,     0]),\n",
       " 'attention_mask': tensor([1, 1, 1, 1, 1, 1, 1, 1, 1, 1, 1, 1, 1, 1, 1, 1, 1, 1, 1, 1, 1, 1, 1, 1,\n",
       "         1, 1, 1, 1, 1, 1, 1, 1, 1, 1, 1, 1, 1, 1, 1, 1, 1, 1, 1, 1, 1, 1, 1, 1,\n",
       "         1, 1, 1, 1, 1, 1, 1, 1, 1, 1, 1, 1, 1, 1, 1, 1, 1, 1, 1, 1, 1, 1, 1, 1,\n",
       "         1, 1, 1, 1, 1, 1, 1, 1, 1, 1, 1, 1, 1, 1, 1, 1, 1, 1, 1, 1, 1, 1, 1, 1,\n",
       "         1, 1, 1, 1, 1, 1, 1, 1, 1, 1, 1, 1, 1, 1, 1, 1, 1, 1, 1, 1, 1, 1, 1, 1,\n",
       "         1, 1, 1, 1, 1, 1, 1, 1, 1, 1, 1, 1, 1, 1, 1, 1, 1, 1, 1, 1, 1, 1, 1, 1,\n",
       "         1, 1, 1, 1, 1, 1, 1, 1, 1, 1, 1, 1, 1, 1, 1, 1, 1, 1, 1, 1, 1, 1, 1, 1,\n",
       "         1, 1, 1, 1, 1, 1, 1, 1, 1, 1, 1, 1, 1, 1, 1, 1, 1, 1, 1, 1, 1, 1, 1, 1,\n",
       "         1, 1, 1, 1, 1, 1, 1, 1, 1, 1, 1, 1, 1, 1, 1, 1, 1, 1, 1, 1, 1, 1, 1, 1,\n",
       "         1, 1, 1, 0, 0, 0, 0, 0, 0, 0, 0, 0, 0, 0, 0, 0, 0, 0, 0, 0, 0, 0, 0, 0,\n",
       "         0, 0, 0, 0, 0, 0, 0, 0, 0, 0, 0, 0, 0, 0, 0, 0, 0, 0, 0, 0, 0, 0, 0, 0,\n",
       "         0, 0, 0, 0, 0, 0, 0, 0, 0, 0, 0, 0, 0, 0, 0, 0, 0, 0, 0, 0, 0, 0, 0, 0,\n",
       "         0, 0, 0, 0, 0, 0, 0, 0, 0, 0, 0, 0, 0, 0, 0, 0, 0, 0, 0, 0, 0, 0, 0, 0,\n",
       "         0, 0, 0, 0, 0, 0, 0, 0, 0, 0, 0, 0, 0, 0, 0, 0, 0, 0, 0, 0, 0, 0, 0, 0,\n",
       "         0, 0, 0, 0, 0, 0, 0, 0, 0, 0, 0, 0, 0, 0, 0, 0, 0, 0, 0, 0, 0, 0, 0, 0,\n",
       "         0, 0, 0, 0, 0, 0, 0, 0, 0, 0, 0, 0, 0, 0, 0, 0, 0, 0, 0, 0, 0, 0, 0, 0,\n",
       "         0, 0, 0, 0, 0, 0, 0, 0, 0, 0, 0, 0, 0, 0, 0, 0, 0, 0, 0, 0, 0, 0, 0, 0,\n",
       "         0, 0, 0, 0, 0, 0, 0, 0, 0, 0, 0, 0, 0, 0, 0, 0, 0, 0, 0, 0, 0, 0, 0, 0,\n",
       "         0, 0, 0, 0, 0, 0, 0, 0, 0, 0, 0, 0, 0, 0, 0, 0, 0, 0, 0, 0, 0, 0, 0, 0,\n",
       "         0, 0, 0, 0, 0, 0, 0, 0, 0, 0, 0, 0, 0, 0, 0, 0, 0, 0, 0, 0, 0, 0, 0, 0,\n",
       "         0, 0, 0, 0, 0, 0, 0, 0, 0, 0, 0, 0, 0, 0, 0, 0, 0, 0, 0, 0, 0, 0, 0, 0,\n",
       "         0, 0, 0, 0, 0, 0, 0, 0]),\n",
       " 'label': tensor(0)}"
      ]
     },
     "execution_count": 19,
     "metadata": {},
     "output_type": "execute_result"
    }
   ],
   "source": [
    "sample_item"
   ]
  },
  {
   "cell_type": "code",
   "execution_count": 20,
   "metadata": {},
   "outputs": [],
   "source": [
    "MAX_LEN = 512\n",
    "BATCH_SIZE = 8\n",
    "EPOCHS = 30\n",
    "\n",
    "def create_dataloader(df, tokenizer, max_token_len, batch_size):\n",
    "    dataset = ArticleDataset(\n",
    "        df,\n",
    "        tokenizer=tokenizer,\n",
    "        max_token_len=max_token_len\n",
    "    )\n",
    "\n",
    "    return DataLoader(\n",
    "        dataset,\n",
    "        batch_size=batch_size,\n",
    "        num_workers=1\n",
    "    )"
   ]
  },
  {
   "cell_type": "code",
   "execution_count": 21,
   "metadata": {},
   "outputs": [],
   "source": [
    "data_loader_train = create_dataloader(df_train, tokenizer, MAX_LEN, BATCH_SIZE)\n",
    "data_loader_test = create_dataloader(df_test, tokenizer, MAX_LEN, BATCH_SIZE)\n",
    "data_loader_eval = create_dataloader(df_eval, tokenizer, MAX_LEN, BATCH_SIZE)"
   ]
  },
  {
   "cell_type": "code",
   "execution_count": 22,
   "metadata": {},
   "outputs": [
    {
     "name": "stderr",
     "output_type": "stream",
     "text": [
      "Some weights of the model checkpoint at bert-base-uncased were not used when initializing BertForSequenceClassification: ['cls.predictions.bias', 'cls.predictions.transform.dense.bias', 'cls.seq_relationship.bias', 'cls.predictions.transform.dense.weight', 'cls.predictions.transform.LayerNorm.bias', 'cls.predictions.transform.LayerNorm.weight', 'cls.seq_relationship.weight']\n",
      "- This IS expected if you are initializing BertForSequenceClassification from the checkpoint of a model trained on another task or with another architecture (e.g. initializing a BertForSequenceClassification model from a BertForPreTraining model).\n",
      "- This IS NOT expected if you are initializing BertForSequenceClassification from the checkpoint of a model that you expect to be exactly identical (initializing a BertForSequenceClassification model from a BertForSequenceClassification model).\n",
      "Some weights of BertForSequenceClassification were not initialized from the model checkpoint at bert-base-uncased and are newly initialized: ['classifier.weight', 'classifier.bias']\n",
      "You should probably TRAIN this model on a down-stream task to be able to use it for predictions and inference.\n"
     ]
    }
   ],
   "source": [
    "model = BertForSequenceClassification.from_pretrained(BERT_MODEL_NAME, return_dict=True, num_labels=number_of_labels)\n",
    "model = model.to(device)"
   ]
  },
  {
   "cell_type": "code",
   "execution_count": 23,
   "metadata": {},
   "outputs": [
    {
     "name": "stdout",
     "output_type": "stream",
     "text": [
      "Epoch: 0, Loss: 3.602229595184326 Accuracy: 0.07575757575757576\n",
      "Epoch: 1, Loss: 3.3442320823669434 Accuracy: 0.06060606060606061\n",
      "Epoch: 2, Loss: 4.034048080444336 Accuracy: 0.015151515151515152\n",
      "Epoch: 3, Loss: 3.675258159637451 Accuracy: 0.03787878787878788\n",
      "Epoch: 4, Loss: 3.088538646697998 Accuracy: 0.045454545454545456\n",
      "Epoch: 5, Loss: 3.0685713291168213 Accuracy: 0.06818181818181818\n",
      "Epoch: 6, Loss: 2.8585987091064453 Accuracy: 0.10606060606060606\n",
      "Epoch: 7, Loss: 2.9035112857818604 Accuracy: 0.11363636363636363\n",
      "Epoch: 8, Loss: 2.681871175765991 Accuracy: 0.12121212121212122\n",
      "Epoch: 9, Loss: 2.992171287536621 Accuracy: 0.09848484848484848\n",
      "Epoch: 10, Loss: 2.713641405105591 Accuracy: 0.10606060606060606\n",
      "Epoch: 11, Loss: 2.52909517288208 Accuracy: 0.16666666666666666\n",
      "Epoch: 12, Loss: 2.757678985595703 Accuracy: 0.12878787878787878\n",
      "Epoch: 13, Loss: 2.1385388374328613 Accuracy: 0.19696969696969696\n",
      "Epoch: 14, Loss: 2.5283992290496826 Accuracy: 0.1893939393939394\n",
      "Epoch: 15, Loss: 2.190669298171997 Accuracy: 0.21212121212121213\n",
      "Epoch: 16, Loss: 2.1311604976654053 Accuracy: 0.2727272727272727\n",
      "Epoch: 17, Loss: 1.924656867980957 Accuracy: 0.25757575757575757\n",
      "Epoch: 18, Loss: 1.6989775896072388 Accuracy: 0.3712121212121212\n",
      "Epoch: 19, Loss: 1.6404939889907837 Accuracy: 0.3409090909090909\n",
      "Epoch: 20, Loss: 1.5842698812484741 Accuracy: 0.4393939393939394\n",
      "Epoch: 21, Loss: 1.4576008319854736 Accuracy: 0.38636363636363635\n",
      "Epoch: 22, Loss: 1.5100080966949463 Accuracy: 0.4393939393939394\n",
      "Epoch: 23, Loss: 1.3259408473968506 Accuracy: 0.5757575757575758\n",
      "Epoch: 24, Loss: 1.2020970582962036 Accuracy: 0.6136363636363636\n",
      "Epoch: 25, Loss: 1.093813180923462 Accuracy: 0.5606060606060606\n",
      "Epoch: 26, Loss: 0.9885611534118652 Accuracy: 0.696969696969697\n",
      "Epoch: 27, Loss: 1.0349563360214233 Accuracy: 0.7348484848484849\n",
      "Epoch: 28, Loss: 0.8979540467262268 Accuracy: 0.7045454545454546\n",
      "Epoch: 29, Loss: 0.8614882230758667 Accuracy: 0.7348484848484849\n"
     ]
    }
   ],
   "source": [
    "criterion = nn.CrossEntropyLoss()\n",
    "optimizer = optim.Adam(model.parameters(), lr=1e-5)\n",
    "accuracy_per_epoch = []\n",
    "\n",
    "for epoch in range(EPOCHS):\n",
    "    model.train()\n",
    "    total_loss = 0\n",
    "    correct_labels = 0\n",
    "    for batch in data_loader_train:\n",
    "        input_ids = batch[\"input_ids\"].to(device)\n",
    "        attention_mask = batch[\"attention_mask\"].to(device)\n",
    "        labels = batch[\"label\"].to(device)\n",
    "\n",
    "        outputs = model(input_ids=input_ids, attention_mask=attention_mask, labels=labels)\n",
    "        loss = outputs.loss\n",
    "        logits = outputs.logits\n",
    "\n",
    "        total_loss += loss.item()\n",
    "        correct_labels += (logits.argmax(dim=1) == labels).sum().item()\n",
    "\n",
    "        optimizer.zero_grad()\n",
    "        loss.backward()\n",
    "        optimizer.step()\n",
    "\n",
    "    accuacy = correct_labels / len(df_train)\n",
    "    accuracy_per_epoch.append(accuacy)\n",
    "    print(f\"Epoch: {epoch}, Loss: {loss.item()} Accuracy: {accuacy}\")"
   ]
  },
  {
   "cell_type": "code",
   "execution_count": 24,
   "metadata": {},
   "outputs": [
    {
     "data": {
      "text/plain": [
       "[0.07575757575757576,\n",
       " 0.06060606060606061,\n",
       " 0.015151515151515152,\n",
       " 0.03787878787878788,\n",
       " 0.045454545454545456,\n",
       " 0.06818181818181818,\n",
       " 0.10606060606060606,\n",
       " 0.11363636363636363,\n",
       " 0.12121212121212122,\n",
       " 0.09848484848484848,\n",
       " 0.10606060606060606,\n",
       " 0.16666666666666666,\n",
       " 0.12878787878787878,\n",
       " 0.19696969696969696,\n",
       " 0.1893939393939394,\n",
       " 0.21212121212121213,\n",
       " 0.2727272727272727,\n",
       " 0.25757575757575757,\n",
       " 0.3712121212121212,\n",
       " 0.3409090909090909,\n",
       " 0.4393939393939394,\n",
       " 0.38636363636363635,\n",
       " 0.4393939393939394,\n",
       " 0.5757575757575758,\n",
       " 0.6136363636363636,\n",
       " 0.5606060606060606,\n",
       " 0.696969696969697,\n",
       " 0.7348484848484849,\n",
       " 0.7045454545454546,\n",
       " 0.7348484848484849]"
      ]
     },
     "execution_count": 24,
     "metadata": {},
     "output_type": "execute_result"
    }
   ],
   "source": [
    "accuracy_per_epoch"
   ]
  },
  {
   "cell_type": "code",
   "execution_count": 27,
   "metadata": {},
   "outputs": [
    {
     "data": {
      "text/plain": [
       "[<matplotlib.lines.Line2D at 0x15c7facd0>]"
      ]
     },
     "execution_count": 27,
     "metadata": {},
     "output_type": "execute_result"
    },
    {
     "data": {
      "image/png": "[encoded data removed]",
      "text/plain": [
       "<Figure size 640x480 with 1 Axes>"
      ]
     },
     "metadata": {},
     "output_type": "display_data"
    }
   ],
   "source": [
    "plt.plot(accuracy_per_epoch)"
   ]
  },
  {
   "cell_type": "code",
   "execution_count": 25,
   "metadata": {},
   "outputs": [
    {
     "name": "stdout",
     "output_type": "stream",
     "text": [
      "tensor([0, 0, 0, 0, 0, 0, 1, 1]) : tensor([0, 0, 0, 0, 0, 0, 1, 1])\n",
      "tensor([ 1, 20,  1,  1,  2,  2,  2, 13]) : tensor([1, 1, 1, 1, 2, 2, 2, 2])\n",
      "tensor([ 2,  2, 19, 19, 19, 19, 19, 19]) : tensor([2, 2, 3, 3, 3, 3, 3, 3])\n",
      "tensor([15, 21, 19, 12, 15, 15,  5,  5]) : tensor([4, 4, 4, 4, 4, 4, 5, 5])\n",
      "tensor([ 5, 13,  5, 13,  6, 21,  6,  6]) : tensor([5, 5, 5, 5, 6, 6, 6, 6])\n",
      "tensor([ 6, 21,  7,  7,  7,  7,  7,  7]) : tensor([6, 6, 7, 7, 7, 7, 7, 7])\n",
      "tensor([8, 8, 8, 8, 8, 8, 9, 9]) : tensor([8, 8, 8, 8, 8, 8, 9, 9])\n",
      "tensor([ 9,  9,  9,  9, 13, 19, 19, 20]) : tensor([ 9,  9,  9,  9, 10, 10, 10, 10])\n",
      "tensor([19, 19, 11,  0, 11, 11, 11, 11]) : tensor([10, 10, 11, 11, 11, 11, 11, 11])\n",
      "tensor([12, 19, 12, 12, 12, 12, 13, 13]) : tensor([12, 12, 12, 12, 12, 12, 13, 13])\n",
      "tensor([19, 19, 13, 19, 14, 14, 14, 14]) : tensor([13, 13, 13, 13, 14, 14, 14, 14])\n",
      "tensor([14, 14, 15, 15, 15, 15, 15, 15]) : tensor([14, 14, 15, 15, 15, 15, 15, 15])\n",
      "tensor([16, 16, 16, 16, 16, 16, 17, 17]) : tensor([16, 16, 16, 16, 16, 16, 17, 17])\n",
      "tensor([17, 17, 17, 17, 18, 18, 13, 18]) : tensor([17, 17, 17, 17, 18, 18, 18, 18])\n",
      "tensor([18, 18, 19, 19, 19, 19, 19, 19]) : tensor([18, 18, 19, 19, 19, 19, 19, 19])\n",
      "tensor([20, 20, 20, 20, 20, 20, 21, 21]) : tensor([20, 20, 20, 20, 20, 20, 21, 21])\n",
      "tensor([21, 21, 21, 21]) : tensor([21, 21, 21, 21])\n"
     ]
    }
   ],
   "source": [
    "model.eval()\n",
    "eval_loss = 0\n",
    "correct_labels = 0\n",
    "\n",
    "with torch.no_grad():\n",
    "    for batch in data_loader_train:\n",
    "        input_ids = batch[\"input_ids\"].to(device)\n",
    "        attention_mask = batch[\"attention_mask\"].to(device)\n",
    "        labels = batch[\"label\"].to(device)\n",
    "\n",
    "        outputs = model(input_ids, attention_mask=attention_mask, labels=labels)\n",
    "        loss = outputs.loss\n",
    "        logits = outputs.logits\n",
    "\n",
    "        eval_loss += loss.item()\n",
    "        #print(f\"{logits})\")\n",
    "        print(f\"{logits.argmax(dim=1)} : {labels}\")\n",
    "        correct_labels += (logits.argmax(dim=1) == labels).sum().item()"
   ]
  },
  {
   "cell_type": "code",
   "execution_count": 26,
   "metadata": {},
   "outputs": [
    {
     "name": "stdout",
     "output_type": "stream",
     "text": [
      "Evaluation Loss: 0.2286839990904837\n",
      "Accuracy: 0.7727272727272727\n"
     ]
    }
   ],
   "source": [
    "# Calculate evaluation metrics\n",
    "eval_len = len(data_loader_train.dataset)\n",
    "eval_loss /= eval_len\n",
    "accuracy = correct_labels / eval_len\n",
    "\n",
    "print(f\"Evaluation Loss: {eval_loss}\")\n",
    "print(f\"Accuracy: {accuracy}\")"
   ]
  },
  {
   "cell_type": "code",
   "execution_count": 28,
   "metadata": {},
   "outputs": [
    {
     "data": {
      "text/plain": [
       "('poltextlab-like-classification-model/tokenizer_config.json',\n",
       " 'poltextlab-like-classification-model/special_tokens_map.json',\n",
       " 'poltextlab-like-classification-model/vocab.txt',\n",
       " 'poltextlab-like-classification-model/added_tokens.json',\n",
       " 'poltextlab-like-classification-model/tokenizer.json')"
      ]
     },
     "execution_count": 28,
     "metadata": {},
     "output_type": "execute_result"
    }
   ],
   "source": [
    "model_path = 'poltextlab-like-classification-model'\n",
    "model.save_pretrained(model_path)\n",
    "tokenizer.save_pretrained(model_path)"
   ]
  },
  {
   "cell_type": "code",
   "execution_count": 31,
   "metadata": {},
   "outputs": [
    {
     "name": "stdout",
     "output_type": "stream",
     "text": [
      "1\n"
     ]
    }
   ],
   "source": [
    "# Load saved model and tokenizer\n",
    "loaded_model = BertForSequenceClassification.from_pretrained(model_path)\n",
    "loaded_tokenizer = BertTokenizer.from_pretrained(model_path)\n",
    "\n",
    "# Perform inference with the loaded model\n",
    "inputs = tokenizer(\"A gyár nettó profitja 439 millió euróra csökkent az elõzõ év harmadik negyedévében elért 903 millió euróhoz képest. Értékesítési árbevétele ezzel szemben 21,2 milliárd euróra emelkedett, ami 2,2 százalékos növekedést jelent.\"\n",
    "\"A német autógyár, amely olyan autómárkákat birtokol, mint az Audi, Seat, Skoda és a VW, nyereségének csökkenését az európai, illetve észak- és dél amerikai piacokon tapasztalható, idõsödõ modelljei iránti keresletcsökkenéssel magyarázta.\"\n",
    "\"(Üzleti Negyed)\"\n",
    "\"Ajánlat:\"\n",
    "\"Volkswagen\"\n",
    "\"Korábban:\", return_tensors=\"pt\")\n",
    "outputs = loaded_model(**inputs)\n",
    "predictions = outputs.logits\n",
    "id = torch.argmax(predictions, dim=1).item()\n",
    "print(id_to_label[id])"
   ]
  },
  {
   "cell_type": "code",
   "execution_count": null,
   "metadata": {},
   "outputs": [],
   "source": []
  }
 ],
 "metadata": {
  "kernelspec": {
   "display_name": "Python 3",
   "language": "python",
   "name": "python3"
  },
  "language_info": {
   "codemirror_mode": {
    "name": "ipython",
    "version": 3
   },
   "file_extension": ".py",
   "mimetype": "text/x-python",
   "name": "python",
   "nbconvert_exporter": "python",
   "pygments_lexer": "ipython3",
   "version": "3.11.5"
  }
 },
 "nbformat": 4,
 "nbformat_minor": 2
}
