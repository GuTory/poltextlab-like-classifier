{
 "cells": [
  {
   "cell_type": "code",
   "execution_count": 1,
   "metadata": {},
   "outputs": [],
   "source": [
    "import os\n",
    "import pandas as pd\n",
    "import numpy as np\n",
    "import gzip\n",
    "import json\n",
    "import torch\n",
    "import torch.nn as nn\n",
    "from torch.utils.data import DataLoader\n",
    "import seaborn as sns\n",
    "import matplotlib.pyplot as plt\n",
    "from tqdm import trange\n",
    "from tqdm import tqdm_notebook as tqdm\n",
    "from torch.utils.data import DataLoader\n",
    "import torch.nn as nn\n",
    "import torch.optim as optim\n",
    "from article_dataset import ArticleDataset\n",
    "\n",
    "from transformers import BertForSequenceClassification\n"
   ]
  },
  {
   "cell_type": "code",
   "execution_count": 2,
   "metadata": {},
   "outputs": [],
   "source": [
    "device = torch.device('cuda' if torch.cuda.is_available() else 'cpu')\n",
    "device\n",
    "\n",
    "if torch.cuda.is_available():\n",
    "    os.environ[\"CUDA_VISIBLE_DEVICES\"] = \"0\""
   ]
  },
  {
   "cell_type": "code",
   "execution_count": 3,
   "metadata": {},
   "outputs": [],
   "source": [
    "os.environ[\"TOKENIZERS_PARALLELISM\"] = \"false\"\n",
    "from transformers import BertTokenizerFast as BertTokenizer"
   ]
  },
  {
   "cell_type": "code",
   "execution_count": 4,
   "metadata": {},
   "outputs": [],
   "source": [
    "LABEL = 'major_topic_pred_index'\n",
    "ARTICLE = 'article'"
   ]
  },
  {
   "cell_type": "code",
   "execution_count": 5,
   "metadata": {},
   "outputs": [
    {
     "name": "stdout",
     "output_type": "stream",
     "text": [
      "RangeIndex(start=0, stop=132, step=1)\n",
      "RangeIndex(start=0, stop=66, step=1)\n",
      "RangeIndex(start=0, stop=66, step=1)\n",
      "<class 'pandas.core.frame.DataFrame'>\n",
      "RangeIndex: 66 entries, 0 to 65\n",
      "Data columns (total 11 columns):\n",
      " #   Column                  Non-Null Count  Dtype  \n",
      "---  ------                  --------------  -----  \n",
      " 0   title                   66 non-null     object \n",
      " 1   lead                    66 non-null     object \n",
      " 2   article                 66 non-null     object \n",
      " 3   domain                  66 non-null     object \n",
      " 4   url                     66 non-null     object \n",
      " 5   date_of_creation        65 non-null     object \n",
      " 6   cc_date                 66 non-null     object \n",
      " 7   tags                    66 non-null     object \n",
      " 8   doc_similarity          66 non-null     float64\n",
      " 9   major_topic_pred        66 non-null     int64  \n",
      " 10  major_topic_pred_index  66 non-null     int64  \n",
      "dtypes: float64(1), int64(2), object(8)\n",
      "memory usage: 5.8+ KB\n"
     ]
    }
   ],
   "source": [
    "def read_folder(folder_path):\n",
    "    dataframes = []\n",
    "    for filename in os.listdir(folder_path):\n",
    "        if filename.endswith('.jsonl.gz'):\n",
    "            with gzip.open(os.path.join(folder_path, filename), 'rt', encoding='utf-8') as file:\n",
    "                for line in file:\n",
    "                    json_data = json.loads(line)\n",
    "                    df = pd.DataFrame(json_data)\n",
    "                    dataframes.append(df)\n",
    "    if dataframes:\n",
    "        aggregated_df = pd.concat(dataframes, ignore_index=True)\n",
    "        return aggregated_df\n",
    "    else:\n",
    "        print(\"No jsonl files found in the directory.\")\n",
    "        return None\n",
    "    \n",
    "def reduce(_number=6):\n",
    "    # csak a test\n",
    "    test = os.path.join(os.getcwd(), 'test')\n",
    "    df = read_folder(test)\n",
    "    df.drop('uuid', axis=1, inplace=True)\n",
    "    return df.groupby('major_topic_pred').apply(lambda x: x.sample(n=min(_number, len(x)))).reset_index(drop=True)\n",
    "\n",
    "\n",
    "df_train = reduce(6)\n",
    "df_test = reduce(3)\n",
    "df_eval = reduce(3)\n",
    "\n",
    "print(df_train.index)\n",
    "print(df_test.index)\n",
    "print(df_eval.index)\n",
    "\n",
    "labels = df_train['major_topic_pred'].unique().tolist()\n",
    "number_of_labels = len(labels)\n",
    "id_to_label = {_id: label for _id, label in enumerate(labels)}\n",
    "label_to_id = {label: _id for _id, label in enumerate(labels)}\n",
    "\n",
    "\n",
    "df_train[\"major_topic_pred_index\"] = df_train['major_topic_pred'].map(lambda x: label_to_id[x])\n",
    "df_test[\"major_topic_pred_index\"] = df_test['major_topic_pred'].map(lambda x: label_to_id[x])\n",
    "df_eval[\"major_topic_pred_index\"] = df_eval['major_topic_pred'].map(lambda x: label_to_id[x])\n",
    "\n",
    "df_eval.info()"
   ]
  },
  {
   "cell_type": "code",
   "execution_count": 6,
   "metadata": {},
   "outputs": [
    {
     "data": {
      "text/html": [
       "<div>\n",
       "<style scoped>\n",
       "    .dataframe tbody tr th:only-of-type {\n",
       "        vertical-align: middle;\n",
       "    }\n",
       "\n",
       "    .dataframe tbody tr th {\n",
       "        vertical-align: top;\n",
       "    }\n",
       "\n",
       "    .dataframe thead th {\n",
       "        text-align: right;\n",
       "    }\n",
       "</style>\n",
       "<table border=\"1\" class=\"dataframe\">\n",
       "  <thead>\n",
       "    <tr style=\"text-align: right;\">\n",
       "      <th></th>\n",
       "      <th>title</th>\n",
       "      <th>lead</th>\n",
       "      <th>article</th>\n",
       "      <th>domain</th>\n",
       "      <th>url</th>\n",
       "      <th>date_of_creation</th>\n",
       "      <th>cc_date</th>\n",
       "      <th>tags</th>\n",
       "      <th>doc_similarity</th>\n",
       "      <th>major_topic_pred</th>\n",
       "      <th>major_topic_pred_index</th>\n",
       "    </tr>\n",
       "  </thead>\n",
       "  <tbody>\n",
       "    <tr>\n",
       "      <th>0</th>\n",
       "      <td>Adóegyezmények tartják itt az offshore cégeket</td>\n",
       "      <td>Noha az év elején megszűnik az offshore státus...</td>\n",
       "      <td>Voltaképpen nem uniós ügy az offshore cégek ad...</td>\n",
       "      <td>index.hu</td>\n",
       "      <td>https://index.hu/gazdasag/magyar/off051228/</td>\n",
       "      <td>2005-12-28T08:00:00</td>\n",
       "      <td>2017-12-15T06:34:55</td>\n",
       "      <td>gazdasag</td>\n",
       "      <td>0.563389</td>\n",
       "      <td>1</td>\n",
       "      <td>0</td>\n",
       "    </tr>\n",
       "    <tr>\n",
       "      <th>1</th>\n",
       "      <td>Saját hajánál fogva húzta ki magát a H&amp;M a baj...</td>\n",
       "      <td>16 év óta most nőttek a legintenzívebben a Hen...</td>\n",
       "      <td>A H&amp;M részvényei 11 százalékot lengtek ki, 2 m...</td>\n",
       "      <td>hvg.hu</td>\n",
       "      <td>https://hvg.hu/kkv/20180917_Sajat_hajanal_fogv...</td>\n",
       "      <td>2018-09-17T13:09:00</td>\n",
       "      <td>2021-05-17T03:20:24</td>\n",
       "      <td>H&amp;M</td>\n",
       "      <td>0.661749</td>\n",
       "      <td>1</td>\n",
       "      <td>0</td>\n",
       "    </tr>\n",
       "    <tr>\n",
       "      <th>2</th>\n",
       "      <td>Gyenge teljesítmény a francia ipari óriástól</td>\n",
       "      <td>A cég nettó nyeresége március 31-ével zárult ü...</td>\n",
       "      <td>A cég nettó nyeresége március 31-ével zárult ü...</td>\n",
       "      <td>hvg.hu</td>\n",
       "      <td>https://hvg.hu/kkv/20110504_alstom/nyomtatas</td>\n",
       "      <td>2011-05-04T12:06:00</td>\n",
       "      <td>2021-02-28T21:06:29</td>\n",
       "      <td>osztalék</td>\n",
       "      <td>0.867125</td>\n",
       "      <td>1</td>\n",
       "      <td>0</td>\n",
       "    </tr>\n",
       "    <tr>\n",
       "      <th>3</th>\n",
       "      <td>Tarolnak a Suzuki autói Indiában</td>\n",
       "      <td>A vártnál jobb elsõ féléves eredmények közzété...</td>\n",
       "      <td>A Magyarországon is gyártó Suzuki Motor az els...</td>\n",
       "      <td>origo.hu</td>\n",
       "      <td>https://www.origo.hu/gazdasag/20091102-vartnal...</td>\n",
       "      <td>2009-11-02T13:29:00</td>\n",
       "      <td>2019-08-21T02:03:16</td>\n",
       "      <td>gazdasági válság</td>\n",
       "      <td>0.701018</td>\n",
       "      <td>1</td>\n",
       "      <td>0</td>\n",
       "    </tr>\n",
       "    <tr>\n",
       "      <th>4</th>\n",
       "      <td>Aki hátralép, veszíthet... – Szijjártó Péter n...</td>\n",
       "      <td>„Az útépítések, a digitális infrastruktúra fej...</td>\n",
       "      <td>Egyebek mellett erről is beszélt lapunknak teg...</td>\n",
       "      <td>zaol.hu</td>\n",
       "      <td>https://www.zaol.hu/gazdasag/aki-hatralep-vesz...</td>\n",
       "      <td>2018-04-07T08:00:00</td>\n",
       "      <td>2020-08-08T17:56:29</td>\n",
       "      <td>autóipar</td>\n",
       "      <td>0.559537</td>\n",
       "      <td>1</td>\n",
       "      <td>0</td>\n",
       "    </tr>\n",
       "  </tbody>\n",
       "</table>\n",
       "</div>"
      ],
      "text/plain": [
       "                                               title  \\\n",
       "0     Adóegyezmények tartják itt az offshore cégeket   \n",
       "1  Saját hajánál fogva húzta ki magát a H&M a baj...   \n",
       "2       Gyenge teljesítmény a francia ipari óriástól   \n",
       "3                   Tarolnak a Suzuki autói Indiában   \n",
       "4  Aki hátralép, veszíthet... – Szijjártó Péter n...   \n",
       "\n",
       "                                                lead  \\\n",
       "0  Noha az év elején megszűnik az offshore státus...   \n",
       "1  16 év óta most nőttek a legintenzívebben a Hen...   \n",
       "2  A cég nettó nyeresége március 31-ével zárult ü...   \n",
       "3  A vártnál jobb elsõ féléves eredmények közzété...   \n",
       "4  „Az útépítések, a digitális infrastruktúra fej...   \n",
       "\n",
       "                                             article    domain  \\\n",
       "0  Voltaképpen nem uniós ügy az offshore cégek ad...  index.hu   \n",
       "1  A H&M részvényei 11 százalékot lengtek ki, 2 m...    hvg.hu   \n",
       "2  A cég nettó nyeresége március 31-ével zárult ü...    hvg.hu   \n",
       "3  A Magyarországon is gyártó Suzuki Motor az els...  origo.hu   \n",
       "4  Egyebek mellett erről is beszélt lapunknak teg...   zaol.hu   \n",
       "\n",
       "                                                 url     date_of_creation  \\\n",
       "0        https://index.hu/gazdasag/magyar/off051228/  2005-12-28T08:00:00   \n",
       "1  https://hvg.hu/kkv/20180917_Sajat_hajanal_fogv...  2018-09-17T13:09:00   \n",
       "2       https://hvg.hu/kkv/20110504_alstom/nyomtatas  2011-05-04T12:06:00   \n",
       "3  https://www.origo.hu/gazdasag/20091102-vartnal...  2009-11-02T13:29:00   \n",
       "4  https://www.zaol.hu/gazdasag/aki-hatralep-vesz...  2018-04-07T08:00:00   \n",
       "\n",
       "               cc_date              tags  doc_similarity  major_topic_pred  \\\n",
       "0  2017-12-15T06:34:55          gazdasag        0.563389                 1   \n",
       "1  2021-05-17T03:20:24               H&M        0.661749                 1   \n",
       "2  2021-02-28T21:06:29          osztalék        0.867125                 1   \n",
       "3  2019-08-21T02:03:16  gazdasági válság        0.701018                 1   \n",
       "4  2020-08-08T17:56:29          autóipar        0.559537                 1   \n",
       "\n",
       "   major_topic_pred_index  \n",
       "0                       0  \n",
       "1                       0  \n",
       "2                       0  \n",
       "3                       0  \n",
       "4                       0  "
      ]
     },
     "execution_count": 6,
     "metadata": {},
     "output_type": "execute_result"
    }
   ],
   "source": [
    "df_train.head()"
   ]
  },
  {
   "cell_type": "code",
   "execution_count": 7,
   "metadata": {},
   "outputs": [
    {
     "data": {
      "text/html": [
       "<div>\n",
       "<style scoped>\n",
       "    .dataframe tbody tr th:only-of-type {\n",
       "        vertical-align: middle;\n",
       "    }\n",
       "\n",
       "    .dataframe tbody tr th {\n",
       "        vertical-align: top;\n",
       "    }\n",
       "\n",
       "    .dataframe thead th {\n",
       "        text-align: right;\n",
       "    }\n",
       "</style>\n",
       "<table border=\"1\" class=\"dataframe\">\n",
       "  <thead>\n",
       "    <tr style=\"text-align: right;\">\n",
       "      <th></th>\n",
       "      <th>title</th>\n",
       "      <th>lead</th>\n",
       "      <th>article</th>\n",
       "      <th>domain</th>\n",
       "      <th>url</th>\n",
       "      <th>date_of_creation</th>\n",
       "      <th>cc_date</th>\n",
       "      <th>tags</th>\n",
       "      <th>doc_similarity</th>\n",
       "      <th>major_topic_pred</th>\n",
       "      <th>major_topic_pred_index</th>\n",
       "    </tr>\n",
       "  </thead>\n",
       "  <tbody>\n",
       "    <tr>\n",
       "      <th>0</th>\n",
       "      <td>Nem várható kamatcsökkentés egy sikeres IMF-me...</td>\n",
       "      <td>Az inflációs nyomás miatt akkor sem várható gy...</td>\n",
       "      <td>Az egyik vezetõ londoni pénzügyi elemzõház, a ...</td>\n",
       "      <td>delmagyar.hu</td>\n",
       "      <td>http://www.delmagyar.hu/belfold_hirek/nem_varh...</td>\n",
       "      <td>2012-04-24T18:13:00</td>\n",
       "      <td>2017-03-28T04:51:07</td>\n",
       "      <td>IMF</td>\n",
       "      <td>0.594582</td>\n",
       "      <td>1</td>\n",
       "      <td>0</td>\n",
       "    </tr>\n",
       "    <tr>\n",
       "      <th>1</th>\n",
       "      <td>Az üzleti szféra üzenete Orbánnak: első a gazd...</td>\n",
       "      <td>A gazdasági érdekvédelmi szervezetek vezetői m...</td>\n",
       "      <td>Legelőször is a gazdaságot kell rendbe hozni, ...</td>\n",
       "      <td>hvg.hu</td>\n",
       "      <td>https://hvg.hu/gazdasag/20100510_uzleti_szfera...</td>\n",
       "      <td>2010-05-11T06:30:00</td>\n",
       "      <td>2020-08-05T22:42:30</td>\n",
       "      <td>MKIK</td>\n",
       "      <td>0.560493</td>\n",
       "      <td>1</td>\n",
       "      <td>0</td>\n",
       "    </tr>\n",
       "    <tr>\n",
       "      <th>2</th>\n",
       "      <td>Felszabaduló nyugdíjpénzek</td>\n",
       "      <td>Az idén 180 ezer önkéntes nyugdíjpénztári tag ...</td>\n",
       "      <td>A személyi jövedelemadó összevont alapjába szá...</td>\n",
       "      <td>index.hu</td>\n",
       "      <td>https://index.hu/gazdasag/magyar/nyugd050111/</td>\n",
       "      <td>2005-01-11T16:45:00</td>\n",
       "      <td>2018-01-21T17:12:46</td>\n",
       "      <td>Magyar</td>\n",
       "      <td>0.779033</td>\n",
       "      <td>1</td>\n",
       "      <td>0</td>\n",
       "    </tr>\n",
       "    <tr>\n",
       "      <th>3</th>\n",
       "      <td>Lecigányozzák az utcán Béci párját a VV-sztár ...</td>\n",
       "      <td>Béci párja, Adrienn zaklatásnak van kitéve.</td>\n",
       "      <td>A lány nemrég elárulta, már a buszon is lecigá...</td>\n",
       "      <td>kisalfold.hu</td>\n",
       "      <td>http://www.kisalfold.hu/szorakozas/leciganyozz...</td>\n",
       "      <td>2011-03-11T09:45:00</td>\n",
       "      <td>2017-03-26T12:12:27</td>\n",
       "      <td>bulvárketrec</td>\n",
       "      <td>0.405999</td>\n",
       "      <td>2</td>\n",
       "      <td>1</td>\n",
       "    </tr>\n",
       "    <tr>\n",
       "      <th>4</th>\n",
       "      <td>Megütötték a meleg büszkeség egyik résztvevőjét</td>\n",
       "      <td>Szélsőjobboldali csoportok zavarták meg vasárn...</td>\n",
       "      <td>Vasárnap este hét óra körül, a Budapest Pride ...</td>\n",
       "      <td>index.hu</td>\n",
       "      <td>http://index.hu/belfold/2010/07/05/megutottek_...</td>\n",
       "      <td>2010-07-05T12:42:00</td>\n",
       "      <td>2017-11-23T00:44:56</td>\n",
       "      <td>Belföld</td>\n",
       "      <td>0.823498</td>\n",
       "      <td>2</td>\n",
       "      <td>1</td>\n",
       "    </tr>\n",
       "  </tbody>\n",
       "</table>\n",
       "</div>"
      ],
      "text/plain": [
       "                                               title  \\\n",
       "0  Nem várható kamatcsökkentés egy sikeres IMF-me...   \n",
       "1  Az üzleti szféra üzenete Orbánnak: első a gazd...   \n",
       "2                         Felszabaduló nyugdíjpénzek   \n",
       "3  Lecigányozzák az utcán Béci párját a VV-sztár ...   \n",
       "4    Megütötték a meleg büszkeség egyik résztvevőjét   \n",
       "\n",
       "                                                lead  \\\n",
       "0  Az inflációs nyomás miatt akkor sem várható gy...   \n",
       "1  A gazdasági érdekvédelmi szervezetek vezetői m...   \n",
       "2  Az idén 180 ezer önkéntes nyugdíjpénztári tag ...   \n",
       "3        Béci párja, Adrienn zaklatásnak van kitéve.   \n",
       "4  Szélsőjobboldali csoportok zavarták meg vasárn...   \n",
       "\n",
       "                                             article        domain  \\\n",
       "0  Az egyik vezetõ londoni pénzügyi elemzõház, a ...  delmagyar.hu   \n",
       "1  Legelőször is a gazdaságot kell rendbe hozni, ...        hvg.hu   \n",
       "2  A személyi jövedelemadó összevont alapjába szá...      index.hu   \n",
       "3  A lány nemrég elárulta, már a buszon is lecigá...  kisalfold.hu   \n",
       "4  Vasárnap este hét óra körül, a Budapest Pride ...      index.hu   \n",
       "\n",
       "                                                 url     date_of_creation  \\\n",
       "0  http://www.delmagyar.hu/belfold_hirek/nem_varh...  2012-04-24T18:13:00   \n",
       "1  https://hvg.hu/gazdasag/20100510_uzleti_szfera...  2010-05-11T06:30:00   \n",
       "2      https://index.hu/gazdasag/magyar/nyugd050111/  2005-01-11T16:45:00   \n",
       "3  http://www.kisalfold.hu/szorakozas/leciganyozz...  2011-03-11T09:45:00   \n",
       "4  http://index.hu/belfold/2010/07/05/megutottek_...  2010-07-05T12:42:00   \n",
       "\n",
       "               cc_date          tags  doc_similarity  major_topic_pred  \\\n",
       "0  2017-03-28T04:51:07           IMF        0.594582                 1   \n",
       "1  2020-08-05T22:42:30          MKIK        0.560493                 1   \n",
       "2  2018-01-21T17:12:46        Magyar        0.779033                 1   \n",
       "3  2017-03-26T12:12:27  bulvárketrec        0.405999                 2   \n",
       "4  2017-11-23T00:44:56       Belföld        0.823498                 2   \n",
       "\n",
       "   major_topic_pred_index  \n",
       "0                       0  \n",
       "1                       0  \n",
       "2                       0  \n",
       "3                       1  \n",
       "4                       1  "
      ]
     },
     "execution_count": 7,
     "metadata": {},
     "output_type": "execute_result"
    }
   ],
   "source": [
    "df_test.head()"
   ]
  },
  {
   "cell_type": "code",
   "execution_count": 8,
   "metadata": {},
   "outputs": [
    {
     "data": {
      "text/html": [
       "<div>\n",
       "<style scoped>\n",
       "    .dataframe tbody tr th:only-of-type {\n",
       "        vertical-align: middle;\n",
       "    }\n",
       "\n",
       "    .dataframe tbody tr th {\n",
       "        vertical-align: top;\n",
       "    }\n",
       "\n",
       "    .dataframe thead th {\n",
       "        text-align: right;\n",
       "    }\n",
       "</style>\n",
       "<table border=\"1\" class=\"dataframe\">\n",
       "  <thead>\n",
       "    <tr style=\"text-align: right;\">\n",
       "      <th></th>\n",
       "      <th>title</th>\n",
       "      <th>lead</th>\n",
       "      <th>article</th>\n",
       "      <th>domain</th>\n",
       "      <th>url</th>\n",
       "      <th>date_of_creation</th>\n",
       "      <th>cc_date</th>\n",
       "      <th>tags</th>\n",
       "      <th>doc_similarity</th>\n",
       "      <th>major_topic_pred</th>\n",
       "      <th>major_topic_pred_index</th>\n",
       "    </tr>\n",
       "  </thead>\n",
       "  <tbody>\n",
       "    <tr>\n",
       "      <th>0</th>\n",
       "      <td>Idén több tízezer dollármilliomos költözhet má...</td>\n",
       "      <td>Az idei év jelentős mozgásokat hozhat a világb...</td>\n",
       "      <td>Az idei évben 88 ezer dollármilliomos magánsze...</td>\n",
       "      <td>origo.hu</td>\n",
       "      <td>https://www.origo.hu/gazdasag/20220627-milliom...</td>\n",
       "      <td>2022-07-03T17:47:00</td>\n",
       "      <td>2022-08-08T10:30:39</td>\n",
       "      <td>ország</td>\n",
       "      <td>0.634726</td>\n",
       "      <td>1</td>\n",
       "      <td>0</td>\n",
       "    </tr>\n",
       "    <tr>\n",
       "      <th>1</th>\n",
       "      <td>A férfiak és a nem vallásosak elégedetlenek a ...</td>\n",
       "      <td>A pártot választók körében a Fideszre ötven, a...</td>\n",
       "      <td>A két nagy párt támogatottságának különbsége m...</td>\n",
       "      <td>index.hu</td>\n",
       "      <td>https://index.hu/belfold/gallfm0317/</td>\n",
       "      <td>2005-03-17T21:24:00</td>\n",
       "      <td>2018-03-19T13:49:25</td>\n",
       "      <td>Belföld</td>\n",
       "      <td>0.761128</td>\n",
       "      <td>1</td>\n",
       "      <td>0</td>\n",
       "    </tr>\n",
       "    <tr>\n",
       "      <th>2</th>\n",
       "      <td>Élre tört az ásványvíz</td>\n",
       "      <td>Majdnem megháromszorozódott azok száma az elmú...</td>\n",
       "      <td>Az ásványvíz a legnépszerűbb szomjoltó ital, a...</td>\n",
       "      <td>index.hu</td>\n",
       "      <td>http://index.hu/gazdasag/magyar/udito030805/</td>\n",
       "      <td>2003-08-05T14:50:00</td>\n",
       "      <td>2017-06-24T22:49:46</td>\n",
       "      <td>gazdasag</td>\n",
       "      <td>0.897586</td>\n",
       "      <td>1</td>\n",
       "      <td>0</td>\n",
       "    </tr>\n",
       "    <tr>\n",
       "      <th>3</th>\n",
       "      <td>Anonymous: sokba fájhat a fenyegetőzés</td>\n",
       "      <td>Egyelőre nem tapasztalt nagyobb ellenséges akt...</td>\n",
       "      <td>Bár nagyon határozottnak tűnt az Anonymous vid...</td>\n",
       "      <td>hvg.hu</td>\n",
       "      <td>https://hvg.hu/itthon/20151229_Anonymous_sokba...</td>\n",
       "      <td>2015-12-29T12:45:00</td>\n",
       "      <td>2021-06-21T20:13:12</td>\n",
       "      <td>Nemzeti Kibervédelmi Intézet</td>\n",
       "      <td>0.746441</td>\n",
       "      <td>2</td>\n",
       "      <td>1</td>\n",
       "    </tr>\n",
       "    <tr>\n",
       "      <th>4</th>\n",
       "      <td>A náci kirakatper a nemzetközi jogot is átírta</td>\n",
       "      <td>Egészen pontosan hetven éve, 1945. november 20...</td>\n",
       "      <td>Az, hogy a náci Németország vezetői bíróság el...</td>\n",
       "      <td>index.hu</td>\n",
       "      <td>https://index.hu/tudomany/tortenelem/2015/11/2...</td>\n",
       "      <td>2015-11-20T07:55:00</td>\n",
       "      <td>2018-03-18T04:40:02</td>\n",
       "      <td>nürnbergi mesterdalnokok</td>\n",
       "      <td>0.642804</td>\n",
       "      <td>2</td>\n",
       "      <td>1</td>\n",
       "    </tr>\n",
       "  </tbody>\n",
       "</table>\n",
       "</div>"
      ],
      "text/plain": [
       "                                               title  \\\n",
       "0  Idén több tízezer dollármilliomos költözhet má...   \n",
       "1  A férfiak és a nem vallásosak elégedetlenek a ...   \n",
       "2                             Élre tört az ásványvíz   \n",
       "3             Anonymous: sokba fájhat a fenyegetőzés   \n",
       "4     A náci kirakatper a nemzetközi jogot is átírta   \n",
       "\n",
       "                                                lead  \\\n",
       "0  Az idei év jelentős mozgásokat hozhat a világb...   \n",
       "1  A pártot választók körében a Fideszre ötven, a...   \n",
       "2  Majdnem megháromszorozódott azok száma az elmú...   \n",
       "3  Egyelőre nem tapasztalt nagyobb ellenséges akt...   \n",
       "4  Egészen pontosan hetven éve, 1945. november 20...   \n",
       "\n",
       "                                             article    domain  \\\n",
       "0  Az idei évben 88 ezer dollármilliomos magánsze...  origo.hu   \n",
       "1  A két nagy párt támogatottságának különbsége m...  index.hu   \n",
       "2  Az ásványvíz a legnépszerűbb szomjoltó ital, a...  index.hu   \n",
       "3  Bár nagyon határozottnak tűnt az Anonymous vid...    hvg.hu   \n",
       "4  Az, hogy a náci Németország vezetői bíróság el...  index.hu   \n",
       "\n",
       "                                                 url     date_of_creation  \\\n",
       "0  https://www.origo.hu/gazdasag/20220627-milliom...  2022-07-03T17:47:00   \n",
       "1               https://index.hu/belfold/gallfm0317/  2005-03-17T21:24:00   \n",
       "2       http://index.hu/gazdasag/magyar/udito030805/  2003-08-05T14:50:00   \n",
       "3  https://hvg.hu/itthon/20151229_Anonymous_sokba...  2015-12-29T12:45:00   \n",
       "4  https://index.hu/tudomany/tortenelem/2015/11/2...  2015-11-20T07:55:00   \n",
       "\n",
       "               cc_date                          tags  doc_similarity  \\\n",
       "0  2022-08-08T10:30:39                        ország        0.634726   \n",
       "1  2018-03-19T13:49:25                       Belföld        0.761128   \n",
       "2  2017-06-24T22:49:46                      gazdasag        0.897586   \n",
       "3  2021-06-21T20:13:12  Nemzeti Kibervédelmi Intézet        0.746441   \n",
       "4  2018-03-18T04:40:02      nürnbergi mesterdalnokok        0.642804   \n",
       "\n",
       "   major_topic_pred  major_topic_pred_index  \n",
       "0                 1                       0  \n",
       "1                 1                       0  \n",
       "2                 1                       0  \n",
       "3                 2                       1  \n",
       "4                 2                       1  "
      ]
     },
     "execution_count": 8,
     "metadata": {},
     "output_type": "execute_result"
    }
   ],
   "source": [
    "df_eval.head()"
   ]
  },
  {
   "cell_type": "code",
   "execution_count": 9,
   "metadata": {},
   "outputs": [
    {
     "data": {
      "text/plain": [
       "({0: 1,\n",
       "  1: 2,\n",
       "  2: 3,\n",
       "  3: 4,\n",
       "  4: 5,\n",
       "  5: 6,\n",
       "  6: 7,\n",
       "  7: 8,\n",
       "  8: 9,\n",
       "  9: 10,\n",
       "  10: 12,\n",
       "  11: 13,\n",
       "  12: 14,\n",
       "  13: 15,\n",
       "  14: 16,\n",
       "  15: 17,\n",
       "  16: 18,\n",
       "  17: 19,\n",
       "  18: 20,\n",
       "  19: 21,\n",
       "  20: 23,\n",
       "  21: 999},\n",
       " {1: 0,\n",
       "  2: 1,\n",
       "  3: 2,\n",
       "  4: 3,\n",
       "  5: 4,\n",
       "  6: 5,\n",
       "  7: 6,\n",
       "  8: 7,\n",
       "  9: 8,\n",
       "  10: 9,\n",
       "  12: 10,\n",
       "  13: 11,\n",
       "  14: 12,\n",
       "  15: 13,\n",
       "  16: 14,\n",
       "  17: 15,\n",
       "  18: 16,\n",
       "  19: 17,\n",
       "  20: 18,\n",
       "  21: 19,\n",
       "  23: 20,\n",
       "  999: 21})"
      ]
     },
     "execution_count": 9,
     "metadata": {},
     "output_type": "execute_result"
    }
   ],
   "source": [
    "id_to_label, label_to_id"
   ]
  },
  {
   "cell_type": "code",
   "execution_count": 10,
   "metadata": {},
   "outputs": [],
   "source": [
    "BERT_MODEL_NAME = 'bert-base-uncased'\n",
    "tokenizer = BertTokenizer.from_pretrained(BERT_MODEL_NAME, return_tensors='pt')"
   ]
  },
  {
   "cell_type": "code",
   "execution_count": 11,
   "metadata": {},
   "outputs": [
    {
     "name": "stdout",
     "output_type": "stream",
     "text": [
      "Voltaképpen nem uniós ügy az offshore cégek adóterhein (is) jelentősen könnyítő, a kamatjövedelmeket érintő 50 százalékos adókedvezmény kérdése. Magyarország - a többi uniós tagállammal együtt - az úgynevezett Code of Conduct (CoC) megállapodást írta alá, amelyben kötelezettséget vállalt arra, hogy távol tartja magát a káros adóversenyt generáló intézkedésektől - emlékeztet Erdős Gabriella, a PricewaterhouseCoopers adópartnere. A megállapodás példálózó felsorolással tartalmazza a káros intézkedések jellemzőit, így a szelektivitást is, ami a kamatjövedelmekre vonatkozó magyarországi adókedvezménnyel kapcsolatban felmerülhet a CoC ellenőrző bizottsága szerint - írja a Napi Gazdaság.\n",
      "\n",
      "A kedvezmény ugyanis jóval többet hozhat a jellemzően kamatjövedelemmel bíró ágazatok, illetve társaságok - mint például a vállalatfinanszírozással foglalkozó cégek - konyhájára, mint a többi gazdálkodó esetében. A testület egyelőre mindössze azt jelezte, hogy felvenné a kérdést az ellenőrizendő ügyek listájára. Erdős szerint a legrosszabb esetben is lenne az országnak jó néhány éve a kedvezmény megszüntetésére. A bizottság ugyanis hasonló esetekben viszonylag hosszú átmeneti periódust szab meg (egy belga ügy kapcsán tíz évet adtak a szerződéssel inkompetens szabályozás felszámolására).\n",
      "\n",
      "Az 50 százalékos kedvezménynek köszönhetően a magyarországi offshore cégek adóterhelése 2006. január 1-jétől effektíve 8 százalékos lesz a társaságiadó-alapra vetítve. Az eddigi 4 százalékos kedvezményes adókulcs ez év végéig volt érvényben, és a csatlakozási szerződésben foglaltak szerint meg kell szüntetni. E cégek bevételét ugyanis meghatározó részben kamat- és jogdíjjövedelem képezi - teszi hozzá Erdős. A szakértő szerint a 8 százalékos terhelés még mindig versenyképes más európai országok \"adókínálatával\" - így a 10 százalékos ciprusi vagy a 12,5 százalékos belga adókulccsal - szemben.\n",
      "\n",
      "Máshogy látja a versenyképesség kérdését Oszkó Péter, a Deloitte adópartnere. Szerinte önmagában véve nem lenne különösen vonzó a 8 százalékos tényleges adókulcs (hiszen a 10-12,5 százalékból is engednek még az így adóztató országok), Magyarország a más országokkal kötött adóegyezmények révén foganatosítható adóoptimalizálás okán lehet inkább vonzó. Az offshore társaságok ugyanis - a Pénzügyminisztériummal egyeztetett módon - olyan szerződéses konstrukciókat alakítanak ki, amelyeknek köszönhetően a 8 százaléknál is alacsonyabb effektív adókulcs érhető el.\n",
      "\n",
      "Az offshore cégek száma az adóhatóság adatai szerint mintegy 23 százalékkal csökkent az elmúlt három évben, míg a tőlük származó társasági adóbevétel emelkedett (2003-ban 13,4, tavaly 15,8 milliárd forint volt). Legutoljára 2002. december 31-én jegyezhettek be offshore státusú céget, ekkor 945 adózót tartottak nyilván, számuk 2005. december 12-én 729 volt, közülük is 82 társaság áll végelszámolás vagy felszámolás alatt.\n",
      "\n",
      "A szakértők mindazonáltal úgy vélik, nem csökken számottevően az offshore cégek száma Magyarországon a következő néhány évben, legalábbis pusztán adójogi okokból nem. Az iparűzési adókedvezményt ugyan elvesztik offshore státusukkal együtt e cégek, a helyi adó alapjából viszont kikerül jövőre a kamat- és jogdíjbevétel. Erdős hozzátette, a jellemzően vállalatfinanszírozással foglalkozó cégek számára a székhelyről való döntés elsődleges szempontjai között a távközlési és banki infrastruktúra minősége, valamint az ország gazdasági és politikai stabilitása említhető, ám Magyarország esetében a kedvező földrajzi fekvés sem elhanyagolható. A legtöbb európai ország specializálódik valamely vállalati tevékenység vonzására. Hollandia a holdingtársaságok, Luxemburg a finanszírozó társaságok számára nyújt optimális feltételeket. A lengyel gazdaság nagyméretű felvevőpiaca miatt lehet vonzó, Szlovákia, Ciprus és Málta az alacsony adómértékei okán. Az utóbbi gazdaságok ugyanis elég kicsik ahhoz, hogy a belföldi cégek részéről esetlegesen kieső adóbevételt ellensúlyozza a külföldi tőkebeáramlás nagysága.\n",
      "label:  0\n"
     ]
    }
   ],
   "source": [
    "sample_row = df_train.iloc[0]\n",
    "sample_article = sample_row[ARTICLE]\n",
    "sample_label = sample_row[LABEL]\n",
    "\n",
    "print(sample_article)\n",
    "print(\"label: \", sample_label)"
   ]
  },
  {
   "cell_type": "code",
   "execution_count": 12,
   "metadata": {},
   "outputs": [
    {
     "data": {
      "text/plain": [
       "dict_keys(['input_ids', 'attention_mask'])"
      ]
     },
     "execution_count": 12,
     "metadata": {},
     "output_type": "execute_result"
    }
   ],
   "source": [
    "encoding = tokenizer.encode_plus(\n",
    "  sample_article,\n",
    "  add_special_tokens=True,\n",
    "  max_length=1024,\n",
    "  return_token_type_ids=False,\n",
    "  padding=\"max_length\",\n",
    "  return_attention_mask=True,\n",
    "  return_tensors='pt',\n",
    ")\n",
    "\n",
    "encoding.keys()"
   ]
  },
  {
   "cell_type": "code",
   "execution_count": 13,
   "metadata": {},
   "outputs": [
    {
     "data": {
      "text/plain": [
       "(torch.Size([1, 1565]), torch.Size([1, 1565]))"
      ]
     },
     "execution_count": 13,
     "metadata": {},
     "output_type": "execute_result"
    }
   ],
   "source": [
    "encoding[\"input_ids\"].shape, encoding[\"attention_mask\"].shape"
   ]
  },
  {
   "cell_type": "code",
   "execution_count": 14,
   "metadata": {},
   "outputs": [
    {
     "name": "stdout",
     "output_type": "stream",
     "text": [
      "['[CLS]', 'volta', '##ke', '##ppe', '##n', 'ne', '##m', 'un', '##ios', 'u', '##gy', 'az', 'offshore', 'ce', '##ge', '##k', 'ad', '##ote', '##rh', '##ein']\n"
     ]
    }
   ],
   "source": [
    "print(tokenizer.convert_ids_to_tokens(encoding[\"input_ids\"].squeeze())[:20])"
   ]
  },
  {
   "cell_type": "code",
   "execution_count": 15,
   "metadata": {},
   "outputs": [],
   "source": [
    "token_counts = []\n",
    "\n",
    "for _, row in df_train.iterrows():\n",
    "    token_count = len(tokenizer.encode(\n",
    "        row[ARTICLE], \n",
    "        max_length=512, \n",
    "        truncation=True\n",
    "    ))\n",
    "    token_counts.append(token_count)"
   ]
  },
  {
   "cell_type": "code",
   "execution_count": 16,
   "metadata": {},
   "outputs": [
    {
     "data": {
      "image/png": "[encoded data removed]",
      "text/plain": [
       "<Figure size 640x480 with 1 Axes>"
      ]
     },
     "metadata": {},
     "output_type": "display_data"
    }
   ],
   "source": [
    "sns.histplot(token_counts)\n",
    "plt.xlim([0, 512]);"
   ]
  },
  {
   "cell_type": "code",
   "execution_count": 17,
   "metadata": {},
   "outputs": [],
   "source": [
    "MAX_TOKEN_COUNT = 512"
   ]
  },
  {
   "cell_type": "code",
   "execution_count": 18,
   "metadata": {},
   "outputs": [
    {
     "data": {
      "text/plain": [
       "dict_keys(['article', 'input_ids', 'attention_mask', 'label'])"
      ]
     },
     "execution_count": 18,
     "metadata": {},
     "output_type": "execute_result"
    }
   ],
   "source": [
    "\n",
    "\n",
    "train_dataset = ArticleDataset(\n",
    "  df_train,\n",
    "  tokenizer,\n",
    "  max_token_len=MAX_TOKEN_COUNT\n",
    ")\n",
    "\n",
    "sample_item = train_dataset[0]\n",
    "sample_item.keys()"
   ]
  },
  {
   "cell_type": "code",
   "execution_count": 19,
   "metadata": {},
   "outputs": [
    {
     "data": {
      "text/plain": [
       "{'article': 'Voltaképpen nem uniós ügy az offshore cégek adóterhein (is) jelentősen könnyítő, a kamatjövedelmeket érintő 50 százalékos adókedvezmény kérdése. Magyarország - a többi uniós tagállammal együtt - az úgynevezett Code of Conduct (CoC) megállapodást írta alá, amelyben kötelezettséget vállalt arra, hogy távol tartja magát a káros adóversenyt generáló intézkedésektől - emlékeztet Erdős Gabriella, a PricewaterhouseCoopers adópartnere. A megállapodás példálózó felsorolással tartalmazza a káros intézkedések jellemzőit, így a szelektivitást is, ami a kamatjövedelmekre vonatkozó magyarországi adókedvezménnyel kapcsolatban felmerülhet a CoC ellenőrző bizottsága szerint - írja a Napi Gazdaság.\\n\\nA kedvezmény ugyanis jóval többet hozhat a jellemzően kamatjövedelemmel bíró ágazatok, illetve társaságok - mint például a vállalatfinanszírozással foglalkozó cégek - konyhájára, mint a többi gazdálkodó esetében. A testület egyelőre mindössze azt jelezte, hogy felvenné a kérdést az ellenőrizendő ügyek listájára. Erdős szerint a legrosszabb esetben is lenne az országnak jó néhány éve a kedvezmény megszüntetésére. A bizottság ugyanis hasonló esetekben viszonylag hosszú átmeneti periódust szab meg (egy belga ügy kapcsán tíz évet adtak a szerződéssel inkompetens szabályozás felszámolására).\\n\\nAz 50 százalékos kedvezménynek köszönhetően a magyarországi offshore cégek adóterhelése 2006. január 1-jétől effektíve 8 százalékos lesz a társaságiadó-alapra vetítve. Az eddigi 4 százalékos kedvezményes adókulcs ez év végéig volt érvényben, és a csatlakozási szerződésben foglaltak szerint meg kell szüntetni. E cégek bevételét ugyanis meghatározó részben kamat- és jogdíjjövedelem képezi - teszi hozzá Erdős. A szakértő szerint a 8 százalékos terhelés még mindig versenyképes más európai országok \"adókínálatával\" - így a 10 százalékos ciprusi vagy a 12,5 százalékos belga adókulccsal - szemben.\\n\\nMáshogy látja a versenyképesség kérdését Oszkó Péter, a Deloitte adópartnere. Szerinte önmagában véve nem lenne különösen vonzó a 8 százalékos tényleges adókulcs (hiszen a 10-12,5 százalékból is engednek még az így adóztató országok), Magyarország a más országokkal kötött adóegyezmények révén foganatosítható adóoptimalizálás okán lehet inkább vonzó. Az offshore társaságok ugyanis - a Pénzügyminisztériummal egyeztetett módon - olyan szerződéses konstrukciókat alakítanak ki, amelyeknek köszönhetően a 8 százaléknál is alacsonyabb effektív adókulcs érhető el.\\n\\nAz offshore cégek száma az adóhatóság adatai szerint mintegy 23 százalékkal csökkent az elmúlt három évben, míg a tőlük származó társasági adóbevétel emelkedett (2003-ban 13,4, tavaly 15,8 milliárd forint volt). Legutoljára 2002. december 31-én jegyezhettek be offshore státusú céget, ekkor 945 adózót tartottak nyilván, számuk 2005. december 12-én 729 volt, közülük is 82 társaság áll végelszámolás vagy felszámolás alatt.\\n\\nA szakértők mindazonáltal úgy vélik, nem csökken számottevően az offshore cégek száma Magyarországon a következő néhány évben, legalábbis pusztán adójogi okokból nem. Az iparűzési adókedvezményt ugyan elvesztik offshore státusukkal együtt e cégek, a helyi adó alapjából viszont kikerül jövőre a kamat- és jogdíjbevétel. Erdős hozzátette, a jellemzően vállalatfinanszírozással foglalkozó cégek számára a székhelyről való döntés elsődleges szempontjai között a távközlési és banki infrastruktúra minősége, valamint az ország gazdasági és politikai stabilitása említhető, ám Magyarország esetében a kedvező földrajzi fekvés sem elhanyagolható. A legtöbb európai ország specializálódik valamely vállalati tevékenység vonzására. Hollandia a holdingtársaságok, Luxemburg a finanszírozó társaságok számára nyújt optimális feltételeket. A lengyel gazdaság nagyméretű felvevőpiaca miatt lehet vonzó, Szlovákia, Ciprus és Málta az alacsony adómértékei okán. Az utóbbi gazdaságok ugyanis elég kicsik ahhoz, hogy a belföldi cégek részéről esetlegesen kieső adóbevételt ellensúlyozza a külföldi tőkebeáramlás nagysága.',\n",
       " 'input_ids': tensor([  101, 26089,  3489, 21512,  2078, 11265,  2213,  4895, 10735,  1057,\n",
       "          6292, 17207, 12195,  8292,  3351,  2243,  4748, 12184, 25032, 12377,\n",
       "          1006,  2003,  1007, 15333, 16136,  9232,  2078, 12849, 10695, 10139,\n",
       "          3406,  1010,  1037, 27829,  4017,  5558,  7178,  2884,  4168,  3489,\n",
       "          2102, 11781,  3406,  2753,  1055,  4143, 16739,  5937,  2891,  4748,\n",
       "         23461, 26132,  3549,  2100, 17710, 26371,  2063,  1012, 23848, 13380,\n",
       "          5668,  4143,  2290,  1011,  1037,  2000, 10322,  2072,  4895, 10735,\n",
       "          6415, 25425, 14760,  2140,  1041,  6292,  4904,  2102,  1011, 17207,\n",
       "          1057,  6292,  2638, 26132,  6582,  3642,  1997,  6204,  1006,  2522,\n",
       "          2278,  1007, 13164,  4571, 27633, 14083, 20868,  2696, 21862,  1010,\n",
       "          2572, 26006, 10609, 12849,  9834,  9351,  6582,  3366, 18150, 11748,\n",
       "         13837,  2102, 12098,  2527,  1010, 27589,  2100, 11937,  6767,  2140,\n",
       "         16985,  2102,  3900, 23848,  4017,  1037, 10556,  7352,  4748, 24302,\n",
       "          2368, 22123,  2236,  2080, 20014,  9351,  8126,  6810, 25509,  4747,\n",
       "          1011,  7861,  2571,  3489,  2480, 22513,  9413, 12269,  6127,  2721,\n",
       "          1010,  1037,  3976,  5880,  4580,  3597, 27342,  4748, 29477,  5339,\n",
       "          3678,  2063,  1012,  1037, 13164,  4571, 27633,  3022, 21877, 15150,\n",
       "          4135,  6844, 10768,  4877, 14604, 27102,  2389, 16985,  9080,  2863,\n",
       "         20715,  1037, 10556,  7352, 20014,  9351,  8126,  6810,  2243, 15333,\n",
       "          6216,  2213,  6844,  4183,  1010,  1045,  6292,  1037,  1055, 12638,\n",
       "          5937, 29068, 24317,  2102,  2003,  1010, 26445,  1037, 27829,  4017,\n",
       "          5558,  7178,  2884,  4168, 21638,  2063,  3854,  4017,  3683,  6844,\n",
       "         23848, 13380,  5668,  4143,  5856,  4748, 23461, 26132,  3549,  4890,\n",
       "          2884, 10556, 15042, 19454,  4017,  8193, 10768, 23398,  5313, 27065,\n",
       "          1037,  2522,  2278,  9155,  2953,  6844, 12170,  6844,  4779,  3736,\n",
       "          3654,  1055,  6290, 18447,  1011, 20868,  3900,  1037, 18996,  2072,\n",
       "         11721, 26494, 16782,  2290,  1012,  1037, 16135, 26132,  3549,  2100,\n",
       "          1057,  6292,  7088,  2015,  8183, 10175,  2000, 19473,  2102,  7570,\n",
       "         27922,  4017,  1037, 15333,  6216,  2213,  6844,  2368, 27829,  4017,\n",
       "          5558,  7178, 12260, 29033, 12170,  3217, 12943, 10936, 10610,  2243,\n",
       "          1010,  5665,  3388,  3726, 16985, 20939, 23692,  2243,  1011, 12927,\n",
       "         21877, 15150,  5313,  1037, 11748, 13837,  4017, 16294,  6962,  5831,\n",
       "          3217,  4143, 11488,  2140,  9666, 13837,  3683,  6844,  8292,  3351,\n",
       "          2243,  1011, 12849,  4890,  3270, 16084,  2050,  1010, 12927,  1037,\n",
       "          2000, 10322,  2072, 11721, 26494,  2389,  3683,  3527,  9686, 12870,\n",
       "         10609,  1012,  1037,  3231,  9307,  2102,  1041,  6292, 18349,  2890,\n",
       "          2568, 15094,  4371, 17207,  2102, 15333, 28060,  2618,  1010, 27589,\n",
       "          2100, 10768,  2140,  8159,  2638,  1037, 17710, 26371,  2102, 17207,\n",
       "          9155, 10050, 10431,  3527,  1057,  6292,  5937,  2862, 22734,  2527,\n",
       "          1012,  9413, 12269,  1055,  6290, 18447,  1037,  4190, 25725,  4143,\n",
       "         10322,  9686,  3388, 10609,  2003, 18798,  2638, 17207,  2030, 17112,\n",
       "          8490,  2532,  2243,  8183, 11265,  4819,  2100,  6574,  1037, 16135,\n",
       "         26132,  3549,  2100, 12669, 17112, 16671, 12870,  8043,  2063,  1012,\n",
       "          1037, 12170,  6844,  4779,  3736,  2290,  1057,  6292,  7088,  2015,\n",
       "          2038,  2239,  4135,  9686, 12870,  2243, 10609, 25292, 11597, 23943,\n",
       "          2290,  7570,  4757,  9759, 27218,  8625,  3775,  2558, 19966,  1055,\n",
       "          4143,  2497, 12669,  1006,  1041,  6292, 19337,  3654,  1057,  6292,\n",
       "         10556, 15042,  8791, 14841,  2480,  6574,  2102,  4748,  2696,  2243,\n",
       "          1037,  1055,  6290,  6844,  6155, 11246, 10710, 25377, 12870,  3619,\n",
       "          1055,  4143, 10264,  7677,  4143,  2015, 10768,  4877, 20722,  6030,\n",
       "         10286,  2050,  1007,  1012, 17207,  2753,  1055,  4143, 16739,  5937,\n",
       "          2891,   102]),\n",
       " 'attention_mask': tensor([1, 1, 1, 1, 1, 1, 1, 1, 1, 1, 1, 1, 1, 1, 1, 1, 1, 1, 1, 1, 1, 1, 1, 1,\n",
       "         1, 1, 1, 1, 1, 1, 1, 1, 1, 1, 1, 1, 1, 1, 1, 1, 1, 1, 1, 1, 1, 1, 1, 1,\n",
       "         1, 1, 1, 1, 1, 1, 1, 1, 1, 1, 1, 1, 1, 1, 1, 1, 1, 1, 1, 1, 1, 1, 1, 1,\n",
       "         1, 1, 1, 1, 1, 1, 1, 1, 1, 1, 1, 1, 1, 1, 1, 1, 1, 1, 1, 1, 1, 1, 1, 1,\n",
       "         1, 1, 1, 1, 1, 1, 1, 1, 1, 1, 1, 1, 1, 1, 1, 1, 1, 1, 1, 1, 1, 1, 1, 1,\n",
       "         1, 1, 1, 1, 1, 1, 1, 1, 1, 1, 1, 1, 1, 1, 1, 1, 1, 1, 1, 1, 1, 1, 1, 1,\n",
       "         1, 1, 1, 1, 1, 1, 1, 1, 1, 1, 1, 1, 1, 1, 1, 1, 1, 1, 1, 1, 1, 1, 1, 1,\n",
       "         1, 1, 1, 1, 1, 1, 1, 1, 1, 1, 1, 1, 1, 1, 1, 1, 1, 1, 1, 1, 1, 1, 1, 1,\n",
       "         1, 1, 1, 1, 1, 1, 1, 1, 1, 1, 1, 1, 1, 1, 1, 1, 1, 1, 1, 1, 1, 1, 1, 1,\n",
       "         1, 1, 1, 1, 1, 1, 1, 1, 1, 1, 1, 1, 1, 1, 1, 1, 1, 1, 1, 1, 1, 1, 1, 1,\n",
       "         1, 1, 1, 1, 1, 1, 1, 1, 1, 1, 1, 1, 1, 1, 1, 1, 1, 1, 1, 1, 1, 1, 1, 1,\n",
       "         1, 1, 1, 1, 1, 1, 1, 1, 1, 1, 1, 1, 1, 1, 1, 1, 1, 1, 1, 1, 1, 1, 1, 1,\n",
       "         1, 1, 1, 1, 1, 1, 1, 1, 1, 1, 1, 1, 1, 1, 1, 1, 1, 1, 1, 1, 1, 1, 1, 1,\n",
       "         1, 1, 1, 1, 1, 1, 1, 1, 1, 1, 1, 1, 1, 1, 1, 1, 1, 1, 1, 1, 1, 1, 1, 1,\n",
       "         1, 1, 1, 1, 1, 1, 1, 1, 1, 1, 1, 1, 1, 1, 1, 1, 1, 1, 1, 1, 1, 1, 1, 1,\n",
       "         1, 1, 1, 1, 1, 1, 1, 1, 1, 1, 1, 1, 1, 1, 1, 1, 1, 1, 1, 1, 1, 1, 1, 1,\n",
       "         1, 1, 1, 1, 1, 1, 1, 1, 1, 1, 1, 1, 1, 1, 1, 1, 1, 1, 1, 1, 1, 1, 1, 1,\n",
       "         1, 1, 1, 1, 1, 1, 1, 1, 1, 1, 1, 1, 1, 1, 1, 1, 1, 1, 1, 1, 1, 1, 1, 1,\n",
       "         1, 1, 1, 1, 1, 1, 1, 1, 1, 1, 1, 1, 1, 1, 1, 1, 1, 1, 1, 1, 1, 1, 1, 1,\n",
       "         1, 1, 1, 1, 1, 1, 1, 1, 1, 1, 1, 1, 1, 1, 1, 1, 1, 1, 1, 1, 1, 1, 1, 1,\n",
       "         1, 1, 1, 1, 1, 1, 1, 1, 1, 1, 1, 1, 1, 1, 1, 1, 1, 1, 1, 1, 1, 1, 1, 1,\n",
       "         1, 1, 1, 1, 1, 1, 1, 1]),\n",
       " 'label': tensor(0)}"
      ]
     },
     "execution_count": 19,
     "metadata": {},
     "output_type": "execute_result"
    }
   ],
   "source": [
    "sample_item"
   ]
  },
  {
   "cell_type": "code",
   "execution_count": 20,
   "metadata": {},
   "outputs": [],
   "source": [
    "MAX_LEN = 512\n",
    "BATCH_SIZE = 8\n",
    "EPOCHS = 60\n",
    "\n",
    "def create_dataloader(df, tokenizer, max_token_len, batch_size):\n",
    "    dataset = ArticleDataset(\n",
    "        df,\n",
    "        tokenizer=tokenizer,\n",
    "        max_token_len=max_token_len\n",
    "    )\n",
    "\n",
    "    return DataLoader(\n",
    "        dataset,\n",
    "        batch_size=batch_size,\n",
    "        num_workers=1\n",
    "    )"
   ]
  },
  {
   "cell_type": "code",
   "execution_count": 21,
   "metadata": {},
   "outputs": [],
   "source": [
    "data_loader_train = create_dataloader(df_train, tokenizer, MAX_LEN, BATCH_SIZE)\n",
    "data_loader_test = create_dataloader(df_test, tokenizer, MAX_LEN, BATCH_SIZE)\n",
    "data_loader_eval = create_dataloader(df_eval, tokenizer, MAX_LEN, BATCH_SIZE)"
   ]
  },
  {
   "cell_type": "code",
   "execution_count": 22,
   "metadata": {},
   "outputs": [
    {
     "name": "stderr",
     "output_type": "stream",
     "text": [
      "Some weights of the model checkpoint at bert-base-uncased were not used when initializing BertForSequenceClassification: ['cls.predictions.transform.dense.weight', 'cls.predictions.transform.LayerNorm.weight', 'cls.seq_relationship.bias', 'cls.predictions.transform.dense.bias', 'cls.predictions.bias', 'cls.seq_relationship.weight', 'cls.predictions.transform.LayerNorm.bias']\n",
      "- This IS expected if you are initializing BertForSequenceClassification from the checkpoint of a model trained on another task or with another architecture (e.g. initializing a BertForSequenceClassification model from a BertForPreTraining model).\n",
      "- This IS NOT expected if you are initializing BertForSequenceClassification from the checkpoint of a model that you expect to be exactly identical (initializing a BertForSequenceClassification model from a BertForSequenceClassification model).\n",
      "Some weights of BertForSequenceClassification were not initialized from the model checkpoint at bert-base-uncased and are newly initialized: ['classifier.weight', 'classifier.bias']\n",
      "You should probably TRAIN this model on a down-stream task to be able to use it for predictions and inference.\n"
     ]
    }
   ],
   "source": [
    "model = BertForSequenceClassification.from_pretrained(BERT_MODEL_NAME, return_dict=True, num_labels=number_of_labels)\n",
    "model = model.to(device)"
   ]
  },
  {
   "cell_type": "code",
   "execution_count": 23,
   "metadata": {},
   "outputs": [
    {
     "name": "stdout",
     "output_type": "stream",
     "text": [
      "Epoch: 0, Loss: 3.3072643280029297 Accuracy: 0.030303030303030304\n",
      "Epoch: 1, Loss: 3.1639840602874756 Accuracy: 0.03787878787878788\n",
      "Epoch: 2, Loss: 2.8912103176116943 Accuracy: 0.03787878787878788\n",
      "Epoch: 3, Loss: 2.947960615158081 Accuracy: 0.05303030303030303\n",
      "Epoch: 4, Loss: 2.9297664165496826 Accuracy: 0.06060606060606061\n",
      "Epoch: 5, Loss: 2.857534408569336 Accuracy: 0.09090909090909091\n",
      "Epoch: 6, Loss: 2.770221710205078 Accuracy: 0.12121212121212122\n",
      "Epoch: 7, Loss: 2.7214291095733643 Accuracy: 0.1590909090909091\n",
      "Epoch: 8, Loss: 2.660367727279663 Accuracy: 0.11363636363636363\n",
      "Epoch: 9, Loss: 2.7301244735717773 Accuracy: 0.12878787878787878\n",
      "Epoch: 10, Loss: 2.4871344566345215 Accuracy: 0.21212121212121213\n",
      "Epoch: 11, Loss: 2.301459789276123 Accuracy: 0.3181818181818182\n",
      "Epoch: 12, Loss: 2.181849479675293 Accuracy: 0.3560606060606061\n",
      "Epoch: 13, Loss: 2.040654182434082 Accuracy: 0.42424242424242425\n",
      "Epoch: 14, Loss: 2.1250548362731934 Accuracy: 0.4015151515151515\n",
      "Epoch: 15, Loss: 1.9233522415161133 Accuracy: 0.49242424242424243\n",
      "Epoch: 16, Loss: 1.901925802230835 Accuracy: 0.5833333333333334\n",
      "Epoch: 17, Loss: 1.755351185798645 Accuracy: 0.6212121212121212\n",
      "Epoch: 18, Loss: 1.8027242422103882 Accuracy: 0.553030303030303\n",
      "Epoch: 19, Loss: 1.5174307823181152 Accuracy: 0.6515151515151515\n",
      "Epoch: 20, Loss: 1.7330052852630615 Accuracy: 0.6666666666666666\n",
      "Epoch: 21, Loss: 1.443444013595581 Accuracy: 0.7272727272727273\n",
      "Epoch: 22, Loss: 1.2850759029388428 Accuracy: 0.7272727272727273\n",
      "Epoch: 23, Loss: 1.2431446313858032 Accuracy: 0.7348484848484849\n",
      "Epoch: 24, Loss: 1.0551780462265015 Accuracy: 0.8106060606060606\n",
      "Epoch: 25, Loss: 1.4845019578933716 Accuracy: 0.8181818181818182\n",
      "Epoch: 26, Loss: 1.0485174655914307 Accuracy: 0.8181818181818182\n",
      "Epoch: 27, Loss: 1.0685498714447021 Accuracy: 0.8484848484848485\n",
      "Epoch: 28, Loss: 0.8920643329620361 Accuracy: 0.8787878787878788\n",
      "Epoch: 29, Loss: 0.8327204585075378 Accuracy: 0.8712121212121212\n",
      "Epoch: 30, Loss: 0.8785382509231567 Accuracy: 0.8787878787878788\n",
      "Epoch: 31, Loss: 0.754355788230896 Accuracy: 0.9242424242424242\n",
      "Epoch: 32, Loss: 0.839501142501831 Accuracy: 0.9015151515151515\n",
      "Epoch: 33, Loss: 0.6744087934494019 Accuracy: 0.9090909090909091\n",
      "Epoch: 34, Loss: 0.6466454863548279 Accuracy: 0.9545454545454546\n",
      "Epoch: 35, Loss: 0.63667231798172 Accuracy: 0.9242424242424242\n",
      "Epoch: 36, Loss: 0.5424283742904663 Accuracy: 0.946969696969697\n",
      "Epoch: 37, Loss: 0.45794934034347534 Accuracy: 0.9696969696969697\n",
      "Epoch: 38, Loss: 0.4569830298423767 Accuracy: 0.9621212121212122\n",
      "Epoch: 39, Loss: 0.45176762342453003 Accuracy: 0.9696969696969697\n",
      "Epoch: 40, Loss: 0.4840596914291382 Accuracy: 0.9621212121212122\n",
      "Epoch: 41, Loss: 0.4485621452331543 Accuracy: 0.9621212121212122\n",
      "Epoch: 42, Loss: 0.3761312663555145 Accuracy: 0.9621212121212122\n",
      "Epoch: 43, Loss: 0.3551081418991089 Accuracy: 0.9621212121212122\n",
      "Epoch: 44, Loss: 0.31014207005500793 Accuracy: 0.9848484848484849\n",
      "Epoch: 45, Loss: 0.340575248003006 Accuracy: 0.9772727272727273\n",
      "Epoch: 46, Loss: 0.32137051224708557 Accuracy: 0.9848484848484849\n",
      "Epoch: 47, Loss: 0.33494794368743896 Accuracy: 0.9924242424242424\n",
      "Epoch: 48, Loss: 0.28513872623443604 Accuracy: 0.9848484848484849\n",
      "Epoch: 49, Loss: 0.2996499538421631 Accuracy: 0.9924242424242424\n",
      "Epoch: 50, Loss: 0.25555211305618286 Accuracy: 1.0\n",
      "Epoch: 51, Loss: 0.24446725845336914 Accuracy: 0.9924242424242424\n",
      "Epoch: 52, Loss: 0.2551051378250122 Accuracy: 1.0\n",
      "Epoch: 53, Loss: 0.22195231914520264 Accuracy: 0.9924242424242424\n",
      "Epoch: 54, Loss: 0.20697924494743347 Accuracy: 1.0\n",
      "Epoch: 55, Loss: 0.21177533268928528 Accuracy: 0.9924242424242424\n",
      "Epoch: 56, Loss: 0.18953944742679596 Accuracy: 1.0\n",
      "Epoch: 57, Loss: 0.1713005155324936 Accuracy: 1.0\n",
      "Epoch: 58, Loss: 0.1599597930908203 Accuracy: 1.0\n",
      "Epoch: 59, Loss: 0.1508500725030899 Accuracy: 1.0\n"
     ]
    }
   ],
   "source": [
    "criterion = nn.CrossEntropyLoss()\n",
    "optimizer = optim.Adam(model.parameters(), lr=1e-5)\n",
    "accuracy_per_epoch = []\n",
    "early_stopping_epochs = 5\n",
    "\n",
    "for epoch in range(EPOCHS):\n",
    "    model.train()\n",
    "    total_loss = 0\n",
    "    correct_labels = 0\n",
    "    prev_loss = np.inf\n",
    "    for batch in data_loader_train:\n",
    "        input_ids = batch[\"input_ids\"].to(device)\n",
    "        attention_mask = batch[\"attention_mask\"].to(device)\n",
    "        labels = batch[\"label\"].to(device)\n",
    "\n",
    "        outputs = model(input_ids=input_ids, attention_mask=attention_mask, labels=labels)\n",
    "        loss = outputs.loss\n",
    "        logits = outputs.logits\n",
    "\n",
    "        total_loss += loss.item()\n",
    "        correct_labels += (logits.argmax(dim=1) == labels).sum().item()\n",
    "\n",
    "        optimizer.zero_grad()\n",
    "        loss.backward()\n",
    "        optimizer.step()\n",
    "        \n",
    "    if total_loss < prev_loss - 0.001:\n",
    "        prev_loss = total_loss\n",
    "        counter = 0\n",
    "    else:\n",
    "        counter += 1\n",
    "        if counter >= early_stopping_epochs:\n",
    "            print(f'Early stopping at epoch {epoch}')\n",
    "            break\n",
    "        \n",
    "\n",
    "    accuacy = correct_labels / len(df_train)\n",
    "    accuracy_per_epoch.append(accuacy)\n",
    "    print(f\"Epoch: {epoch}, Loss: {loss.item()} Accuracy: {accuacy}\")"
   ]
  },
  {
   "cell_type": "code",
   "execution_count": 24,
   "metadata": {},
   "outputs": [
    {
     "data": {
      "text/plain": [
       "[0.030303030303030304,\n",
       " 0.03787878787878788,\n",
       " 0.03787878787878788,\n",
       " 0.05303030303030303,\n",
       " 0.06060606060606061,\n",
       " 0.09090909090909091,\n",
       " 0.12121212121212122,\n",
       " 0.1590909090909091,\n",
       " 0.11363636363636363,\n",
       " 0.12878787878787878,\n",
       " 0.21212121212121213,\n",
       " 0.3181818181818182,\n",
       " 0.3560606060606061,\n",
       " 0.42424242424242425,\n",
       " 0.4015151515151515,\n",
       " 0.49242424242424243,\n",
       " 0.5833333333333334,\n",
       " 0.6212121212121212,\n",
       " 0.553030303030303,\n",
       " 0.6515151515151515,\n",
       " 0.6666666666666666,\n",
       " 0.7272727272727273,\n",
       " 0.7272727272727273,\n",
       " 0.7348484848484849,\n",
       " 0.8106060606060606,\n",
       " 0.8181818181818182,\n",
       " 0.8181818181818182,\n",
       " 0.8484848484848485,\n",
       " 0.8787878787878788,\n",
       " 0.8712121212121212,\n",
       " 0.8787878787878788,\n",
       " 0.9242424242424242,\n",
       " 0.9015151515151515,\n",
       " 0.9090909090909091,\n",
       " 0.9545454545454546,\n",
       " 0.9242424242424242,\n",
       " 0.946969696969697,\n",
       " 0.9696969696969697,\n",
       " 0.9621212121212122,\n",
       " 0.9696969696969697,\n",
       " 0.9621212121212122,\n",
       " 0.9621212121212122,\n",
       " 0.9621212121212122,\n",
       " 0.9621212121212122,\n",
       " 0.9848484848484849,\n",
       " 0.9772727272727273,\n",
       " 0.9848484848484849,\n",
       " 0.9924242424242424,\n",
       " 0.9848484848484849,\n",
       " 0.9924242424242424,\n",
       " 1.0,\n",
       " 0.9924242424242424,\n",
       " 1.0,\n",
       " 0.9924242424242424,\n",
       " 1.0,\n",
       " 0.9924242424242424,\n",
       " 1.0,\n",
       " 1.0,\n",
       " 1.0,\n",
       " 1.0]"
      ]
     },
     "execution_count": 24,
     "metadata": {},
     "output_type": "execute_result"
    }
   ],
   "source": [
    "accuracy_per_epoch"
   ]
  },
  {
   "cell_type": "code",
   "execution_count": 25,
   "metadata": {},
   "outputs": [
    {
     "data": {
      "text/plain": [
       "[<matplotlib.lines.Line2D at 0x166f98610>]"
      ]
     },
     "execution_count": 25,
     "metadata": {},
     "output_type": "execute_result"
    },
    {
     "data": {
      "image/png": "[encoded data removed]",
      "text/plain": [
       "<Figure size 640x480 with 1 Axes>"
      ]
     },
     "metadata": {},
     "output_type": "display_data"
    }
   ],
   "source": [
    "plt.plot(accuracy_per_epoch)"
   ]
  },
  {
   "cell_type": "code",
   "execution_count": 26,
   "metadata": {},
   "outputs": [
    {
     "name": "stdout",
     "output_type": "stream",
     "text": [
      "tensor([0, 0, 0, 0, 0, 0, 1, 1]) : tensor([0, 0, 0, 0, 0, 0, 1, 1])\n",
      "tensor([1, 1, 1, 1, 2, 2, 2, 2]) : tensor([1, 1, 1, 1, 2, 2, 2, 2])\n",
      "tensor([2, 2, 3, 3, 3, 3, 3, 3]) : tensor([2, 2, 3, 3, 3, 3, 3, 3])\n",
      "tensor([4, 4, 4, 4, 4, 4, 5, 5]) : tensor([4, 4, 4, 4, 4, 4, 5, 5])\n",
      "tensor([5, 5, 5, 5, 6, 6, 6, 6]) : tensor([5, 5, 5, 5, 6, 6, 6, 6])\n",
      "tensor([6, 6, 7, 7, 7, 7, 7, 7]) : tensor([6, 6, 7, 7, 7, 7, 7, 7])\n",
      "tensor([8, 8, 8, 8, 8, 8, 9, 9]) : tensor([8, 8, 8, 8, 8, 8, 9, 9])\n",
      "tensor([ 9,  9,  9,  9, 10, 10, 10, 10]) : tensor([ 9,  9,  9,  9, 10, 10, 10, 10])\n",
      "tensor([10, 10, 11, 11, 11, 11, 11, 11]) : tensor([10, 10, 11, 11, 11, 11, 11, 11])\n",
      "tensor([12, 12, 12, 12, 12, 12, 13, 13]) : tensor([12, 12, 12, 12, 12, 12, 13, 13])\n",
      "tensor([13, 13, 13, 13, 14, 14, 14, 14]) : tensor([13, 13, 13, 13, 14, 14, 14, 14])\n",
      "tensor([14, 14, 15, 15, 15, 15, 15, 15]) : tensor([14, 14, 15, 15, 15, 15, 15, 15])\n",
      "tensor([16, 16, 16, 16, 16, 16, 17, 17]) : tensor([16, 16, 16, 16, 16, 16, 17, 17])\n",
      "tensor([17, 17, 17, 17, 18, 18, 18, 18]) : tensor([17, 17, 17, 17, 18, 18, 18, 18])\n",
      "tensor([18, 18, 19, 19, 19, 19, 19, 19]) : tensor([18, 18, 19, 19, 19, 19, 19, 19])\n",
      "tensor([20, 20, 20, 20, 20, 20, 21, 21]) : tensor([20, 20, 20, 20, 20, 20, 21, 21])\n",
      "tensor([21, 21, 21, 21]) : tensor([21, 21, 21, 21])\n"
     ]
    }
   ],
   "source": [
    "model.eval()\n",
    "eval_loss = 0\n",
    "correct_labels = 0\n",
    "\n",
    "with torch.no_grad():\n",
    "    for batch in data_loader_train:\n",
    "        input_ids = batch[\"input_ids\"].to(device)\n",
    "        attention_mask = batch[\"attention_mask\"].to(device)\n",
    "        labels = batch[\"label\"].to(device)\n",
    "\n",
    "        outputs = model(input_ids, attention_mask=attention_mask, labels=labels)\n",
    "        loss = outputs.loss\n",
    "        logits = outputs.logits\n",
    "\n",
    "        eval_loss += loss.item()\n",
    "        #print(f\"{logits})\")\n",
    "        print(f\"{logits.argmax(dim=1)} : {labels}\")\n",
    "        correct_labels += (logits.argmax(dim=1) == labels).sum().item()"
   ]
  },
  {
   "cell_type": "code",
   "execution_count": 27,
   "metadata": {},
   "outputs": [
    {
     "name": "stdout",
     "output_type": "stream",
     "text": [
      "Evaluation Loss: 0.0410388663524028\n",
      "Accuracy: 1.0\n"
     ]
    }
   ],
   "source": [
    "# Calculate evaluation metrics\n",
    "eval_len = len(data_loader_train.dataset)\n",
    "eval_loss /= eval_len\n",
    "accuracy = correct_labels / eval_len\n",
    "\n",
    "print(f\"Evaluation Loss: {eval_loss}\")\n",
    "print(f\"Accuracy: {accuracy}\")"
   ]
  },
  {
   "cell_type": "code",
   "execution_count": 28,
   "metadata": {},
   "outputs": [
    {
     "data": {
      "text/plain": [
       "('poltextlab-like-classification-model/tokenizer_config.json',\n",
       " 'poltextlab-like-classification-model/special_tokens_map.json',\n",
       " 'poltextlab-like-classification-model/vocab.txt',\n",
       " 'poltextlab-like-classification-model/added_tokens.json',\n",
       " 'poltextlab-like-classification-model/tokenizer.json')"
      ]
     },
     "execution_count": 28,
     "metadata": {},
     "output_type": "execute_result"
    }
   ],
   "source": [
    "model_path = 'poltextlab-like-classification-model'\n",
    "model.save_pretrained(model_path)\n",
    "tokenizer.save_pretrained(model_path)"
   ]
  },
  {
   "cell_type": "code",
   "execution_count": 29,
   "metadata": {},
   "outputs": [
    {
     "name": "stdout",
     "output_type": "stream",
     "text": [
      "10\n"
     ]
    }
   ],
   "source": [
    "# Load saved model and tokenizer\n",
    "loaded_model = BertForSequenceClassification.from_pretrained(model_path)\n",
    "loaded_tokenizer = BertTokenizer.from_pretrained(model_path)\n",
    "\n",
    "# Perform inference with the loaded model\n",
    "inputs = tokenizer(\"A gyár nettó profitja 439 millió euróra csökkent az elõzõ év harmadik negyedévében elért 903 millió euróhoz képest. Értékesítési árbevétele ezzel szemben 21,2 milliárd euróra emelkedett, ami 2,2 százalékos növekedést jelent.\"\n",
    "\"A német autógyár, amely olyan autómárkákat birtokol, mint az Audi, Seat, Skoda és a VW, nyereségének csökkenését az európai, illetve észak- és dél amerikai piacokon tapasztalható, idõsödõ modelljei iránti keresletcsökkenéssel magyarázta.\"\n",
    "\"(Üzleti Negyed)\"\n",
    "\"Ajánlat:\"\n",
    "\"Volkswagen\"\n",
    "\"Korábban:\", return_tensors=\"pt\")\n",
    "outputs = loaded_model(**inputs)\n",
    "predictions = outputs.logits\n",
    "id = torch.argmax(predictions, dim=1).item()\n",
    "print(id_to_label[id])"
   ]
  },
  {
   "cell_type": "code",
   "execution_count": null,
   "metadata": {},
   "outputs": [],
   "source": []
  }
 ],
 "metadata": {
  "kernelspec": {
   "display_name": "Python 3",
   "language": "python",
   "name": "python3"
  },
  "language_info": {
   "codemirror_mode": {
    "name": "ipython",
    "version": 3
   },
   "file_extension": ".py",
   "mimetype": "text/x-python",
   "name": "python",
   "nbconvert_exporter": "python",
   "pygments_lexer": "ipython3",
   "version": "3.11.5"
  }
 },
 "nbformat": 4,
 "nbformat_minor": 2
}
