{
 "cells": [
  {
   "cell_type": "code",
   "execution_count": 84,
   "metadata": {},
   "outputs": [],
   "source": [
    "import os\n",
    "import pandas as pd\n",
    "import numpy as np\n",
    "import gzip\n",
    "import json\n",
    "import torch\n",
    "import torch.nn as nn\n",
    "from torch.utils.data import Dataset, DataLoader\n",
    "import seaborn as sns\n",
    "import matplotlib.pyplot as plt\n",
    "from tqdm import trange\n",
    "from tqdm import tqdm_notebook as tqdm\n",
    "from torch.utils.data import DataLoader, TensorDataset\n",
    "import torch.nn as nn\n",
    "import torch.optim as optim\n",
    "from article_dataset import ArticleDataset\n",
    "\n",
    "from transformers import BertTokenizerFast as BertTokenizer, BertForSequenceClassification, AdamW, get_linear_schedule_with_warmup\n"
   ]
  },
  {
   "cell_type": "code",
   "execution_count": 85,
   "metadata": {},
   "outputs": [
    {
     "data": {
      "text/plain": [
       "device(type='cpu')"
      ]
     },
     "execution_count": 85,
     "metadata": {},
     "output_type": "execute_result"
    }
   ],
   "source": [
    "device = torch.device('cuda' if torch.cuda.is_available() else 'cpu')\n",
    "device\n",
    "\n",
    "if torch.cuda.is_available():\n",
    "    os.environ[\"CUDA_VISIBLE_DEVICES\"] = \"0\""
   ]
  },
  {
   "cell_type": "code",
   "execution_count": 135,
   "metadata": {},
   "outputs": [],
   "source": [
    "LABEL = 'major_topic_pred_index'\n",
    "ARTICLE = 'article'"
   ]
  },
  {
   "cell_type": "code",
   "execution_count": 136,
   "metadata": {},
   "outputs": [
    {
     "name": "stdout",
     "output_type": "stream",
     "text": [
      "RangeIndex(start=0, stop=132, step=1)\n",
      "RangeIndex(start=0, stop=66, step=1)\n",
      "RangeIndex(start=0, stop=66, step=1)\n",
      "<class 'pandas.core.frame.DataFrame'>\n",
      "RangeIndex: 66 entries, 0 to 65\n",
      "Data columns (total 11 columns):\n",
      " #   Column                  Non-Null Count  Dtype  \n",
      "---  ------                  --------------  -----  \n",
      " 0   title                   66 non-null     object \n",
      " 1   lead                    66 non-null     object \n",
      " 2   article                 66 non-null     object \n",
      " 3   domain                  66 non-null     object \n",
      " 4   url                     66 non-null     object \n",
      " 5   date_of_creation        63 non-null     object \n",
      " 6   cc_date                 66 non-null     object \n",
      " 7   tags                    66 non-null     object \n",
      " 8   doc_similarity          66 non-null     float64\n",
      " 9   major_topic_pred        66 non-null     int64  \n",
      " 10  major_topic_pred_index  66 non-null     int64  \n",
      "dtypes: float64(1), int64(2), object(8)\n",
      "memory usage: 5.8+ KB\n"
     ]
    }
   ],
   "source": [
    "def read_folder(folder_path):\n",
    "    dataframes = []\n",
    "    for filename in os.listdir(folder_path):\n",
    "        if filename.endswith('.jsonl.gz'):\n",
    "            with gzip.open(os.path.join(folder_path, filename), 'rt', encoding='utf-8') as file:\n",
    "                for line in file:\n",
    "                    json_data = json.loads(line)\n",
    "                    df = pd.DataFrame(json_data)\n",
    "                    dataframes.append(df)\n",
    "    if dataframes:\n",
    "        aggregated_df = pd.concat(dataframes, ignore_index=True)\n",
    "        return aggregated_df\n",
    "    else:\n",
    "        print(\"No jsonl files found in the directory.\")\n",
    "        return None\n",
    "    \n",
    "def reduce(_number=6):\n",
    "    # csak a test\n",
    "    test = os.path.join(os.getcwd(), 'test')\n",
    "    df = read_folder(test)\n",
    "    df.drop('uuid', axis=1, inplace=True)\n",
    "    return df.groupby('major_topic_pred').apply(lambda x: x.sample(n=min(_number, len(x)))).reset_index(drop=True)\n",
    "\n",
    "\n",
    "df_train = reduce()\n",
    "df_test = reduce(3)\n",
    "df_eval = reduce(3)\n",
    "\n",
    "print(df_train.index)\n",
    "print(df_test.index)\n",
    "print(df_eval.index)\n",
    "\n",
    "labels = df_train['major_topic_pred'].unique().tolist()\n",
    "number_of_labels = len(labels)\n",
    "id_to_label = {_id: label for _id, label in enumerate(labels)}\n",
    "label_to_id = {label: _id for _id, label in enumerate(labels)}\n",
    "\n",
    "\n",
    "df_train[\"major_topic_pred_index\"] = df_train['major_topic_pred'].map(lambda x: label_to_id[x])\n",
    "df_test[\"major_topic_pred_index\"] = df_test['major_topic_pred'].map(lambda x: label_to_id[x])\n",
    "df_eval[\"major_topic_pred_index\"] = df_eval['major_topic_pred'].map(lambda x: label_to_id[x])\n",
    "\n",
    "df_eval.info()"
   ]
  },
  {
   "cell_type": "code",
   "execution_count": 137,
   "metadata": {},
   "outputs": [
    {
     "data": {
      "text/html": [
       "<div>\n",
       "<style scoped>\n",
       "    .dataframe tbody tr th:only-of-type {\n",
       "        vertical-align: middle;\n",
       "    }\n",
       "\n",
       "    .dataframe tbody tr th {\n",
       "        vertical-align: top;\n",
       "    }\n",
       "\n",
       "    .dataframe thead th {\n",
       "        text-align: right;\n",
       "    }\n",
       "</style>\n",
       "<table border=\"1\" class=\"dataframe\">\n",
       "  <thead>\n",
       "    <tr style=\"text-align: right;\">\n",
       "      <th></th>\n",
       "      <th>title</th>\n",
       "      <th>lead</th>\n",
       "      <th>article</th>\n",
       "      <th>domain</th>\n",
       "      <th>url</th>\n",
       "      <th>date_of_creation</th>\n",
       "      <th>cc_date</th>\n",
       "      <th>tags</th>\n",
       "      <th>doc_similarity</th>\n",
       "      <th>major_topic_pred</th>\n",
       "      <th>major_topic_pred_index</th>\n",
       "    </tr>\n",
       "  </thead>\n",
       "  <tbody>\n",
       "    <tr>\n",
       "      <th>0</th>\n",
       "      <td>Bod Péter Ákos: Válság után, válságok előtt</td>\n",
       "      <td>Mit válthat ki egy újabb gazdasági krízis, és ...</td>\n",
       "      <td>Gazdaságról ma nem beszélhetünk úgy, hogy ne r...</td>\n",
       "      <td>hvg.hu</td>\n",
       "      <td>https://hvg.hu/gazdasag/201841_beszelgetesek__...</td>\n",
       "      <td>2018-10-15T11:00:00</td>\n",
       "      <td>2019-01-21T16:38:12</td>\n",
       "      <td>válság</td>\n",
       "      <td>0.721534</td>\n",
       "      <td>1</td>\n",
       "      <td>0</td>\n",
       "    </tr>\n",
       "    <tr>\n",
       "      <th>1</th>\n",
       "      <td>Milliárdokat spórol a Red Bull a Forma-1-en</td>\n",
       "      <td>A Red Bull Racing több pénzdíjat szerzett tava...</td>\n",
       "      <td>2012-ben 108,9 millió dolláros (24 milliárd fo...</td>\n",
       "      <td>24.hu</td>\n",
       "      <td>https://24.hu/sport/forma-1/2013/11/14/milliar...</td>\n",
       "      <td>2013-11-14T06:20:00</td>\n",
       "      <td>2019-08-26T04:58:32</td>\n",
       "      <td>Forma-1</td>\n",
       "      <td>0.735917</td>\n",
       "      <td>1</td>\n",
       "      <td>0</td>\n",
       "    </tr>\n",
       "    <tr>\n",
       "      <th>2</th>\n",
       "      <td>A világ legnagyobb motorgyára közelebb van, mi...</td>\n",
       "      <td>Egy használaton kívüli Rába-csarnokban indult ...</td>\n",
       "      <td>Túlzás nélkül állítható, hogy a gyõri üzem a m...</td>\n",
       "      <td>origo.hu</td>\n",
       "      <td>https://www.origo.hu/auto/20160831-hogyan-kesz...</td>\n",
       "      <td>2016-08-31T17:50:00</td>\n",
       "      <td>2019-07-18T20:25:21</td>\n",
       "      <td>Audi Gyõrben</td>\n",
       "      <td>0.672941</td>\n",
       "      <td>1</td>\n",
       "      <td>0</td>\n",
       "    </tr>\n",
       "    <tr>\n",
       "      <th>3</th>\n",
       "      <td>Íriország újra \"A\" besorolást kapott a Fitchtől</td>\n",
       "      <td>Visszaemelte az elsőrendű befektetői minősítés...</td>\n",
       "      <td>A nemzetközi hitelminősítő péntek este, az eur...</td>\n",
       "      <td>hvg.hu</td>\n",
       "      <td>https://hvg.hu/gazdasag/20140816_Iriorszag_ujr...</td>\n",
       "      <td>2014-08-16T09:14:00</td>\n",
       "      <td>2019-11-13T14:19:40</td>\n",
       "      <td>Írország</td>\n",
       "      <td>0.561079</td>\n",
       "      <td>1</td>\n",
       "      <td>0</td>\n",
       "    </tr>\n",
       "    <tr>\n",
       "      <th>4</th>\n",
       "      <td>Alapos megütötték a bitcoint - Az amerikai tőz...</td>\n",
       "      <td>A hétvégi G7-csúcstalálkozó nagy adómegállapod...</td>\n",
       "      <td>2021. június 08. 22:45\\n\\nNem volt egységes ir...</td>\n",
       "      <td>portfolio.hu</td>\n",
       "      <td>https://www.portfolio.hu/uzlet/20210608/alapos...</td>\n",
       "      <td>2021-06-08T22:45:00</td>\n",
       "      <td>2021-06-15T04:20:35</td>\n",
       "      <td>részvénypiac,</td>\n",
       "      <td>0.620573</td>\n",
       "      <td>1</td>\n",
       "      <td>0</td>\n",
       "    </tr>\n",
       "  </tbody>\n",
       "</table>\n",
       "</div>"
      ],
      "text/plain": [
       "                                               title  \\\n",
       "0        Bod Péter Ákos: Válság után, válságok előtt   \n",
       "1        Milliárdokat spórol a Red Bull a Forma-1-en   \n",
       "2  A világ legnagyobb motorgyára közelebb van, mi...   \n",
       "3    Íriország újra \"A\" besorolást kapott a Fitchtől   \n",
       "4  Alapos megütötték a bitcoint - Az amerikai tőz...   \n",
       "\n",
       "                                                lead  \\\n",
       "0  Mit válthat ki egy újabb gazdasági krízis, és ...   \n",
       "1  A Red Bull Racing több pénzdíjat szerzett tava...   \n",
       "2  Egy használaton kívüli Rába-csarnokban indult ...   \n",
       "3  Visszaemelte az elsőrendű befektetői minősítés...   \n",
       "4  A hétvégi G7-csúcstalálkozó nagy adómegállapod...   \n",
       "\n",
       "                                             article        domain  \\\n",
       "0  Gazdaságról ma nem beszélhetünk úgy, hogy ne r...        hvg.hu   \n",
       "1  2012-ben 108,9 millió dolláros (24 milliárd fo...         24.hu   \n",
       "2  Túlzás nélkül állítható, hogy a gyõri üzem a m...      origo.hu   \n",
       "3  A nemzetközi hitelminősítő péntek este, az eur...        hvg.hu   \n",
       "4  2021. június 08. 22:45\\n\\nNem volt egységes ir...  portfolio.hu   \n",
       "\n",
       "                                                 url     date_of_creation  \\\n",
       "0  https://hvg.hu/gazdasag/201841_beszelgetesek__...  2018-10-15T11:00:00   \n",
       "1  https://24.hu/sport/forma-1/2013/11/14/milliar...  2013-11-14T06:20:00   \n",
       "2  https://www.origo.hu/auto/20160831-hogyan-kesz...  2016-08-31T17:50:00   \n",
       "3  https://hvg.hu/gazdasag/20140816_Iriorszag_ujr...  2014-08-16T09:14:00   \n",
       "4  https://www.portfolio.hu/uzlet/20210608/alapos...  2021-06-08T22:45:00   \n",
       "\n",
       "               cc_date           tags  doc_similarity  major_topic_pred  \\\n",
       "0  2019-01-21T16:38:12         válság        0.721534                 1   \n",
       "1  2019-08-26T04:58:32        Forma-1        0.735917                 1   \n",
       "2  2019-07-18T20:25:21   Audi Gyõrben        0.672941                 1   \n",
       "3  2019-11-13T14:19:40       Írország        0.561079                 1   \n",
       "4  2021-06-15T04:20:35  részvénypiac,        0.620573                 1   \n",
       "\n",
       "   major_topic_pred_index  \n",
       "0                       0  \n",
       "1                       0  \n",
       "2                       0  \n",
       "3                       0  \n",
       "4                       0  "
      ]
     },
     "execution_count": 137,
     "metadata": {},
     "output_type": "execute_result"
    }
   ],
   "source": [
    "df_train.head()"
   ]
  },
  {
   "cell_type": "code",
   "execution_count": 138,
   "metadata": {},
   "outputs": [
    {
     "data": {
      "text/html": [
       "<div>\n",
       "<style scoped>\n",
       "    .dataframe tbody tr th:only-of-type {\n",
       "        vertical-align: middle;\n",
       "    }\n",
       "\n",
       "    .dataframe tbody tr th {\n",
       "        vertical-align: top;\n",
       "    }\n",
       "\n",
       "    .dataframe thead th {\n",
       "        text-align: right;\n",
       "    }\n",
       "</style>\n",
       "<table border=\"1\" class=\"dataframe\">\n",
       "  <thead>\n",
       "    <tr style=\"text-align: right;\">\n",
       "      <th></th>\n",
       "      <th>title</th>\n",
       "      <th>lead</th>\n",
       "      <th>article</th>\n",
       "      <th>domain</th>\n",
       "      <th>url</th>\n",
       "      <th>date_of_creation</th>\n",
       "      <th>cc_date</th>\n",
       "      <th>tags</th>\n",
       "      <th>doc_similarity</th>\n",
       "      <th>major_topic_pred</th>\n",
       "      <th>major_topic_pred_index</th>\n",
       "    </tr>\n",
       "  </thead>\n",
       "  <tbody>\n",
       "    <tr>\n",
       "      <th>0</th>\n",
       "      <td>Európába jött a mindent verő új Tesla Roadster</td>\n",
       "      <td>Az első példány hófehér fényezéssel érkezett m...</td>\n",
       "      <td>A Tesla nagyot durrantott azzal, hogy tavaly n...</td>\n",
       "      <td>hvg.hu</td>\n",
       "      <td>https://hvg.hu/cegauto/20180907_europaba_jott_...</td>\n",
       "      <td>2018-09-07T11:21:00</td>\n",
       "      <td>2020-12-05T12:38:34</td>\n",
       "      <td>villanyautó</td>\n",
       "      <td>0.181144</td>\n",
       "      <td>1</td>\n",
       "      <td>0</td>\n",
       "    </tr>\n",
       "    <tr>\n",
       "      <th>1</th>\n",
       "      <td>Aki egy éve Apple-részvényt vett, az nagyon so...</td>\n",
       "      <td>A tavalyi részvénypiaci szárnyalásból a techno...</td>\n",
       "      <td>Nagyot mentek 2019-ben az amerikai tőzsdék, a ...</td>\n",
       "      <td>portfolio.hu</td>\n",
       "      <td>https://www.portfolio.hu/uzlet/20200116/aki-eg...</td>\n",
       "      <td>2020-01-16T15:20:00</td>\n",
       "      <td>2020-01-29T03:19:08</td>\n",
       "      <td>árfolyam</td>\n",
       "      <td>0.812109</td>\n",
       "      <td>1</td>\n",
       "      <td>0</td>\n",
       "    </tr>\n",
       "    <tr>\n",
       "      <th>2</th>\n",
       "      <td>Európába jött a mindent verő új Tesla Roadster</td>\n",
       "      <td>Az első példány hófehér fényezéssel érkezett m...</td>\n",
       "      <td>A Tesla nagyot durrantott azzal, hogy tavaly n...</td>\n",
       "      <td>hvg.hu</td>\n",
       "      <td>https://hvg.hu/cegauto/20180907_europaba_jott_...</td>\n",
       "      <td>2018-09-07T11:21:00</td>\n",
       "      <td>2020-12-05T12:38:34</td>\n",
       "      <td>e-autó</td>\n",
       "      <td>0.181144</td>\n",
       "      <td>1</td>\n",
       "      <td>0</td>\n",
       "    </tr>\n",
       "    <tr>\n",
       "      <th>3</th>\n",
       "      <td>Diszkriminációról beszélnek a repülõrõl leszál...</td>\n",
       "      <td>Egy duplán eladott ülés miatt alakult ki a vit...</td>\n",
       "      <td>Több utast leszállítottak a Spirit Airlines Lo...</td>\n",
       "      <td>origo.hu</td>\n",
       "      <td>https://www.origo.hu/utazas/20151103-diszkrimi...</td>\n",
       "      <td>2015-11-03T14:15:00</td>\n",
       "      <td>2019-11-18T17:01:27</td>\n",
       "      <td>afroamerikai</td>\n",
       "      <td>0.396952</td>\n",
       "      <td>2</td>\n",
       "      <td>1</td>\n",
       "    </tr>\n",
       "    <tr>\n",
       "      <th>4</th>\n",
       "      <td>Az apokaliptikus jóslatokra nagyon fogékony a ...</td>\n",
       "      <td>Így lett Soros Györgyből gyűlölt figura, Orbán...</td>\n",
       "      <td>A Klubrádió reggeli műsorában Krekó Péter a Tö...</td>\n",
       "      <td>24.hu</td>\n",
       "      <td>https://24.hu/belfold/2018/05/09/az-apokalipti...</td>\n",
       "      <td>2018-05-09T15:57:00</td>\n",
       "      <td>2019-01-23T20:20:30</td>\n",
       "      <td>választás 2018</td>\n",
       "      <td>0.646710</td>\n",
       "      <td>2</td>\n",
       "      <td>1</td>\n",
       "    </tr>\n",
       "  </tbody>\n",
       "</table>\n",
       "</div>"
      ],
      "text/plain": [
       "                                               title  \\\n",
       "0     Európába jött a mindent verő új Tesla Roadster   \n",
       "1  Aki egy éve Apple-részvényt vett, az nagyon so...   \n",
       "2     Európába jött a mindent verő új Tesla Roadster   \n",
       "3  Diszkriminációról beszélnek a repülõrõl leszál...   \n",
       "4  Az apokaliptikus jóslatokra nagyon fogékony a ...   \n",
       "\n",
       "                                                lead  \\\n",
       "0  Az első példány hófehér fényezéssel érkezett m...   \n",
       "1  A tavalyi részvénypiaci szárnyalásból a techno...   \n",
       "2  Az első példány hófehér fényezéssel érkezett m...   \n",
       "3  Egy duplán eladott ülés miatt alakult ki a vit...   \n",
       "4  Így lett Soros Györgyből gyűlölt figura, Orbán...   \n",
       "\n",
       "                                             article        domain  \\\n",
       "0  A Tesla nagyot durrantott azzal, hogy tavaly n...        hvg.hu   \n",
       "1  Nagyot mentek 2019-ben az amerikai tőzsdék, a ...  portfolio.hu   \n",
       "2  A Tesla nagyot durrantott azzal, hogy tavaly n...        hvg.hu   \n",
       "3  Több utast leszállítottak a Spirit Airlines Lo...      origo.hu   \n",
       "4  A Klubrádió reggeli műsorában Krekó Péter a Tö...         24.hu   \n",
       "\n",
       "                                                 url     date_of_creation  \\\n",
       "0  https://hvg.hu/cegauto/20180907_europaba_jott_...  2018-09-07T11:21:00   \n",
       "1  https://www.portfolio.hu/uzlet/20200116/aki-eg...  2020-01-16T15:20:00   \n",
       "2  https://hvg.hu/cegauto/20180907_europaba_jott_...  2018-09-07T11:21:00   \n",
       "3  https://www.origo.hu/utazas/20151103-diszkrimi...  2015-11-03T14:15:00   \n",
       "4  https://24.hu/belfold/2018/05/09/az-apokalipti...  2018-05-09T15:57:00   \n",
       "\n",
       "               cc_date            tags  doc_similarity  major_topic_pred  \\\n",
       "0  2020-12-05T12:38:34     villanyautó        0.181144                 1   \n",
       "1  2020-01-29T03:19:08        árfolyam        0.812109                 1   \n",
       "2  2020-12-05T12:38:34          e-autó        0.181144                 1   \n",
       "3  2019-11-18T17:01:27    afroamerikai        0.396952                 2   \n",
       "4  2019-01-23T20:20:30  választás 2018        0.646710                 2   \n",
       "\n",
       "   major_topic_pred_index  \n",
       "0                       0  \n",
       "1                       0  \n",
       "2                       0  \n",
       "3                       1  \n",
       "4                       1  "
      ]
     },
     "execution_count": 138,
     "metadata": {},
     "output_type": "execute_result"
    }
   ],
   "source": [
    "df_test.head()"
   ]
  },
  {
   "cell_type": "code",
   "execution_count": 139,
   "metadata": {},
   "outputs": [
    {
     "data": {
      "text/html": [
       "<div>\n",
       "<style scoped>\n",
       "    .dataframe tbody tr th:only-of-type {\n",
       "        vertical-align: middle;\n",
       "    }\n",
       "\n",
       "    .dataframe tbody tr th {\n",
       "        vertical-align: top;\n",
       "    }\n",
       "\n",
       "    .dataframe thead th {\n",
       "        text-align: right;\n",
       "    }\n",
       "</style>\n",
       "<table border=\"1\" class=\"dataframe\">\n",
       "  <thead>\n",
       "    <tr style=\"text-align: right;\">\n",
       "      <th></th>\n",
       "      <th>title</th>\n",
       "      <th>lead</th>\n",
       "      <th>article</th>\n",
       "      <th>domain</th>\n",
       "      <th>url</th>\n",
       "      <th>date_of_creation</th>\n",
       "      <th>cc_date</th>\n",
       "      <th>tags</th>\n",
       "      <th>doc_similarity</th>\n",
       "      <th>major_topic_pred</th>\n",
       "      <th>major_topic_pred_index</th>\n",
       "    </tr>\n",
       "  </thead>\n",
       "  <tbody>\n",
       "    <tr>\n",
       "      <th>0</th>\n",
       "      <td>Friss kémfotókon a Ferrari első szabadidő-autója</td>\n",
       "      <td>Az összkerékhajtású hibrid Purosangue-ot előre...</td>\n",
       "      <td>Ha valaki igazán izgalmas olasz divatterepjáró...</td>\n",
       "      <td>hvg.hu</td>\n",
       "      <td>https://hvg.hu/cegauto/20210407_friss_kemfotok...</td>\n",
       "      <td>2021-04-07T06:41:00</td>\n",
       "      <td>2021-04-23T06:29:43</td>\n",
       "      <td>autó</td>\n",
       "      <td>0.379798</td>\n",
       "      <td>1</td>\n",
       "      <td>0</td>\n",
       "    </tr>\n",
       "    <tr>\n",
       "      <th>1</th>\n",
       "      <td>Bod Péter Ákos: Válság után, válságok előtt</td>\n",
       "      <td>Mit válthat ki egy újabb gazdasági krízis, és ...</td>\n",
       "      <td>Gazdaságról ma nem beszélhetünk úgy, hogy ne r...</td>\n",
       "      <td>hvg.hu</td>\n",
       "      <td>https://hvg.hu/gazdasag/201841_beszelgetesek__...</td>\n",
       "      <td>2018-10-15T11:00:00</td>\n",
       "      <td>2019-01-21T16:38:12</td>\n",
       "      <td>Bod Péter Ákos</td>\n",
       "      <td>0.721534</td>\n",
       "      <td>1</td>\n",
       "      <td>0</td>\n",
       "    </tr>\n",
       "    <tr>\n",
       "      <th>2</th>\n",
       "      <td>Mindenkit megtéveszt az indiai gazdaság?</td>\n",
       "      <td>India gazdasági növekedése a világ élvonalában...</td>\n",
       "      <td>Az indiai GDP valódi éves növekedése akár 2,5 ...</td>\n",
       "      <td>origo.hu</td>\n",
       "      <td>https://www.origo.hu/gazdasag/20190613-india-g...</td>\n",
       "      <td>2019-06-13T21:02:00</td>\n",
       "      <td>2019-07-21T06:25:00</td>\n",
       "      <td>GDP</td>\n",
       "      <td>0.730037</td>\n",
       "      <td>1</td>\n",
       "      <td>0</td>\n",
       "    </tr>\n",
       "    <tr>\n",
       "      <th>3</th>\n",
       "      <td>Megtalálták a legendák hatalmas folyóját</td>\n",
       "      <td>Miért omlott össze az ókor egyik legnagyobb, d...</td>\n",
       "      <td>Az Indus-völgyi kultúra - más néven Harappa-ci...</td>\n",
       "      <td>origo.hu</td>\n",
       "      <td>http://www.origo.hu/tudomany/20120529-indus-ha...</td>\n",
       "      <td>2012-05-30T10:35:00</td>\n",
       "      <td>2018-05-24T19:49:06</td>\n",
       "      <td>klímaváltozás</td>\n",
       "      <td>0.759946</td>\n",
       "      <td>2</td>\n",
       "      <td>1</td>\n",
       "    </tr>\n",
       "    <tr>\n",
       "      <th>4</th>\n",
       "      <td>Diszkriminációról beszélnek a repülõrõl leszál...</td>\n",
       "      <td>Egy duplán eladott ülés miatt alakult ki a vit...</td>\n",
       "      <td>Több utast leszállítottak a Spirit Airlines Lo...</td>\n",
       "      <td>origo.hu</td>\n",
       "      <td>https://www.origo.hu/utazas/20151103-diszkrimi...</td>\n",
       "      <td>2015-11-03T14:15:00</td>\n",
       "      <td>2019-11-18T17:01:27</td>\n",
       "      <td>Los Angeles</td>\n",
       "      <td>0.396952</td>\n",
       "      <td>2</td>\n",
       "      <td>1</td>\n",
       "    </tr>\n",
       "  </tbody>\n",
       "</table>\n",
       "</div>"
      ],
      "text/plain": [
       "                                               title  \\\n",
       "0   Friss kémfotókon a Ferrari első szabadidő-autója   \n",
       "1        Bod Péter Ákos: Válság után, válságok előtt   \n",
       "2           Mindenkit megtéveszt az indiai gazdaság?   \n",
       "3           Megtalálták a legendák hatalmas folyóját   \n",
       "4  Diszkriminációról beszélnek a repülõrõl leszál...   \n",
       "\n",
       "                                                lead  \\\n",
       "0  Az összkerékhajtású hibrid Purosangue-ot előre...   \n",
       "1  Mit válthat ki egy újabb gazdasági krízis, és ...   \n",
       "2  India gazdasági növekedése a világ élvonalában...   \n",
       "3  Miért omlott össze az ókor egyik legnagyobb, d...   \n",
       "4  Egy duplán eladott ülés miatt alakult ki a vit...   \n",
       "\n",
       "                                             article    domain  \\\n",
       "0  Ha valaki igazán izgalmas olasz divatterepjáró...    hvg.hu   \n",
       "1  Gazdaságról ma nem beszélhetünk úgy, hogy ne r...    hvg.hu   \n",
       "2  Az indiai GDP valódi éves növekedése akár 2,5 ...  origo.hu   \n",
       "3  Az Indus-völgyi kultúra - más néven Harappa-ci...  origo.hu   \n",
       "4  Több utast leszállítottak a Spirit Airlines Lo...  origo.hu   \n",
       "\n",
       "                                                 url     date_of_creation  \\\n",
       "0  https://hvg.hu/cegauto/20210407_friss_kemfotok...  2021-04-07T06:41:00   \n",
       "1  https://hvg.hu/gazdasag/201841_beszelgetesek__...  2018-10-15T11:00:00   \n",
       "2  https://www.origo.hu/gazdasag/20190613-india-g...  2019-06-13T21:02:00   \n",
       "3  http://www.origo.hu/tudomany/20120529-indus-ha...  2012-05-30T10:35:00   \n",
       "4  https://www.origo.hu/utazas/20151103-diszkrimi...  2015-11-03T14:15:00   \n",
       "\n",
       "               cc_date            tags  doc_similarity  major_topic_pred  \\\n",
       "0  2021-04-23T06:29:43            autó        0.379798                 1   \n",
       "1  2019-01-21T16:38:12  Bod Péter Ákos        0.721534                 1   \n",
       "2  2019-07-21T06:25:00             GDP        0.730037                 1   \n",
       "3  2018-05-24T19:49:06   klímaváltozás        0.759946                 2   \n",
       "4  2019-11-18T17:01:27     Los Angeles        0.396952                 2   \n",
       "\n",
       "   major_topic_pred_index  \n",
       "0                       0  \n",
       "1                       0  \n",
       "2                       0  \n",
       "3                       1  \n",
       "4                       1  "
      ]
     },
     "execution_count": 139,
     "metadata": {},
     "output_type": "execute_result"
    }
   ],
   "source": [
    "df_eval.head()"
   ]
  },
  {
   "cell_type": "code",
   "execution_count": 140,
   "metadata": {},
   "outputs": [
    {
     "data": {
      "text/plain": [
       "({0: 1,\n",
       "  1: 2,\n",
       "  2: 3,\n",
       "  3: 4,\n",
       "  4: 5,\n",
       "  5: 6,\n",
       "  6: 7,\n",
       "  7: 8,\n",
       "  8: 9,\n",
       "  9: 10,\n",
       "  10: 12,\n",
       "  11: 13,\n",
       "  12: 14,\n",
       "  13: 15,\n",
       "  14: 16,\n",
       "  15: 17,\n",
       "  16: 18,\n",
       "  17: 19,\n",
       "  18: 20,\n",
       "  19: 21,\n",
       "  20: 23,\n",
       "  21: 999},\n",
       " {1: 0,\n",
       "  2: 1,\n",
       "  3: 2,\n",
       "  4: 3,\n",
       "  5: 4,\n",
       "  6: 5,\n",
       "  7: 6,\n",
       "  8: 7,\n",
       "  9: 8,\n",
       "  10: 9,\n",
       "  12: 10,\n",
       "  13: 11,\n",
       "  14: 12,\n",
       "  15: 13,\n",
       "  16: 14,\n",
       "  17: 15,\n",
       "  18: 16,\n",
       "  19: 17,\n",
       "  20: 18,\n",
       "  21: 19,\n",
       "  23: 20,\n",
       "  999: 21})"
      ]
     },
     "execution_count": 140,
     "metadata": {},
     "output_type": "execute_result"
    }
   ],
   "source": [
    "id_to_label, label_to_id"
   ]
  },
  {
   "cell_type": "code",
   "execution_count": 141,
   "metadata": {},
   "outputs": [],
   "source": [
    "BERT_MODEL_NAME = 'bert-base-uncased'\n",
    "tokenizer = BertTokenizer.from_pretrained(BERT_MODEL_NAME, return_tensors='pt')"
   ]
  },
  {
   "cell_type": "code",
   "execution_count": 142,
   "metadata": {},
   "outputs": [
    {
     "name": "stdout",
     "output_type": "stream",
     "text": [
      "Gazdaságról ma nem beszélhetünk úgy, hogy ne reagálnánk – tudva vagy öntudatlanul – két hatalmas globális folyamatra. Az egyik a legutóbbi pénzügyi világválság lefutása: a fejlett világ magjából, az Egyesült Államokból indult ki, de minden kapcsolódó gazdaságot eltalált, a miénket különösen nagy erővel, 2008 őszén. A másik az újabb ipari-technológiai-információs forradalom.\n",
      "\n",
      "Elég körbepillantani a metrón vagy (sajnos) az osztályteremben: a tekintetek jellemzően a monitoron, a telefonkijelzőn. A gyors és egyre olcsóbb információszerzés és tárolás átformálta az életünket, már eddig is alapjaiban érintett számos gazdasági tevékenységet. Felmérésekből jól tudható, hogy a robotok és algoritmusok révén hol és mennyi mostani munkatevékenység válik helyettesíthetővé már a legközelebbi jövőben.\n",
      "\n",
      "Nem teljesen új dolog ez. A kapitalizmusnak Joseph Schumpeter által exponált jellemzője a teremtő rombolás (creative destruction). Ezt mi a térségben, más történelmi szituációban, a rendszerváltozás során a bőrünkön érezhettük. Most viszont az egész globális ipari struktúra ki van téve a diszruptív technológiák társadalmi és üzleti következményeinek.\n",
      "\n",
      "Technológiai optimizmusunk azt mondatja velünk, hogy a nehéz munkák és a monoton feladatok nyűgétől megszabadító információs fordulat szédítő távlatokat nyit meg az emberiség előtt. Aggódó énünk viszont azt is tudja, hogy rengeteg munkahely válhat feleslegessé – és ezzel emberek veszítik el társadalmi státusukat. Ráadásul ugyanezen technológiák félelmetes társadalom-ellenőrző eszközt adtak globális cégek és állami szervezetek kezébe.\n",
      "\n",
      "A gazdaság és a társadalom kellemetlen nexusa\n",
      "\n",
      "Olyan korszakban élünk, amikor e két globális folyamat hatására a társadalomban megnőtt a bizonytalanság érzése. A fejlett világban felerősödött az ellenérzés a big business-szel és a politikai elittel szemben. A válság óta egészen más lett a közbeszéd gazdaságról, pénzügyekről, bankokról és bankárokról. Más lett a politika is az erősen érintett országokban.\n",
      "\n",
      "Vesztett vonzerejéből a szabadelvű, versenyt és piaci kezdeményezést pártoló világlátás. Úgy tűnik most, hogy az önérdeken, egyéni kezdeményezésen és önkéntes piaci cserén alapuló gazdasági rend, amelyet Adam Smith, a bölcs skót 1776-ban kiadott nagy művében (A nemzetek gazdagsága) példaként és ígéretként felmutatott, immár nem képes kellően integrálni a gazdasági életet, az annak keretet adó társadalmat.\n",
      "\n",
      "A mostani elfordulást a szabadelvű ideáktól tekinthetjük a pozícióit veszélyben látó nyugati világ elbizonytalanodása logikus következményének. Logikus, ám vajon tartós fejlemény-e ez, vagy csupán átmeneti életérzés? És valóban, főként a Nyugat ügye-e ez, amint sokan vallják? Avagy a piaci rend vonzereje és hitelessége globális méretekben is sérül?\n",
      "\n",
      "Csupa olyan kérdés, amelyben fontos az alapos körbetekintés, előre- és visszapillantás. A Nyugat alkonyát pont száz éve jósolta meg Oswald Spengler – negyven évre rá eljött a Wirtschaftswunder, majd a francia és olasz gazdasági csoda, aztán az északi nemzetek iparilag is versenyképes jóléti állama. Az én generációmnak Európa példa és remény lett, tájékozódási pont az autoriter rendszerek alattvalói, a tervgazdasági keretek közé szorítottak számára. Majd migrációs célpontja azoknak, akik békét és jólétet kívánnak gyermekeiknek.\n",
      "\n",
      "Európa, a Nyugat ma is mágnes. A haláláról szóló hírek tehát némileg koraiak (vagy megkésettek). Lehet, hogy politikai krízisek szakítják meg az utóbbi jó néhány év gazdasági helyreállítását Európában (Olaszországnak jó esélye van a címlapra kerülésre), de a fundamentumokat tekintve a vén kontinens gazdasága nem keveset modernizálódott a krízis óta. A bezzegországokként emlegetett BRICS-csoport, meg néhány nagy „felemelkedő gazdaság” sokkal inkább látszik ma sebezhetőnek.\n",
      "\n",
      "A szabadkereskedelmi rend valóban leáldozóban van? Ha tekintetünket a világ gazdag és polgárosodott országain és az azokhoz szorosan kötődő nyugatos térségeken túlra emeljük, azt látjuk, hogy a világgazdaság korábbi peremvidékein (Indiában, Kínában, Indonéziában) évente százmilliók jutnak fel középosztályi jövedelmi és társadalmi helyzetbe. Anyagi és státusbeli felemelkedésüket nem kis mértékben annak a világkereskedelmi rendszernek köszönhetik, amely mindig is csak a nevében volt ugyan szabadpiaci, de az ezredfordulóra mégis sokkal liberalizáltabb lett, mint amilyenek a világháborúkat követő rezsimek voltak, nem is beszélve a forró és hideg háborúk éveiről.\n",
      "\n",
      "Ez a kereskedelmi rend pedig ma komoly veszélyben forog – és immár nem az elzárkózó kommunista tervgazdaságok és antikapitalista mozgalmak részéről, mint egy korábbi korszakban. Fura módon ma az Egyesült Államok elnöke hibáztatja a szabadkereskedelmet, és a kínai kommunista vezetők hivatkoznak a piaci rendszer lényegéhez tartozó win-win elvre. A levegő puskaporos: vámháborús lépések, ellenintézkedések és ellen-ellenintézkedések soráról olvashatunk. Hogy a hegemóniára törekvő erők, a gazdasági nacionalizmust hirdető erős fiúk egymásnak feszülése idővel lecsillapodik-e, vagy pedig roppant költséges és veszedelmes spirállá válik, ma még megmondhatatlan.\n",
      "\n",
      "De a másik nagy folyamat romboló és építő jegyeinek a prognosztizálása is roppant nehéz, noha az információs forradalomnak vannak nagy ígéretei és izgalmas eddigi hozadékai. Például az, hogy az indiai, egyiptomi, ghánai, brazil fiatalok csaknem ugyanolyan kommunikációs világban élnek, mint a nyugati országok fiataljai, a globális kulturális és fogyasztási mintákat real time-ban követhetik. Nehéz rávágni, hogy jó-e ez, vagy sem. Jó, hogy a glóbusz szellemi és tudományos javai, kulturális kincsei könnyebben elérhetővé váltak. Meg persze a dezinformáció és az értéktelenség is – ez nem jó. Továbbá: nem mindenki részesülhet a forradalmi javakból, hiszen nincs mindenkinek esélye a kívánatos minták és példák átvételére. Sőt jogos az aggály, hogy a digitális analfabetizmus lealacsonyítóbb lehet, mint a korábbi korszakokban a kimaradás a betűvetésből.\n",
      "\n",
      "Hazai ügyeinkről\n",
      "\n",
      "Minden nagy folyamat sokesélyes. Nyilván korai lenne vészharangokat kongatni az újabb gazdasági krízis lehetséges bekövetkezte vagy a technológiai forradalom esetleges elfajulása miatt. Jó lenne viszont megérteni, majd a lehető legtöbb érintettel megértetni azt a látszólagos rendszertelenséget, gazdasági és technológiai felkavarodottságot, ami a korábbi bizonyosságok helyébe lépett.\n",
      "\n",
      "Nálunk különösen kevés a biztos pont az ember életében. Hazánk a fejlett Nyugathoz kötődik, noha nem vált annak szerves részévé a rendszerváltozás immár több évtizedes folyamatában. A mi nézőpontunk mindig is némileg más volt. Valójában a globális rendszer mostani zavarai minket nem is lepnek meg annyira, hiszen itt régóta mindig minden valahogy kaotikusan működött. De mindenképpen másként, mint a tájékozódási pontunknak számító gazdagabb Nyugaton.\n",
      "\n",
      "Ugyanakkor viszonylagos elmaradottságunk ismeretében sem áltathatjuk magunkat, hogy közepes fejlettségünk és még mindig mérsékelt bérszintünk mellett az automatizálás, a robotizálás tömeges alkalmazása jóval később ér el hozzánk, mind oda, ahol a munkaerő igen drága. Ha költséghatékonysági okokból van is bizonyos fáziskésés az új eljárások belépésében, a kegyelmi idő csekély. Peremhelyzeti létünk nem tompítja a globális változások érvényre jutásának erejét, elég csak a pénzügyi válságra visszautalni, amely az anyagilag fejlett térségben tört ugyan ki, de a szoros összekapcsoltság miatt a hatások miránk is roppant gyorsan átterjedtek. Pedig ideát a piacgazdaság „financializációja” és pénzügyi mélysége távolról sem lett olyan fokú, mint a maggazdaságokban.\n",
      "\n",
      "Ez tanulság nekünk a jövőre nézve is. Mélyen beépültünk már az értékalkotó láncolatokba, következésképpen a nyugati vállalatközpontokban eldöntött digitalizáció nem fog megállni az alacsonyabb bérszintű gazdaságok képzeletbeli határánál. Készen állunk az új ipari kultúrára? Képzettségi, egészségügyi, értékrendi mutatóink (amelyek átlagszámok) nem adnak okot dicsekvésre közvetlen térségünkben sem, nemhogy a fejlett maghoz mérve – és a magyarországi átlagértékek mögött meghökkentő szóródás rejlik.\n",
      "\n",
      "Tanulságok újszülötteknek\n",
      "\n",
      "A válságévek alapján levonható egyik általános tanulság csak az újszülöttnek vadonatúj: a piacgazdaság ciklikus működésű, sőt időnkénti válságokra hajlamos. (A tervgazdaságok is ilyenek voltak, csak másképpen.) A mai pillanat sajátossága, hogy a társadalom immár tíz éve a krízis nyelvén szól fiatalhoz és idősebbhez. Különös a helyzet: a munkaerőpiacra kikerülő új generáció a gazdaság fogalmához kiskora óta a válságot társítja, a pénzügy szóhoz a krízis kapcsolódik. Erre az asszociációra a politikusok még rá is játszhatnak, mert ha válság van, akkor nekik nagyobb puvoár jár, és indokoltan tehetik magukat túl a békeidők polgári szabályain.\n",
      "\n",
      "És valóban, a másik tanulság, hogy gazdasági zavar és válság idején a politika aktivizálódik. Ilyen a természete. Meg azért is, mivel az érintettek egy része ilyenkor jobb híján a politikai erőkhöz (és az erőt mutató politikusokhoz) fordul védelemért. Ebben persze az országok között nagy különbségek mutatkoznak, sőt azonos országon belül is különfélék az emberek. A mi vidékünkön mindig is elég széles volt az államra támaszkodók köre, hagyománya van a paternalizmusnak. Mégis meghökkentő azt tapasztalni, hogy nemcsak az egypárti rendszerben szocializálódott idősebbek között gyakori az államközpontú gondolkodás. Adatok mutatják, hogy a mai új generációban még nagyobb azok aránya, akik nem hisznek a gazdasági verseny jólétnövelő, teljesítményjavító hatásában, és inkább elfogadják, sőt egyenesen igénylik az állam beavatkozását. Nem mindenkire jellemző persze ez a felfogás és értékrend a sokrétűen tagolt magyar fiatalságon belül, de túl sokakra igaz ahhoz, hogy a szabadelvű gondolat és viselkedés méltó helyének kivívását ma egyszerűen az új korosztály belépésétől várhassuk.\n",
      "\n",
      "Nem magyar ügy ez sem. Amivel kezdtem: láthatóan recseg-ropog az úgynevezett liberális világgazdasági rend, és nem elsősorban a peremvidéken felgyűlő elégedetlenség miatt. A szabadkereskedelem egyébként csupán szófordulat, hiszen az áruk és tőkék globális mozgását a második világháborút követően megalkotott intézmények és szabályok sokasága szavatolja.\n",
      "\n",
      "A Pax Americana alatt megalkotott szabályokat és kötöttségeket éppen most akarják felrúgni, jobb esetben átszabni. Ironikus, de nem logikátlan a helyzet, hogy ezenközben különféle nem nyugati típusú országok inkább ragaszkodnak e rendhez. Okkal: a csekély számú, gyorsan konvergáló nemzet számára nagy adomány volt a rendezett hozzáférés a világpiachoz. A külkereskedelmi kitettségünk okán nekünk, magyaroknak (meg persze cseheknek, íreknek, szlovákoknak, hollandoknak) szintén életbe vágóan fontos a határok minél könnyebb és olcsóbb átjárhatósága. Leegyszerűsítve: ha valami okból a schengeni határokon kívül kerülnénk, nem maradhatna meg magyar földön a járműipar, a maga just-in-time szállítási logikájával.\n",
      "\n",
      "Az már a politika különleges ellentmondása, hogy a nemzeti szuverenitás (bonyolult tartalmú) fogalmát buzogányként forgató kisállami politikus olyan ügyekben vitézkedik, amelyekben csatákat lehet ugyan nyerni, de háborút nem. Ha tényleg egymásnak esnek a nagy erőközpontok, a kis és nyitott gazdaságok sokkal többet veszítenek, mint a külsőleg kevésbé kitett nagy államok. Ám enélkül is sokasodnak a viharfelhők: az üzleti ciklus túl régóta tart felfelé a világ meghatározó gazdaságaiban, márpedig rendszerint olyankor tör ki a baj, amikor látszólag minden jól megy.\n",
      "\n",
      "Nem a krízis fenyegető képét vetítem előre, az nem is prognosztizálható. De a recessziót várók hivatkozhatnak előre látható tényezőkre is. Elvégre 2007 után a világ nagy jegybankjai, meg kisebb követőik a gazdaságtörténelemben sosem látott mélységbe vitték a kamatokat, hihetetlen pénzmennyiséggel kúrálva a piaci rend zavarait. Már régen nem volt recesszió, és még mindig hosszú időn át negatív kamatlábak mellett folyt az államok finanszírozása. A bankoknak, cégeknek szinte alanyi jogon járt az olcsó hitel. Mindennek azonban egyszer vége lesz. Sőt a nagy olcsóság vége már meg is kezdődött – majd meglátjuk, kik, miként alkalmazkodnak az új realitásokhoz.\n",
      "\n",
      "Alkalmazkodás, rugalmasság, tanulás. Ezek a formálódó globális gazdasági rend kulcsszavai, és ezeken múlik a magyar társadalom előtt álló feladatok megoldása is. Harminc év alatt rengeteget alkalmazkodtunk. A másik két készséget illetően nagyok a kétségeim.\n",
      "\n",
      "BOD PÉTER ÁKOS\n",
      "\n",
      "közgazdász, egyetemi tanár\n",
      "label:  0\n"
     ]
    }
   ],
   "source": [
    "sample_row = df_train.iloc[0]\n",
    "sample_article = sample_row[ARTICLE]\n",
    "sample_label = sample_row[LABEL]\n",
    "\n",
    "print(sample_article)\n",
    "print(\"label: \", sample_label)"
   ]
  },
  {
   "cell_type": "code",
   "execution_count": 143,
   "metadata": {},
   "outputs": [
    {
     "data": {
      "text/plain": [
       "dict_keys(['input_ids', 'attention_mask'])"
      ]
     },
     "execution_count": 143,
     "metadata": {},
     "output_type": "execute_result"
    }
   ],
   "source": [
    "encoding = tokenizer.encode_plus(\n",
    "  sample_article,\n",
    "  add_special_tokens=True,\n",
    "  max_length=1024,\n",
    "  return_token_type_ids=False,\n",
    "  padding=\"max_length\",\n",
    "  return_attention_mask=True,\n",
    "  return_tensors='pt',\n",
    ")\n",
    "\n",
    "encoding.keys()"
   ]
  },
  {
   "cell_type": "code",
   "execution_count": 144,
   "metadata": {},
   "outputs": [
    {
     "data": {
      "text/plain": [
       "(torch.Size([1, 4921]), torch.Size([1, 4921]))"
      ]
     },
     "execution_count": 144,
     "metadata": {},
     "output_type": "execute_result"
    }
   ],
   "source": [
    "encoding[\"input_ids\"].shape, encoding[\"attention_mask\"].shape"
   ]
  },
  {
   "cell_type": "code",
   "execution_count": 145,
   "metadata": {},
   "outputs": [
    {
     "name": "stdout",
     "output_type": "stream",
     "text": [
      "['[CLS]', 'ga', '##zd', '##asa', '##gr', '##ol', 'ma', 'ne', '##m', 'be', '##sz', '##el', '##het', '##unk', 'u', '##gy', ',', 'hog', '##y', 'ne']\n"
     ]
    }
   ],
   "source": [
    "print(tokenizer.convert_ids_to_tokens(encoding[\"input_ids\"].squeeze())[:20])"
   ]
  },
  {
   "cell_type": "code",
   "execution_count": 146,
   "metadata": {},
   "outputs": [],
   "source": [
    "token_counts = []\n",
    "\n",
    "for _, row in df_train.iterrows():\n",
    "    token_count = len(tokenizer.encode(\n",
    "        row[ARTICLE], \n",
    "        max_length=512, \n",
    "        truncation=True\n",
    "    ))\n",
    "    token_counts.append(token_count)"
   ]
  },
  {
   "cell_type": "code",
   "execution_count": 147,
   "metadata": {},
   "outputs": [
    {
     "data": {
      "image/png": "[encoded data removed]",
      "text/plain": [
       "<Figure size 640x480 with 1 Axes>"
      ]
     },
     "metadata": {},
     "output_type": "display_data"
    }
   ],
   "source": [
    "sns.histplot(token_counts)\n",
    "plt.xlim([0, 512]);"
   ]
  },
  {
   "cell_type": "code",
   "execution_count": 148,
   "metadata": {},
   "outputs": [],
   "source": [
    "MAX_TOKEN_COUNT = 512"
   ]
  },
  {
   "cell_type": "code",
   "execution_count": 149,
   "metadata": {},
   "outputs": [
    {
     "data": {
      "text/plain": [
       "dict_keys(['article', 'input_ids', 'attention_mask', 'label'])"
      ]
     },
     "execution_count": 149,
     "metadata": {},
     "output_type": "execute_result"
    }
   ],
   "source": [
    "\n",
    "\n",
    "train_dataset = ArticleDataset(\n",
    "  df_train,\n",
    "  tokenizer,\n",
    "  max_token_len=MAX_TOKEN_COUNT\n",
    ")\n",
    "\n",
    "sample_item = train_dataset[0]\n",
    "sample_item.keys()"
   ]
  },
  {
   "cell_type": "code",
   "execution_count": 150,
   "metadata": {},
   "outputs": [
    {
     "data": {
      "text/plain": [
       "{'article': 'Gazdaságról ma nem beszélhetünk úgy, hogy ne reagálnánk – tudva vagy öntudatlanul – két hatalmas globális folyamatra. Az egyik a legutóbbi pénzügyi világválság lefutása: a fejlett világ magjából, az Egyesült Államokból indult ki, de minden kapcsolódó gazdaságot eltalált, a miénket különösen nagy erővel, 2008 őszén. A másik az újabb ipari-technológiai-információs forradalom.\\n\\nElég körbepillantani a metrón vagy (sajnos) az osztályteremben: a tekintetek jellemzően a monitoron, a telefonkijelzőn. A gyors és egyre olcsóbb információszerzés és tárolás átformálta az életünket, már eddig is alapjaiban érintett számos gazdasági tevékenységet. Felmérésekből jól tudható, hogy a robotok és algoritmusok révén hol és mennyi mostani munkatevékenység válik helyettesíthetővé már a legközelebbi jövőben.\\n\\nNem teljesen új dolog ez. A kapitalizmusnak Joseph Schumpeter által exponált jellemzője a teremtő rombolás (creative destruction). Ezt mi a térségben, más történelmi szituációban, a rendszerváltozás során a bőrünkön érezhettük. Most viszont az egész globális ipari struktúra ki van téve a diszruptív technológiák társadalmi és üzleti következményeinek.\\n\\nTechnológiai optimizmusunk azt mondatja velünk, hogy a nehéz munkák és a monoton feladatok nyűgétől megszabadító információs fordulat szédítő távlatokat nyit meg az emberiség előtt. Aggódó énünk viszont azt is tudja, hogy rengeteg munkahely válhat feleslegessé – és ezzel emberek veszítik el társadalmi státusukat. Ráadásul ugyanezen technológiák félelmetes társadalom-ellenőrző eszközt adtak globális cégek és állami szervezetek kezébe.\\n\\nA gazdaság és a társadalom kellemetlen nexusa\\n\\nOlyan korszakban élünk, amikor e két globális folyamat hatására a társadalomban megnőtt a bizonytalanság érzése. A fejlett világban felerősödött az ellenérzés a big business-szel és a politikai elittel szemben. A válság óta egészen más lett a közbeszéd gazdaságról, pénzügyekről, bankokról és bankárokról. Más lett a politika is az erősen érintett országokban.\\n\\nVesztett vonzerejéből a szabadelvű, versenyt és piaci kezdeményezést pártoló világlátás. Úgy tűnik most, hogy az önérdeken, egyéni kezdeményezésen és önkéntes piaci cserén alapuló gazdasági rend, amelyet Adam Smith, a bölcs skót 1776-ban kiadott nagy művében (A nemzetek gazdagsága) példaként és ígéretként felmutatott, immár nem képes kellően integrálni a gazdasági életet, az annak keretet adó társadalmat.\\n\\nA mostani elfordulást a szabadelvű ideáktól tekinthetjük a pozícióit veszélyben látó nyugati világ elbizonytalanodása logikus következményének. Logikus, ám vajon tartós fejlemény-e ez, vagy csupán átmeneti életérzés? És valóban, főként a Nyugat ügye-e ez, amint sokan vallják? Avagy a piaci rend vonzereje és hitelessége globális méretekben is sérül?\\n\\nCsupa olyan kérdés, amelyben fontos az alapos körbetekintés, előre- és visszapillantás. A Nyugat alkonyát pont száz éve jósolta meg Oswald Spengler – negyven évre rá eljött a Wirtschaftswunder, majd a francia és olasz gazdasági csoda, aztán az északi nemzetek iparilag is versenyképes jóléti állama. Az én generációmnak Európa példa és remény lett, tájékozódási pont az autoriter rendszerek alattvalói, a tervgazdasági keretek közé szorítottak számára. Majd migrációs célpontja azoknak, akik békét és jólétet kívánnak gyermekeiknek.\\n\\nEurópa, a Nyugat ma is mágnes. A haláláról szóló hírek tehát némileg koraiak (vagy megkésettek). Lehet, hogy politikai krízisek szakítják meg az utóbbi jó néhány év gazdasági helyreállítását Európában (Olaszországnak jó esélye van a címlapra kerülésre), de a fundamentumokat tekintve a vén kontinens gazdasága nem keveset modernizálódott a krízis óta. A bezzegországokként emlegetett BRICS-csoport, meg néhány nagy „felemelkedő gazdaság” sokkal inkább látszik ma sebezhetőnek.\\n\\nA szabadkereskedelmi rend valóban leáldozóban van? Ha tekintetünket a világ gazdag és polgárosodott országain és az azokhoz szorosan kötődő nyugatos térségeken túlra emeljük, azt látjuk, hogy a világgazdaság korábbi peremvidékein (Indiában, Kínában, Indonéziában) évente százmilliók jutnak fel középosztályi jövedelmi és társadalmi helyzetbe. Anyagi és státusbeli felemelkedésüket nem kis mértékben annak a világkereskedelmi rendszernek köszönhetik, amely mindig is csak a nevében volt ugyan szabadpiaci, de az ezredfordulóra mégis sokkal liberalizáltabb lett, mint amilyenek a világháborúkat követő rezsimek voltak, nem is beszélve a forró és hideg háborúk éveiről.\\n\\nEz a kereskedelmi rend pedig ma komoly veszélyben forog – és immár nem az elzárkózó kommunista tervgazdaságok és antikapitalista mozgalmak részéről, mint egy korábbi korszakban. Fura módon ma az Egyesült Államok elnöke hibáztatja a szabadkereskedelmet, és a kínai kommunista vezetők hivatkoznak a piaci rendszer lényegéhez tartozó win-win elvre. A levegő puskaporos: vámháborús lépések, ellenintézkedések és ellen-ellenintézkedések soráról olvashatunk. Hogy a hegemóniára törekvő erők, a gazdasági nacionalizmust hirdető erős fiúk egymásnak feszülése idővel lecsillapodik-e, vagy pedig roppant költséges és veszedelmes spirállá válik, ma még megmondhatatlan.\\n\\nDe a másik nagy folyamat romboló és építő jegyeinek a prognosztizálása is roppant nehéz, noha az információs forradalomnak vannak nagy ígéretei és izgalmas eddigi hozadékai. Például az, hogy az indiai, egyiptomi, ghánai, brazil fiatalok csaknem ugyanolyan kommunikációs világban élnek, mint a nyugati országok fiataljai, a globális kulturális és fogyasztási mintákat real time-ban követhetik. Nehéz rávágni, hogy jó-e ez, vagy sem. Jó, hogy a glóbusz szellemi és tudományos javai, kulturális kincsei könnyebben elérhetővé váltak. Meg persze a dezinformáció és az értéktelenség is – ez nem jó. Továbbá: nem mindenki részesülhet a forradalmi javakból, hiszen nincs mindenkinek esélye a kívánatos minták és példák átvételére. Sőt jogos az aggály, hogy a digitális analfabetizmus lealacsonyítóbb lehet, mint a korábbi korszakokban a kimaradás a betűvetésből.\\n\\nHazai ügyeinkről\\n\\nMinden nagy folyamat sokesélyes. Nyilván korai lenne vészharangokat kongatni az újabb gazdasági krízis lehetséges bekövetkezte vagy a technológiai forradalom esetleges elfajulása miatt. Jó lenne viszont megérteni, majd a lehető legtöbb érintettel megértetni azt a látszólagos rendszertelenséget, gazdasági és technológiai felkavarodottságot, ami a korábbi bizonyosságok helyébe lépett.\\n\\nNálunk különösen kevés a biztos pont az ember életében. Hazánk a fejlett Nyugathoz kötődik, noha nem vált annak szerves részévé a rendszerváltozás immár több évtizedes folyamatában. A mi nézőpontunk mindig is némileg más volt. Valójában a globális rendszer mostani zavarai minket nem is lepnek meg annyira, hiszen itt régóta mindig minden valahogy kaotikusan működött. De mindenképpen másként, mint a tájékozódási pontunknak számító gazdagabb Nyugaton.\\n\\nUgyanakkor viszonylagos elmaradottságunk ismeretében sem áltathatjuk magunkat, hogy közepes fejlettségünk és még mindig mérsékelt bérszintünk mellett az automatizálás, a robotizálás tömeges alkalmazása jóval később ér el hozzánk, mind oda, ahol a munkaerő igen drága. Ha költséghatékonysági okokból van is bizonyos fáziskésés az új eljárások belépésében, a kegyelmi idő csekély. Peremhelyzeti létünk nem tompítja a globális változások érvényre jutásának erejét, elég csak a pénzügyi válságra visszautalni, amely az anyagilag fejlett térségben tört ugyan ki, de a szoros összekapcsoltság miatt a hatások miránk is roppant gyorsan átterjedtek. Pedig ideát a piacgazdaság „financializációja” és pénzügyi mélysége távolról sem lett olyan fokú, mint a maggazdaságokban.\\n\\nEz tanulság nekünk a jövőre nézve is. Mélyen beépültünk már az értékalkotó láncolatokba, következésképpen a nyugati vállalatközpontokban eldöntött digitalizáció nem fog megállni az alacsonyabb bérszintű gazdaságok képzeletbeli határánál. Készen állunk az új ipari kultúrára? Képzettségi, egészségügyi, értékrendi mutatóink (amelyek átlagszámok) nem adnak okot dicsekvésre közvetlen térségünkben sem, nemhogy a fejlett maghoz mérve – és a magyarországi átlagértékek mögött meghökkentő szóródás rejlik.\\n\\nTanulságok újszülötteknek\\n\\nA válságévek alapján levonható egyik általános tanulság csak az újszülöttnek vadonatúj: a piacgazdaság ciklikus működésű, sőt időnkénti válságokra hajlamos. (A tervgazdaságok is ilyenek voltak, csak másképpen.) A mai pillanat sajátossága, hogy a társadalom immár tíz éve a krízis nyelvén szól fiatalhoz és idősebbhez. Különös a helyzet: a munkaerőpiacra kikerülő új generáció a gazdaság fogalmához kiskora óta a válságot társítja, a pénzügy szóhoz a krízis kapcsolódik. Erre az asszociációra a politikusok még rá is játszhatnak, mert ha válság van, akkor nekik nagyobb puvoár jár, és indokoltan tehetik magukat túl a békeidők polgári szabályain.\\n\\nÉs valóban, a másik tanulság, hogy gazdasági zavar és válság idején a politika aktivizálódik. Ilyen a természete. Meg azért is, mivel az érintettek egy része ilyenkor jobb híján a politikai erőkhöz (és az erőt mutató politikusokhoz) fordul védelemért. Ebben persze az országok között nagy különbségek mutatkoznak, sőt azonos országon belül is különfélék az emberek. A mi vidékünkön mindig is elég széles volt az államra támaszkodók köre, hagyománya van a paternalizmusnak. Mégis meghökkentő azt tapasztalni, hogy nemcsak az egypárti rendszerben szocializálódott idősebbek között gyakori az államközpontú gondolkodás. Adatok mutatják, hogy a mai új generációban még nagyobb azok aránya, akik nem hisznek a gazdasági verseny jólétnövelő, teljesítményjavító hatásában, és inkább elfogadják, sőt egyenesen igénylik az állam beavatkozását. Nem mindenkire jellemző persze ez a felfogás és értékrend a sokrétűen tagolt magyar fiatalságon belül, de túl sokakra igaz ahhoz, hogy a szabadelvű gondolat és viselkedés méltó helyének kivívását ma egyszerűen az új korosztály belépésétől várhassuk.\\n\\nNem magyar ügy ez sem. Amivel kezdtem: láthatóan recseg-ropog az úgynevezett liberális világgazdasági rend, és nem elsősorban a peremvidéken felgyűlő elégedetlenség miatt. A szabadkereskedelem egyébként csupán szófordulat, hiszen az áruk és tőkék globális mozgását a második világháborút követően megalkotott intézmények és szabályok sokasága szavatolja.\\n\\nA Pax Americana alatt megalkotott szabályokat és kötöttségeket éppen most akarják felrúgni, jobb esetben átszabni. Ironikus, de nem logikátlan a helyzet, hogy ezenközben különféle nem nyugati típusú országok inkább ragaszkodnak e rendhez. Okkal: a csekély számú, gyorsan konvergáló nemzet számára nagy adomány volt a rendezett hozzáférés a világpiachoz. A külkereskedelmi kitettségünk okán nekünk, magyaroknak (meg persze cseheknek, íreknek, szlovákoknak, hollandoknak) szintén életbe vágóan fontos a határok minél könnyebb és olcsóbb átjárhatósága. Leegyszerűsítve: ha valami okból a schengeni határokon kívül kerülnénk, nem maradhatna meg magyar földön a járműipar, a maga just-in-time szállítási logikájával.\\n\\nAz már a politika különleges ellentmondása, hogy a nemzeti szuverenitás (bonyolult tartalmú) fogalmát buzogányként forgató kisállami politikus olyan ügyekben vitézkedik, amelyekben csatákat lehet ugyan nyerni, de háborút nem. Ha tényleg egymásnak esnek a nagy erőközpontok, a kis és nyitott gazdaságok sokkal többet veszítenek, mint a külsőleg kevésbé kitett nagy államok. Ám enélkül is sokasodnak a viharfelhők: az üzleti ciklus túl régóta tart felfelé a világ meghatározó gazdaságaiban, márpedig rendszerint olyankor tör ki a baj, amikor látszólag minden jól megy.\\n\\nNem a krízis fenyegető képét vetítem előre, az nem is prognosztizálható. De a recessziót várók hivatkozhatnak előre látható tényezőkre is. Elvégre 2007 után a világ nagy jegybankjai, meg kisebb követőik a gazdaságtörténelemben sosem látott mélységbe vitték a kamatokat, hihetetlen pénzmennyiséggel kúrálva a piaci rend zavarait. Már régen nem volt recesszió, és még mindig hosszú időn át negatív kamatlábak mellett folyt az államok finanszírozása. A bankoknak, cégeknek szinte alanyi jogon járt az olcsó hitel. Mindennek azonban egyszer vége lesz. Sőt a nagy olcsóság vége már meg is kezdődött – majd meglátjuk, kik, miként alkalmazkodnak az új realitásokhoz.\\n\\nAlkalmazkodás, rugalmasság, tanulás. Ezek a formálódó globális gazdasági rend kulcsszavai, és ezeken múlik a magyar társadalom előtt álló feladatok megoldása is. Harminc év alatt rengeteget alkalmazkodtunk. A másik két készséget illetően nagyok a kétségeim.\\n\\nBOD PÉTER ÁKOS\\n\\nközgazdász, egyetemi tanár',\n",
       " 'input_ids': tensor([  101, 11721, 26494, 16782, 16523,  4747,  5003, 11265,  2213,  2022,\n",
       "         17112,  2884, 27065, 16814,  1057,  6292,  1010, 27589,  2100, 11265,\n",
       "          2128, 16098, 19666,  2319,  2243,  1516, 10722,  2094,  3567, 12436,\n",
       "          6292,  2006,  8525,  2850, 28922,  5313,  1516, 17710,  2102,  6045,\n",
       "          2389,  9335,  3795,  2483,  1042,  4747, 11613,  6494,  1012, 17207,\n",
       "          1041,  6292,  5480,  1037,  4190, 16161, 10322,  2072,  7279,  9759,\n",
       "          6292,  2072, 23840,  2290, 10175,  3736,  2290,  3393, 11263, 10230,\n",
       "          2050,  1024,  1037, 10768,  3501, 20897, 23840,  2290, 23848,  3900,\n",
       "         14956,  1010, 17207,  1041,  6292,  2229, 11314, 25699,  5302,  2243,\n",
       "         14956, 27427, 11314, 11382,  1010,  2139,  2568,  2368, 10556, 15042,\n",
       "         19454,  7716,  2080, 11721, 26494, 16782,  3995,  2102,  3449,  9080,\n",
       "          2389,  2102,  1010,  1037,  2771,  2368,  3489,  2102, 13970,  7811,\n",
       "          9232,  2078,  6583,  6292,  9413, 21818,  2140,  1010,  2263,  9808,\n",
       "         10431,  1012,  1037, 16137,  5480, 17207,  1057,  3900, 10322, 24531,\n",
       "          3089,  1011, 21416, 21197,  2401,  2072,  1011, 12367, 21361,  2015,\n",
       "          2005, 28510, 21297,  1012,  3449, 13910, 12849, 15185, 13699,  9386,\n",
       "         12380,  3490,  1037,  6005,  2078, 12436,  6292,  1006,  7842, 22895,\n",
       "          2891,  1007, 17207,  9808,  2480,  9080, 17250, 28578, 10609,  1024,\n",
       "          1037,  8915,  4939, 22513,  5937, 15333,  6216,  2213,  6844,  2368,\n",
       "          1037,  8080,  2239,  1010,  1037, 10093, 12879,  2239,  3211,  6460,\n",
       "         23858,  2239,  1012,  1037,  1043,  7677,  2869,  9686,  1041,  6292,\n",
       "          2890, 19330,  6169, 16429,  2497, 12367, 21361, 17112,  2121, 11254,\n",
       "          9686, 16985,  6030,  2015,  2012, 14192,  2389,  2696, 17207,  3449,\n",
       "          3388, 16814,  3388,  1010,  9388,  3968,  4305,  2290,  2003, 21862,\n",
       "          2361,  3900, 18410,  2078, 11781, 22513,  2102,  1055, 20722,  2891,\n",
       "         11721, 26494, 16782,  5856,  8915,  3726,  7520, 23274, 18150,  1012,\n",
       "         10768, 23398,  6810,  2243, 14956,  8183,  2140, 10722, 17516,  3406,\n",
       "          1010, 27589,  2100,  1037,  8957,  6559,  9686,  2632, 20255,  4183,\n",
       "          7606,  6559,  7065,  2368,  7570,  2140,  9686,  2273,  4890,  2072,\n",
       "          2087,  7088, 14163, 25804,  2618,  3726,  7520, 23274,  2290, 11748,\n",
       "          5480,  2002,  2135, 26592,  8939, 18903,  3726,  9388,  1037,  4190,\n",
       "          3683, 12638, 15878,  5638,  8183,  6767, 10609,  1012, 11265,  2213,\n",
       "         10093,  6460,  5054,  1057,  3501,  2079, 21197,  1041,  2480,  1012,\n",
       "          1037, 10556, 23270, 11475,  2480,  7606,  2532,  2243,  3312,  8040,\n",
       "         28600, 22327,  2121, 23647,  2140, 16258, 12032,  2102, 15333,  6216,\n",
       "          2213,  6844,  6460,  1037, 28774,  6633,  3406, 17083, 24290,  2015,\n",
       "          1006,  5541,  6215,  1007,  1012,  1041,  2480,  2102,  2771,  1037,\n",
       "         28774,  3366, 18259,  2368,  1010, 16137, 17153,  6528,  2884,  4328,\n",
       "          1055,  5831, 26302,  9793,  8193,  1010,  1037, 14916,  5104,  6290,\n",
       "         10175,  3406,  4143,  2015,  2061,  5521,  1037,  8945, 15532, 19648,\n",
       "          9413,  9351, 28499,  6968,  1012,  2087, 25292, 11597,  2102, 17207,\n",
       "          1041,  8449,  2480,  3795,  2483, 24531,  3089,  2358,  6820, 25509,\n",
       "          4648, 11382,  3158,  8915,  3726,  1037,  4487, 17112, 21531, 29068,\n",
       "         21416, 21197,  2401,  2243, 16985,  3736,  9305,  4328,  9686,  1057,\n",
       "         29247,  3775, 12849, 19510,  3489,  2480,  3549,  6672,  3170,  2243,\n",
       "          1012, 21416, 21197,  2401,  2072, 23569, 27605,  2480,  7606, 16814,\n",
       "         17207,  2102, 12256,  2850,  2102,  3900,  2310, 26896,  2243,  1010,\n",
       "         27589,  2100,  1037, 11265,  5369,  2480, 14163, 25804,  2243,  9686,\n",
       "          1037, 18847,  2669, 10768, 27266, 10610,  2243, 27935, 18150,  4747,\n",
       "         12669, 17112, 10542,  9956, 12367, 21361,  2015,  4811,  7068,  2102,\n",
       "          1055,  5422,  9956, 11937,  2615, 20051, 12352,  2102,  6396,  4183,\n",
       "         12669,   102]),\n",
       " 'attention_mask': tensor([1, 1, 1, 1, 1, 1, 1, 1, 1, 1, 1, 1, 1, 1, 1, 1, 1, 1, 1, 1, 1, 1, 1, 1,\n",
       "         1, 1, 1, 1, 1, 1, 1, 1, 1, 1, 1, 1, 1, 1, 1, 1, 1, 1, 1, 1, 1, 1, 1, 1,\n",
       "         1, 1, 1, 1, 1, 1, 1, 1, 1, 1, 1, 1, 1, 1, 1, 1, 1, 1, 1, 1, 1, 1, 1, 1,\n",
       "         1, 1, 1, 1, 1, 1, 1, 1, 1, 1, 1, 1, 1, 1, 1, 1, 1, 1, 1, 1, 1, 1, 1, 1,\n",
       "         1, 1, 1, 1, 1, 1, 1, 1, 1, 1, 1, 1, 1, 1, 1, 1, 1, 1, 1, 1, 1, 1, 1, 1,\n",
       "         1, 1, 1, 1, 1, 1, 1, 1, 1, 1, 1, 1, 1, 1, 1, 1, 1, 1, 1, 1, 1, 1, 1, 1,\n",
       "         1, 1, 1, 1, 1, 1, 1, 1, 1, 1, 1, 1, 1, 1, 1, 1, 1, 1, 1, 1, 1, 1, 1, 1,\n",
       "         1, 1, 1, 1, 1, 1, 1, 1, 1, 1, 1, 1, 1, 1, 1, 1, 1, 1, 1, 1, 1, 1, 1, 1,\n",
       "         1, 1, 1, 1, 1, 1, 1, 1, 1, 1, 1, 1, 1, 1, 1, 1, 1, 1, 1, 1, 1, 1, 1, 1,\n",
       "         1, 1, 1, 1, 1, 1, 1, 1, 1, 1, 1, 1, 1, 1, 1, 1, 1, 1, 1, 1, 1, 1, 1, 1,\n",
       "         1, 1, 1, 1, 1, 1, 1, 1, 1, 1, 1, 1, 1, 1, 1, 1, 1, 1, 1, 1, 1, 1, 1, 1,\n",
       "         1, 1, 1, 1, 1, 1, 1, 1, 1, 1, 1, 1, 1, 1, 1, 1, 1, 1, 1, 1, 1, 1, 1, 1,\n",
       "         1, 1, 1, 1, 1, 1, 1, 1, 1, 1, 1, 1, 1, 1, 1, 1, 1, 1, 1, 1, 1, 1, 1, 1,\n",
       "         1, 1, 1, 1, 1, 1, 1, 1, 1, 1, 1, 1, 1, 1, 1, 1, 1, 1, 1, 1, 1, 1, 1, 1,\n",
       "         1, 1, 1, 1, 1, 1, 1, 1, 1, 1, 1, 1, 1, 1, 1, 1, 1, 1, 1, 1, 1, 1, 1, 1,\n",
       "         1, 1, 1, 1, 1, 1, 1, 1, 1, 1, 1, 1, 1, 1, 1, 1, 1, 1, 1, 1, 1, 1, 1, 1,\n",
       "         1, 1, 1, 1, 1, 1, 1, 1, 1, 1, 1, 1, 1, 1, 1, 1, 1, 1, 1, 1, 1, 1, 1, 1,\n",
       "         1, 1, 1, 1, 1, 1, 1, 1, 1, 1, 1, 1, 1, 1, 1, 1, 1, 1, 1, 1, 1, 1, 1, 1,\n",
       "         1, 1, 1, 1, 1, 1, 1, 1, 1, 1, 1, 1, 1, 1, 1, 1, 1, 1, 1, 1, 1, 1, 1, 1,\n",
       "         1, 1, 1, 1, 1, 1, 1, 1, 1, 1, 1, 1, 1, 1, 1, 1, 1, 1, 1, 1, 1, 1, 1, 1,\n",
       "         1, 1, 1, 1, 1, 1, 1, 1, 1, 1, 1, 1, 1, 1, 1, 1, 1, 1, 1, 1, 1, 1, 1, 1,\n",
       "         1, 1, 1, 1, 1, 1, 1, 1]),\n",
       " 'label': tensor(0)}"
      ]
     },
     "execution_count": 150,
     "metadata": {},
     "output_type": "execute_result"
    }
   ],
   "source": [
    "sample_item"
   ]
  },
  {
   "cell_type": "code",
   "execution_count": 151,
   "metadata": {},
   "outputs": [],
   "source": [
    "MAX_LEN = 512\n",
    "BATCH_SIZE = 8\n",
    "EPOCHS = 10\n",
    "\n",
    "def create_dataloader(df, tokenizer, max_token_len, batch_size):\n",
    "    dataset = ArticleDataset(\n",
    "        df,\n",
    "        tokenizer=tokenizer,\n",
    "        max_token_len=max_token_len\n",
    "    )\n",
    "\n",
    "    return DataLoader(\n",
    "        dataset,\n",
    "        batch_size=batch_size,\n",
    "        num_workers=1\n",
    "    )"
   ]
  },
  {
   "cell_type": "code",
   "execution_count": 152,
   "metadata": {},
   "outputs": [],
   "source": [
    "data_loader_train = create_dataloader(df_train, tokenizer, MAX_LEN, BATCH_SIZE)\n",
    "data_loader_test = create_dataloader(df_test, tokenizer, MAX_LEN, BATCH_SIZE)\n",
    "data_loader_eval = create_dataloader(df_eval, tokenizer, MAX_LEN, BATCH_SIZE)"
   ]
  },
  {
   "cell_type": "code",
   "execution_count": 153,
   "metadata": {},
   "outputs": [
    {
     "name": "stderr",
     "output_type": "stream",
     "text": [
      "Some weights of the model checkpoint at bert-base-uncased were not used when initializing BertForSequenceClassification: ['cls.seq_relationship.weight', 'cls.predictions.transform.dense.weight', 'cls.predictions.bias', 'cls.predictions.transform.LayerNorm.weight', 'cls.predictions.transform.LayerNorm.bias', 'cls.seq_relationship.bias', 'cls.predictions.transform.dense.bias']\n",
      "- This IS expected if you are initializing BertForSequenceClassification from the checkpoint of a model trained on another task or with another architecture (e.g. initializing a BertForSequenceClassification model from a BertForPreTraining model).\n",
      "- This IS NOT expected if you are initializing BertForSequenceClassification from the checkpoint of a model that you expect to be exactly identical (initializing a BertForSequenceClassification model from a BertForSequenceClassification model).\n",
      "Some weights of BertForSequenceClassification were not initialized from the model checkpoint at bert-base-uncased and are newly initialized: ['classifier.bias', 'classifier.weight']\n",
      "You should probably TRAIN this model on a down-stream task to be able to use it for predictions and inference.\n"
     ]
    }
   ],
   "source": [
    "model = BertForSequenceClassification.from_pretrained(BERT_MODEL_NAME, return_dict=True, num_labels=number_of_labels)\n",
    "model = model.to(device)\n",
    "model.config.num_labels = number_of_labels"
   ]
  },
  {
   "cell_type": "code",
   "execution_count": 154,
   "metadata": {},
   "outputs": [
    {
     "name": "stderr",
     "output_type": "stream",
     "text": [
      "Python(35953) MallocStackLogging: can't turn off malloc stack logging because it was not enabled.\n",
      "0.00s - Debugger warning: It seems that frozen modules are being used, which may\n",
      "0.00s - make the debugger miss breakpoints. Please pass -Xfrozen_modules=off\n",
      "0.00s - to python to disable frozen modules.\n",
      "0.00s - Note: Debugging will proceed. Set PYDEVD_DISABLE_FILE_VALIDATION=1 to disable this validation.\n"
     ]
    },
    {
     "name": "stdout",
     "output_type": "stream",
     "text": [
      "huggingface/tokenizers: The current process just got forked, after parallelism has already been used. Disabling parallelism to avoid deadlocks...\n",
      "To disable this warning, you can either:\n",
      "\t- Avoid using `tokenizers` before the fork if possible\n",
      "\t- Explicitly set the environment variable TOKENIZERS_PARALLELISM=(true | false)\n",
      "Epoch: 0, Loss: 3.1184263229370117\n",
      "huggingface/tokenizers: The current process just got forked, after parallelism has already been used. Disabling parallelism to avoid deadlocks...\n",
      "To disable this warning, you can either:\n",
      "\t- Avoid using `tokenizers` before the fork if possible\n",
      "\t- Explicitly set the environment variable TOKENIZERS_PARALLELISM=(true | false)\n"
     ]
    },
    {
     "name": "stderr",
     "output_type": "stream",
     "text": [
      "Python(36199) MallocStackLogging: can't turn off malloc stack logging because it was not enabled.\n",
      "0.01s - Debugger warning: It seems that frozen modules are being used, which may\n",
      "0.00s - make the debugger miss breakpoints. Please pass -Xfrozen_modules=off\n",
      "0.00s - to python to disable frozen modules.\n",
      "0.00s - Note: Debugging will proceed. Set PYDEVD_DISABLE_FILE_VALIDATION=1 to disable this validation.\n"
     ]
    },
    {
     "name": "stdout",
     "output_type": "stream",
     "text": [
      "Epoch: 1, Loss: 3.060652732849121\n",
      "huggingface/tokenizers: The current process just got forked, after parallelism has already been used. Disabling parallelism to avoid deadlocks...\n",
      "To disable this warning, you can either:\n",
      "\t- Avoid using `tokenizers` before the fork if possible\n",
      "\t- Explicitly set the environment variable TOKENIZERS_PARALLELISM=(true | false)\n"
     ]
    },
    {
     "name": "stderr",
     "output_type": "stream",
     "text": [
      "Python(36394) MallocStackLogging: can't turn off malloc stack logging because it was not enabled.\n",
      "0.01s - Debugger warning: It seems that frozen modules are being used, which may\n",
      "0.00s - make the debugger miss breakpoints. Please pass -Xfrozen_modules=off\n",
      "0.00s - to python to disable frozen modules.\n",
      "0.00s - Note: Debugging will proceed. Set PYDEVD_DISABLE_FILE_VALIDATION=1 to disable this validation.\n"
     ]
    },
    {
     "name": "stdout",
     "output_type": "stream",
     "text": [
      "Epoch: 2, Loss: 3.0306525230407715\n",
      "huggingface/tokenizers: The current process just got forked, after parallelism has already been used. Disabling parallelism to avoid deadlocks...\n",
      "To disable this warning, you can either:\n",
      "\t- Avoid using `tokenizers` before the fork if possible\n",
      "\t- Explicitly set the environment variable TOKENIZERS_PARALLELISM=(true | false)\n"
     ]
    },
    {
     "name": "stderr",
     "output_type": "stream",
     "text": [
      "Python(36593) MallocStackLogging: can't turn off malloc stack logging because it was not enabled.\n",
      "0.05s - Debugger warning: It seems that frozen modules are being used, which may\n",
      "0.00s - make the debugger miss breakpoints. Please pass -Xfrozen_modules=off\n",
      "0.00s - to python to disable frozen modules.\n",
      "0.00s - Note: Debugging will proceed. Set PYDEVD_DISABLE_FILE_VALIDATION=1 to disable this validation.\n"
     ]
    },
    {
     "name": "stdout",
     "output_type": "stream",
     "text": [
      "Epoch: 3, Loss: 3.0662496089935303\n",
      "huggingface/tokenizers: The current process just got forked, after parallelism has already been used. Disabling parallelism to avoid deadlocks...\n",
      "To disable this warning, you can either:\n",
      "\t- Avoid using `tokenizers` before the fork if possible\n",
      "\t- Explicitly set the environment variable TOKENIZERS_PARALLELISM=(true | false)\n"
     ]
    },
    {
     "name": "stderr",
     "output_type": "stream",
     "text": [
      "Python(36729) MallocStackLogging: can't turn off malloc stack logging because it was not enabled.\n",
      "0.01s - Debugger warning: It seems that frozen modules are being used, which may\n",
      "0.00s - make the debugger miss breakpoints. Please pass -Xfrozen_modules=off\n",
      "0.00s - to python to disable frozen modules.\n",
      "0.00s - Note: Debugging will proceed. Set PYDEVD_DISABLE_FILE_VALIDATION=1 to disable this validation.\n"
     ]
    },
    {
     "name": "stdout",
     "output_type": "stream",
     "text": [
      "Epoch: 4, Loss: 2.895236015319824\n",
      "huggingface/tokenizers: The current process just got forked, after parallelism has already been used. Disabling parallelism to avoid deadlocks...\n",
      "To disable this warning, you can either:\n",
      "\t- Avoid using `tokenizers` before the fork if possible\n",
      "\t- Explicitly set the environment variable TOKENIZERS_PARALLELISM=(true | false)\n"
     ]
    },
    {
     "name": "stderr",
     "output_type": "stream",
     "text": [
      "Python(36841) MallocStackLogging: can't turn off malloc stack logging because it was not enabled.\n",
      "0.01s - Debugger warning: It seems that frozen modules are being used, which may\n",
      "0.00s - make the debugger miss breakpoints. Please pass -Xfrozen_modules=off\n",
      "0.00s - to python to disable frozen modules.\n",
      "0.00s - Note: Debugging will proceed. Set PYDEVD_DISABLE_FILE_VALIDATION=1 to disable this validation.\n"
     ]
    },
    {
     "name": "stdout",
     "output_type": "stream",
     "text": [
      "Epoch: 5, Loss: 2.8876466751098633\n",
      "huggingface/tokenizers: The current process just got forked, after parallelism has already been used. Disabling parallelism to avoid deadlocks...\n",
      "To disable this warning, you can either:\n",
      "\t- Avoid using `tokenizers` before the fork if possible\n",
      "\t- Explicitly set the environment variable TOKENIZERS_PARALLELISM=(true | false)\n"
     ]
    },
    {
     "name": "stderr",
     "output_type": "stream",
     "text": [
      "Python(36996) MallocStackLogging: can't turn off malloc stack logging because it was not enabled.\n",
      "0.01s - Debugger warning: It seems that frozen modules are being used, which may\n",
      "0.00s - make the debugger miss breakpoints. Please pass -Xfrozen_modules=off\n",
      "0.00s - to python to disable frozen modules.\n",
      "0.00s - Note: Debugging will proceed. Set PYDEVD_DISABLE_FILE_VALIDATION=1 to disable this validation.\n"
     ]
    },
    {
     "name": "stdout",
     "output_type": "stream",
     "text": [
      "Epoch: 6, Loss: 2.9522104263305664\n",
      "huggingface/tokenizers: The current process just got forked, after parallelism has already been used. Disabling parallelism to avoid deadlocks...\n",
      "To disable this warning, you can either:\n",
      "\t- Avoid using `tokenizers` before the fork if possible\n",
      "\t- Explicitly set the environment variable TOKENIZERS_PARALLELISM=(true | false)\n"
     ]
    },
    {
     "name": "stderr",
     "output_type": "stream",
     "text": [
      "Python(37358) MallocStackLogging: can't turn off malloc stack logging because it was not enabled.\n",
      "0.16s - Debugger warning: It seems that frozen modules are being used, which may\n",
      "0.00s - make the debugger miss breakpoints. Please pass -Xfrozen_modules=off\n",
      "0.00s - to python to disable frozen modules.\n",
      "0.00s - Note: Debugging will proceed. Set PYDEVD_DISABLE_FILE_VALIDATION=1 to disable this validation.\n"
     ]
    },
    {
     "name": "stdout",
     "output_type": "stream",
     "text": [
      "Epoch: 7, Loss: 2.9127120971679688\n",
      "huggingface/tokenizers: The current process just got forked, after parallelism has already been used. Disabling parallelism to avoid deadlocks...\n",
      "To disable this warning, you can either:\n",
      "\t- Avoid using `tokenizers` before the fork if possible\n",
      "\t- Explicitly set the environment variable TOKENIZERS_PARALLELISM=(true | false)\n"
     ]
    },
    {
     "name": "stderr",
     "output_type": "stream",
     "text": [
      "Python(37745) MallocStackLogging: can't turn off malloc stack logging because it was not enabled.\n",
      "0.17s - Debugger warning: It seems that frozen modules are being used, which may\n",
      "0.00s - make the debugger miss breakpoints. Please pass -Xfrozen_modules=off\n",
      "0.00s - to python to disable frozen modules.\n",
      "0.00s - Note: Debugging will proceed. Set PYDEVD_DISABLE_FILE_VALIDATION=1 to disable this validation.\n"
     ]
    },
    {
     "name": "stdout",
     "output_type": "stream",
     "text": [
      "Epoch: 8, Loss: 2.8032991886138916\n",
      "huggingface/tokenizers: The current process just got forked, after parallelism has already been used. Disabling parallelism to avoid deadlocks...\n",
      "To disable this warning, you can either:\n",
      "\t- Avoid using `tokenizers` before the fork if possible\n",
      "\t- Explicitly set the environment variable TOKENIZERS_PARALLELISM=(true | false)\n"
     ]
    },
    {
     "name": "stderr",
     "output_type": "stream",
     "text": [
      "Python(38168) MallocStackLogging: can't turn off malloc stack logging because it was not enabled.\n",
      "0.16s - Debugger warning: It seems that frozen modules are being used, which may\n",
      "0.00s - make the debugger miss breakpoints. Please pass -Xfrozen_modules=off\n",
      "0.00s - to python to disable frozen modules.\n",
      "0.00s - Note: Debugging will proceed. Set PYDEVD_DISABLE_FILE_VALIDATION=1 to disable this validation.\n"
     ]
    },
    {
     "name": "stdout",
     "output_type": "stream",
     "text": [
      "Epoch: 9, Loss: 2.623671054840088\n"
     ]
    }
   ],
   "source": [
    "criterion = nn.CrossEntropyLoss()\n",
    "optimizer = optim.Adam(model.parameters(), lr=1e-5)\n",
    "\n",
    "for epoch in range(EPOCHS):\n",
    "    model.train()\n",
    "    total_loss = 0\n",
    "    for batch in data_loader_train:\n",
    "        input_ids = batch[\"input_ids\"].to(device)\n",
    "        attention_mask = batch[\"attention_mask\"].to(device)\n",
    "        labels = batch[\"label\"].to(device)\n",
    "\n",
    "        outputs = model(input_ids=input_ids, attention_mask=attention_mask, labels=labels)\n",
    "        loss = outputs.loss\n",
    "        total_loss += loss.item()\n",
    "\n",
    "        optimizer.zero_grad()\n",
    "        loss.backward()\n",
    "        optimizer.step()\n",
    "\n",
    "    print(f\"Epoch: {epoch}, Loss: {loss.item()}\")"
   ]
  },
  {
   "cell_type": "code",
   "execution_count": 155,
   "metadata": {},
   "outputs": [
    {
     "name": "stderr",
     "output_type": "stream",
     "text": [
      "Python(38553) MallocStackLogging: can't turn off malloc stack logging because it was not enabled.\n"
     ]
    },
    {
     "name": "stdout",
     "output_type": "stream",
     "text": [
      "huggingface/tokenizers: The current process just got forked, after parallelism has already been used. Disabling parallelism to avoid deadlocks...\n",
      "To disable this warning, you can either:\n",
      "\t- Avoid using `tokenizers` before the fork if possible\n",
      "\t- Explicitly set the environment variable TOKENIZERS_PARALLELISM=(true | false)\n"
     ]
    },
    {
     "name": "stderr",
     "output_type": "stream",
     "text": [
      "0.05s - Debugger warning: It seems that frozen modules are being used, which may\n",
      "0.00s - make the debugger miss breakpoints. Please pass -Xfrozen_modules=off\n",
      "0.00s - to python to disable frozen modules.\n",
      "0.00s - Note: Debugging will proceed. Set PYDEVD_DISABLE_FILE_VALIDATION=1 to disable this validation.\n"
     ]
    },
    {
     "name": "stdout",
     "output_type": "stream",
     "text": [
      "tensor([21, 18,  0,  2,  1,  0,  2, 21]) : tensor([0, 0, 0, 1, 1, 1, 2, 2])\n",
      "tensor([21,  0,  0, 21, 21, 11,  0, 19]) : tensor([2, 3, 3, 3, 4, 4, 4, 5])\n",
      "tensor([19, 19, 19, 21, 19, 21, 21, 14]) : tensor([5, 5, 6, 6, 6, 7, 7, 7])\n",
      "tensor([ 2,  0,  0, 21, 21, 21, 21,  2]) : tensor([ 8,  8,  8,  9,  9,  9, 10, 10])\n",
      "tensor([21, 19, 19, 21,  0, 21, 21, 19]) : tensor([10, 11, 11, 11, 12, 12, 12, 13])\n",
      "tensor([ 2, 18,  0, 21,  0,  0,  0,  2]) : tensor([13, 13, 14, 14, 14, 15, 15, 15])\n",
      "tensor([16,  2,  0, 18, 21, 21, 18,  3]) : tensor([16, 16, 16, 17, 17, 17, 18, 18])\n",
      "tensor([19, 18, 21, 19, 19, 18, 19, 19]) : tensor([18, 19, 19, 19, 20, 20, 20, 21])\n",
      "tensor([11,  2]) : tensor([21, 21])\n",
      "Evaluation Loss: 3.015147394604153\n",
      "Accuracy: 0.6666666666666666\n"
     ]
    }
   ],
   "source": [
    "model.eval()\n",
    "eval_loss = 0\n",
    "correct_labels = 0\n",
    "\n",
    "with torch.no_grad():\n",
    "    for batch in data_loader_eval:\n",
    "        input_ids = batch[\"input_ids\"].to(device)\n",
    "        attention_mask = batch[\"attention_mask\"].to(device)\n",
    "        labels = batch[\"label\"].to(device)\n",
    "\n",
    "        outputs = model(input_ids, attention_mask=attention_mask, labels=labels)\n",
    "        loss = outputs.loss\n",
    "        logits = outputs.logits\n",
    "\n",
    "        eval_loss += loss.item()\n",
    "        print(f\"{logits.argmax(1)} : {labels}\")\n",
    "        correct_labels += (logits.argmax(1) == labels).sum().item()\n",
    "\n",
    "# Calculate evaluation metrics\n",
    "eval_len = len(data_loader_eval)\n",
    "eval_loss /= eval_len\n",
    "accuracy = correct_labels / eval_len\n",
    "\n",
    "print(f\"Evaluation Loss: {eval_loss}\")\n",
    "print(f\"Accuracy: {accuracy}\")"
   ]
  },
  {
   "cell_type": "code",
   "execution_count": 55,
   "metadata": {},
   "outputs": [
    {
     "data": {
      "text/plain": [
       "10"
      ]
     },
     "execution_count": 55,
     "metadata": {},
     "output_type": "execute_result"
    }
   ],
   "source": [
    "correct_labels"
   ]
  }
 ],
 "metadata": {
  "kernelspec": {
   "display_name": "Python 3",
   "language": "python",
   "name": "python3"
  },
  "language_info": {
   "codemirror_mode": {
    "name": "ipython",
    "version": 3
   },
   "file_extension": ".py",
   "mimetype": "text/x-python",
   "name": "python",
   "nbconvert_exporter": "python",
   "pygments_lexer": "ipython3",
   "version": "3.11.5"
  }
 },
 "nbformat": 4,
 "nbformat_minor": 2
}
