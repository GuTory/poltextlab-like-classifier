{
 "cells": [
  {
   "cell_type": "code",
   "id": "initial_id",
   "metadata": {
    "collapsed": true,
    "ExecuteTime": {
     "end_time": "2024-04-16T15:59:23.345566Z",
     "start_time": "2024-04-16T15:59:05.007324Z"
    }
   },
   "source": [
    "import gzip\n",
    "import json\n",
    "import os\n",
    "import pandas as pd\n",
    "import torch\n",
    "from transformers import BertTokenizerFast, BertForSequenceClassification, TrainingArguments, Trainer, pipeline\n",
    "from torch import cuda\n",
    "from sklearn.utils import shuffle\n",
    "from torch.utils.data import Dataset\n",
    "from sklearn.metrics import accuracy_score, precision_recall_fscore_support\n"
   ],
   "outputs": [],
   "execution_count": 1
  },
  {
   "cell_type": "code",
   "source": [
    "def read_folder(folder_path):\n",
    "    dataframes = []\n",
    "    for filename in os.listdir(folder_path):\n",
    "        if filename.endswith('.jsonl.gz'):\n",
    "            with gzip.open(os.path.join(folder_path, filename), 'rt', encoding='utf-8') as file:\n",
    "                for line in file:\n",
    "                    json_data = json.loads(line)\n",
    "                    df = pd.DataFrame(json_data)\n",
    "                    dataframes.append(df)\n",
    "    if dataframes:\n",
    "        aggregated_df = pd.concat(dataframes, ignore_index=True)\n",
    "        return aggregated_df\n",
    "    else:\n",
    "        print(\"No jsonl files found in the directory.\")\n",
    "        return None"
   ],
   "metadata": {
    "collapsed": false,
    "ExecuteTime": {
     "end_time": "2024-04-16T15:59:23.358722Z",
     "start_time": "2024-04-16T15:59:23.349580Z"
    }
   },
   "id": "f7ceefbe3e6811d0",
   "outputs": [],
   "execution_count": 2
  },
  {
   "cell_type": "code",
   "source": [
    "def reduce():\n",
    "    # csak a test\n",
    "    test = os.path.join(os.getcwd(), 'test')\n",
    "    df = read_folder(test)\n",
    "    df.drop('uuid', axis=1, inplace=True)\n",
    "    return df.groupby('major_topic_pred').apply(lambda x: x.sample(n=min(5, len(x)))).reset_index(drop=True)\n"
   ],
   "metadata": {
    "collapsed": false,
    "ExecuteTime": {
     "end_time": "2024-04-16T15:59:23.368952Z",
     "start_time": "2024-04-16T15:59:23.360914Z"
    }
   },
   "id": "757181da10fc77d1",
   "outputs": [],
   "execution_count": 3
  },
  {
   "cell_type": "code",
   "source": [
    "reduced_df = reduce()\n",
    "df = shuffle(reduced_df)\n",
    "labels = df['major_topic_pred'].unique().tolist()\n",
    "number_of_labels = len(labels)\n",
    "id_to_label = {_id: label for _id, label in enumerate(labels)}\n",
    "label_to_id = {label: _id for _id, label in enumerate(labels)}\n",
    "print(id_to_label)\n",
    "df['major_topic_pred_index'] = df['major_topic_pred'].map(lambda x: label_to_id[x])\n",
    "df.head(10)"
   ],
   "metadata": {
    "collapsed": false,
    "ExecuteTime": {
     "end_time": "2024-04-16T15:59:24.812735Z",
     "start_time": "2024-04-16T15:59:23.370960Z"
    }
   },
   "id": "8ff4310eaad5b733",
   "outputs": [
    {
     "name": "stdout",
     "output_type": "stream",
     "text": [
      "{0: 15, 1: 8, 2: 4, 3: 7, 4: 5, 5: 23, 6: 2, 7: 12, 8: 10, 9: 9, 10: 3, 11: 1, 12: 14, 13: 6, 14: 16, 15: 18, 16: 20, 17: 19, 18: 21, 19: 13, 20: 999, 21: 17}\n"
     ]
    },
    {
     "data": {
      "text/plain": [
       "                                                 title  \\\n",
       "67                Fájó Hungerit-vereség Dunaújvárosban   \n",
       "39               Fontos szintek alá zuhant az olaj ára   \n",
       "15          Magosz: elfogadhatatlan a fejlesztési terv   \n",
       "30   Akár teljesen el is tűnhetnek az izlandi glecc...   \n",
       "24            Mérsékletet kér az unió a sztrájkolóktól   \n",
       "104  Pornósztár a szomszédban, Zoolanderék zsarubőrben   \n",
       "8    Nem volt gyűlölet-bűncselekmény a terhes roma ...   \n",
       "50                              Nem csalt adót Tasnádi   \n",
       "49   Fontos részletek derültek ki a 3-as metró megh...   \n",
       "51   Rendőröket vádolnak egy turistanő megerőszakol...   \n",
       "\n",
       "                                                  lead  \\\n",
       "67   Egyszer vezetett a Hungerit MetalCom Szentes e...   \n",
       "39   Nagyot estek szerdán a világpiaci olajárak, íg...   \n",
       "15   A Magyar Gazdakörök és Gazdaszövetkezetek Szöv...   \n",
       "30   Az amerikai űrkutatási hivatal (NASA) műholdas...   \n",
       "24   A német ipari dolgozókat mérsékletre szólított...   \n",
       "104  Beindult az év eleji filmdömping, s ez azt jel...   \n",
       "8    A rendőrség szerint csak becsületsértés történ...   \n",
       "50   A bíróság helybenhagyta a Pesti Központi Kerül...   \n",
       "49   Február 17-én került sor a BKK lakossági fórum...   \n",
       "51   Három francia rendőrt vádolnak azzal, hogy iro...   \n",
       "\n",
       "                                               article        domain  \\\n",
       "67   Dunaújváros–Hungerit MetalCom-Szentes 11-10 (2...  delmagyar.hu   \n",
       "39   A szerdai esést nagyrészt az amerikai nyersola...  portfolio.hu   \n",
       "15   Az elnök szerint a középtávú stratégiai terv, ...      origo.hu   \n",
       "30   Nagyjából 750 négyzetkilométerrel zsugorodtak,...  kisalfold.hu   \n",
       "24   A sztrájk legprominensebb támadója Pedro Solbe...      origo.hu   \n",
       "104  A napokban dobták be a köztudatba a The Girl N...      origo.hu   \n",
       "8    Gyöngyöspatán, március elején fekete maszkos, ...      index.hu   \n",
       "50   Jogerősen felmentette Tasnádi Pétert az adócsa...      index.hu   \n",
       "49   Az eseményen a közlekedési központot Rácz Zolt...  portfolio.hu   \n",
       "51   Vád alá helyezték a párizsi rendőrség elitalak...        nlc.hu   \n",
       "\n",
       "                                                   url     date_of_creation  \\\n",
       "67   https://www.delmagyar.hu/sport/fajo_hungerit-v...  2011-03-07T20:59:00   \n",
       "39   https://www.portfolio.hu/uzlet/20181018/fontos...  2018-10-18T09:13:00   \n",
       "15   https://www.origo.hu/gazdasag/20060906magosz.html  2006-09-06T12:40:00   \n",
       "30   https://www.kisalfold.hu/egyperces/2021/06/aka...  2021-06-05T11:00:00   \n",
       "24   https://www.origo.hu/gazdasag/hirek/20020507me...  2002-05-10T11:01:00   \n",
       "104  https://www.origo.hu/filmklub/20040116pornoszt...                 None   \n",
       "8    https://index.hu/belfold/2011/06/01/nem_volt_g...  2011-06-01T12:56:00   \n",
       "50                 http://index.hu/bulvar/tsndptr0524/  2005-05-24T10:42:00   \n",
       "49   https://www.portfolio.hu/gazdasag/20200220/fon...  2020-02-20T10:30:00   \n",
       "51   https://nlc.hu/ezvan/20140428/megeroszakolas-f...  2014-04-28T00:00:00   \n",
       "\n",
       "                 cc_date                                               tags  \\\n",
       "67   2018-12-15T03:03:18                                          vízilabda   \n",
       "39   2019-11-19T08:48:58                                              opec,   \n",
       "15   2019-08-25T17:07:46                                       Jakab István   \n",
       "30   2023-02-06T05:28:33                             #globális felmelegedés   \n",
       "24   2020-01-22T08:39:15                                           tüntetés   \n",
       "104  2023-03-20T22:59:16                                            Kardhal   \n",
       "8    2021-03-01T23:18:27                                           gyűlölet   \n",
       "50   2017-12-12T18:40:51                                             Bulvár   \n",
       "49   2020-03-31T01:59:28                                   uniós támogatás,   \n",
       "51   2021-06-23T01:32:03  francia Franciaország rendőrség megerőszakolás...   \n",
       "\n",
       "     doc_similarity  major_topic_pred  major_topic_pred_index  \n",
       "67         0.200436                15                       0  \n",
       "39         0.604739                 8                       1  \n",
       "15         0.678365                 4                       2  \n",
       "30         0.653863                 7                       3  \n",
       "24         0.621243                 5                       4  \n",
       "104        0.486126                23                       5  \n",
       "8          0.766326                 2                       6  \n",
       "50         0.873905                12                       7  \n",
       "49         0.466580                10                       8  \n",
       "51         0.796423                12                       7  "
      ],
      "text/html": [
       "<div>\n",
       "<style scoped>\n",
       "    .dataframe tbody tr th:only-of-type {\n",
       "        vertical-align: middle;\n",
       "    }\n",
       "\n",
       "    .dataframe tbody tr th {\n",
       "        vertical-align: top;\n",
       "    }\n",
       "\n",
       "    .dataframe thead th {\n",
       "        text-align: right;\n",
       "    }\n",
       "</style>\n",
       "<table border=\"1\" class=\"dataframe\">\n",
       "  <thead>\n",
       "    <tr style=\"text-align: right;\">\n",
       "      <th></th>\n",
       "      <th>title</th>\n",
       "      <th>lead</th>\n",
       "      <th>article</th>\n",
       "      <th>domain</th>\n",
       "      <th>url</th>\n",
       "      <th>date_of_creation</th>\n",
       "      <th>cc_date</th>\n",
       "      <th>tags</th>\n",
       "      <th>doc_similarity</th>\n",
       "      <th>major_topic_pred</th>\n",
       "      <th>major_topic_pred_index</th>\n",
       "    </tr>\n",
       "  </thead>\n",
       "  <tbody>\n",
       "    <tr>\n",
       "      <th>67</th>\n",
       "      <td>Fájó Hungerit-vereség Dunaújvárosban</td>\n",
       "      <td>Egyszer vezetett a Hungerit MetalCom Szentes e...</td>\n",
       "      <td>Dunaújváros–Hungerit MetalCom-Szentes 11-10 (2...</td>\n",
       "      <td>delmagyar.hu</td>\n",
       "      <td>https://www.delmagyar.hu/sport/fajo_hungerit-v...</td>\n",
       "      <td>2011-03-07T20:59:00</td>\n",
       "      <td>2018-12-15T03:03:18</td>\n",
       "      <td>vízilabda</td>\n",
       "      <td>0.200436</td>\n",
       "      <td>15</td>\n",
       "      <td>0</td>\n",
       "    </tr>\n",
       "    <tr>\n",
       "      <th>39</th>\n",
       "      <td>Fontos szintek alá zuhant az olaj ára</td>\n",
       "      <td>Nagyot estek szerdán a világpiaci olajárak, íg...</td>\n",
       "      <td>A szerdai esést nagyrészt az amerikai nyersola...</td>\n",
       "      <td>portfolio.hu</td>\n",
       "      <td>https://www.portfolio.hu/uzlet/20181018/fontos...</td>\n",
       "      <td>2018-10-18T09:13:00</td>\n",
       "      <td>2019-11-19T08:48:58</td>\n",
       "      <td>opec,</td>\n",
       "      <td>0.604739</td>\n",
       "      <td>8</td>\n",
       "      <td>1</td>\n",
       "    </tr>\n",
       "    <tr>\n",
       "      <th>15</th>\n",
       "      <td>Magosz: elfogadhatatlan a fejlesztési terv</td>\n",
       "      <td>A Magyar Gazdakörök és Gazdaszövetkezetek Szöv...</td>\n",
       "      <td>Az elnök szerint a középtávú stratégiai terv, ...</td>\n",
       "      <td>origo.hu</td>\n",
       "      <td>https://www.origo.hu/gazdasag/20060906magosz.html</td>\n",
       "      <td>2006-09-06T12:40:00</td>\n",
       "      <td>2019-08-25T17:07:46</td>\n",
       "      <td>Jakab István</td>\n",
       "      <td>0.678365</td>\n",
       "      <td>4</td>\n",
       "      <td>2</td>\n",
       "    </tr>\n",
       "    <tr>\n",
       "      <th>30</th>\n",
       "      <td>Akár teljesen el is tűnhetnek az izlandi glecc...</td>\n",
       "      <td>Az amerikai űrkutatási hivatal (NASA) műholdas...</td>\n",
       "      <td>Nagyjából 750 négyzetkilométerrel zsugorodtak,...</td>\n",
       "      <td>kisalfold.hu</td>\n",
       "      <td>https://www.kisalfold.hu/egyperces/2021/06/aka...</td>\n",
       "      <td>2021-06-05T11:00:00</td>\n",
       "      <td>2023-02-06T05:28:33</td>\n",
       "      <td>#globális felmelegedés</td>\n",
       "      <td>0.653863</td>\n",
       "      <td>7</td>\n",
       "      <td>3</td>\n",
       "    </tr>\n",
       "    <tr>\n",
       "      <th>24</th>\n",
       "      <td>Mérsékletet kér az unió a sztrájkolóktól</td>\n",
       "      <td>A német ipari dolgozókat mérsékletre szólított...</td>\n",
       "      <td>A sztrájk legprominensebb támadója Pedro Solbe...</td>\n",
       "      <td>origo.hu</td>\n",
       "      <td>https://www.origo.hu/gazdasag/hirek/20020507me...</td>\n",
       "      <td>2002-05-10T11:01:00</td>\n",
       "      <td>2020-01-22T08:39:15</td>\n",
       "      <td>tüntetés</td>\n",
       "      <td>0.621243</td>\n",
       "      <td>5</td>\n",
       "      <td>4</td>\n",
       "    </tr>\n",
       "    <tr>\n",
       "      <th>104</th>\n",
       "      <td>Pornósztár a szomszédban, Zoolanderék zsarubőrben</td>\n",
       "      <td>Beindult az év eleji filmdömping, s ez azt jel...</td>\n",
       "      <td>A napokban dobták be a köztudatba a The Girl N...</td>\n",
       "      <td>origo.hu</td>\n",
       "      <td>https://www.origo.hu/filmklub/20040116pornoszt...</td>\n",
       "      <td>None</td>\n",
       "      <td>2023-03-20T22:59:16</td>\n",
       "      <td>Kardhal</td>\n",
       "      <td>0.486126</td>\n",
       "      <td>23</td>\n",
       "      <td>5</td>\n",
       "    </tr>\n",
       "    <tr>\n",
       "      <th>8</th>\n",
       "      <td>Nem volt gyűlölet-bűncselekmény a terhes roma ...</td>\n",
       "      <td>A rendőrség szerint csak becsületsértés történ...</td>\n",
       "      <td>Gyöngyöspatán, március elején fekete maszkos, ...</td>\n",
       "      <td>index.hu</td>\n",
       "      <td>https://index.hu/belfold/2011/06/01/nem_volt_g...</td>\n",
       "      <td>2011-06-01T12:56:00</td>\n",
       "      <td>2021-03-01T23:18:27</td>\n",
       "      <td>gyűlölet</td>\n",
       "      <td>0.766326</td>\n",
       "      <td>2</td>\n",
       "      <td>6</td>\n",
       "    </tr>\n",
       "    <tr>\n",
       "      <th>50</th>\n",
       "      <td>Nem csalt adót Tasnádi</td>\n",
       "      <td>A bíróság helybenhagyta a Pesti Központi Kerül...</td>\n",
       "      <td>Jogerősen felmentette Tasnádi Pétert az adócsa...</td>\n",
       "      <td>index.hu</td>\n",
       "      <td>http://index.hu/bulvar/tsndptr0524/</td>\n",
       "      <td>2005-05-24T10:42:00</td>\n",
       "      <td>2017-12-12T18:40:51</td>\n",
       "      <td>Bulvár</td>\n",
       "      <td>0.873905</td>\n",
       "      <td>12</td>\n",
       "      <td>7</td>\n",
       "    </tr>\n",
       "    <tr>\n",
       "      <th>49</th>\n",
       "      <td>Fontos részletek derültek ki a 3-as metró megh...</td>\n",
       "      <td>Február 17-én került sor a BKK lakossági fórum...</td>\n",
       "      <td>Az eseményen a közlekedési központot Rácz Zolt...</td>\n",
       "      <td>portfolio.hu</td>\n",
       "      <td>https://www.portfolio.hu/gazdasag/20200220/fon...</td>\n",
       "      <td>2020-02-20T10:30:00</td>\n",
       "      <td>2020-03-31T01:59:28</td>\n",
       "      <td>uniós támogatás,</td>\n",
       "      <td>0.466580</td>\n",
       "      <td>10</td>\n",
       "      <td>8</td>\n",
       "    </tr>\n",
       "    <tr>\n",
       "      <th>51</th>\n",
       "      <td>Rendőröket vádolnak egy turistanő megerőszakol...</td>\n",
       "      <td>Három francia rendőrt vádolnak azzal, hogy iro...</td>\n",
       "      <td>Vád alá helyezték a párizsi rendőrség elitalak...</td>\n",
       "      <td>nlc.hu</td>\n",
       "      <td>https://nlc.hu/ezvan/20140428/megeroszakolas-f...</td>\n",
       "      <td>2014-04-28T00:00:00</td>\n",
       "      <td>2021-06-23T01:32:03</td>\n",
       "      <td>francia Franciaország rendőrség megerőszakolás...</td>\n",
       "      <td>0.796423</td>\n",
       "      <td>12</td>\n",
       "      <td>7</td>\n",
       "    </tr>\n",
       "  </tbody>\n",
       "</table>\n",
       "</div>"
      ]
     },
     "execution_count": 4,
     "metadata": {},
     "output_type": "execute_result"
    }
   ],
   "execution_count": 4
  },
  {
   "cell_type": "code",
   "source": [
    "model = BertForSequenceClassification.from_pretrained(\n",
    "    \"google-bert/bert-base-uncased\",\n",
    "    num_labels=number_of_labels,\n",
    "    id2label=id_to_label,\n",
    "    label2id=label_to_id\n",
    ")\n",
    "device = 'cuda' if cuda.is_available() else 'cpu'\n",
    "model.to(device)"
   ],
   "metadata": {
    "collapsed": false,
    "ExecuteTime": {
     "end_time": "2024-04-16T15:59:27.468654Z",
     "start_time": "2024-04-16T15:59:24.817051Z"
    }
   },
   "id": "7ad0973ecdd045ce",
   "outputs": [
    {
     "name": "stderr",
     "output_type": "stream",
     "text": [
      "Some weights of BertForSequenceClassification were not initialized from the model checkpoint at google-bert/bert-base-uncased and are newly initialized: ['classifier.bias', 'classifier.weight']\n",
      "You should probably TRAIN this model on a down-stream task to be able to use it for predictions and inference.\n"
     ]
    },
    {
     "data": {
      "text/plain": [
       "BertForSequenceClassification(\n",
       "  (bert): BertModel(\n",
       "    (embeddings): BertEmbeddings(\n",
       "      (word_embeddings): Embedding(30522, 768, padding_idx=0)\n",
       "      (position_embeddings): Embedding(512, 768)\n",
       "      (token_type_embeddings): Embedding(2, 768)\n",
       "      (LayerNorm): LayerNorm((768,), eps=1e-12, elementwise_affine=True)\n",
       "      (dropout): Dropout(p=0.1, inplace=False)\n",
       "    )\n",
       "    (encoder): BertEncoder(\n",
       "      (layer): ModuleList(\n",
       "        (0-11): 12 x BertLayer(\n",
       "          (attention): BertAttention(\n",
       "            (self): BertSelfAttention(\n",
       "              (query): Linear(in_features=768, out_features=768, bias=True)\n",
       "              (key): Linear(in_features=768, out_features=768, bias=True)\n",
       "              (value): Linear(in_features=768, out_features=768, bias=True)\n",
       "              (dropout): Dropout(p=0.1, inplace=False)\n",
       "            )\n",
       "            (output): BertSelfOutput(\n",
       "              (dense): Linear(in_features=768, out_features=768, bias=True)\n",
       "              (LayerNorm): LayerNorm((768,), eps=1e-12, elementwise_affine=True)\n",
       "              (dropout): Dropout(p=0.1, inplace=False)\n",
       "            )\n",
       "          )\n",
       "          (intermediate): BertIntermediate(\n",
       "            (dense): Linear(in_features=768, out_features=3072, bias=True)\n",
       "            (intermediate_act_fn): GELUActivation()\n",
       "          )\n",
       "          (output): BertOutput(\n",
       "            (dense): Linear(in_features=3072, out_features=768, bias=True)\n",
       "            (LayerNorm): LayerNorm((768,), eps=1e-12, elementwise_affine=True)\n",
       "            (dropout): Dropout(p=0.1, inplace=False)\n",
       "          )\n",
       "        )\n",
       "      )\n",
       "    )\n",
       "    (pooler): BertPooler(\n",
       "      (dense): Linear(in_features=768, out_features=768, bias=True)\n",
       "      (activation): Tanh()\n",
       "    )\n",
       "  )\n",
       "  (dropout): Dropout(p=0.1, inplace=False)\n",
       "  (classifier): Linear(in_features=768, out_features=22, bias=True)\n",
       ")"
      ]
     },
     "execution_count": 5,
     "metadata": {},
     "output_type": "execute_result"
    }
   ],
   "execution_count": 5
  },
  {
   "cell_type": "code",
   "source": [
    "tokenizer = BertTokenizerFast.from_pretrained(\"google-bert/bert-base-uncased\")\n",
    "size = df.shape[0]\n",
    "half = size // 2\n",
    "three_fourth = (3 * size) // 4\n",
    "train_texts = list(df['article'][:half])\n",
    "val_texts = list(df['article'][half:three_fourth])\n",
    "test_texts = list(df['article'][three_fourth:])\n",
    "print(len(train_texts), len(val_texts), len(test_texts))\n"
   ],
   "metadata": {
    "collapsed": false,
    "ExecuteTime": {
     "end_time": "2024-04-16T15:59:27.704216Z",
     "start_time": "2024-04-16T15:59:27.470662Z"
    }
   },
   "id": "9ba0cc96cea7cfaf",
   "outputs": [
    {
     "name": "stdout",
     "output_type": "stream",
     "text": [
      "55 27 28\n"
     ]
    }
   ],
   "execution_count": 6
  },
  {
   "cell_type": "code",
   "source": [
    "train_labels = list(df['major_topic_pred_index'][:half])\n",
    "val_labels = list(df['major_topic_pred_index'][half:three_fourth])\n",
    "test_labels = list(df['major_topic_pred_index'][three_fourth:])\n",
    "print(len(train_labels), len(val_labels), len(test_labels))"
   ],
   "metadata": {
    "collapsed": false,
    "ExecuteTime": {
     "end_time": "2024-04-16T15:59:27.715699Z",
     "start_time": "2024-04-16T15:59:27.706223Z"
    }
   },
   "id": "cfa86895c3b17ffe",
   "outputs": [
    {
     "name": "stdout",
     "output_type": "stream",
     "text": [
      "55 27 28\n"
     ]
    }
   ],
   "execution_count": 7
  },
  {
   "cell_type": "code",
   "source": [
    "class DataLoader(Dataset):\n",
    "    def __init__(self, encodings, _labels):\n",
    "        self.encodings = encodings\n",
    "        self.labels = _labels\n",
    "\n",
    "    def __len__(self):\n",
    "        return len(self.labels)\n",
    "\n",
    "    def __getitem__(self, idx):\n",
    "        item = {key: torch.tensor(val[idx]) for key, val in self.encodings.items()}\n",
    "        item['labels'] = torch.tensor(self.labels[idx])\n",
    "        return item"
   ],
   "metadata": {
    "collapsed": false,
    "ExecuteTime": {
     "end_time": "2024-04-16T15:59:27.725082Z",
     "start_time": "2024-04-16T15:59:27.717713Z"
    }
   },
   "id": "1fc723147afce3c2",
   "outputs": [],
   "execution_count": 8
  },
  {
   "cell_type": "code",
   "source": [
    "train_encodings = tokenizer(train_texts, truncation=True, padding=True)\n",
    "val_encodings = tokenizer(val_texts, truncation=True, padding=True)\n",
    "test_encodings = tokenizer(test_texts, truncation=True, padding=True)\n",
    "\n",
    "train_dataloader = DataLoader(train_encodings, train_labels)\n",
    "val_dataloader = DataLoader(val_encodings, val_labels)\n",
    "test_dataset = DataLoader(test_encodings, test_labels)"
   ],
   "metadata": {
    "collapsed": false,
    "ExecuteTime": {
     "end_time": "2024-04-16T15:59:27.918319Z",
     "start_time": "2024-04-16T15:59:27.728597Z"
    }
   },
   "id": "dda9b996732e60e3",
   "outputs": [],
   "execution_count": 9
  },
  {
   "cell_type": "code",
   "source": [
    "training_args = TrainingArguments(\n",
    "    output_dir='./z',\n",
    "    do_train=True,\n",
    "    do_eval=True,\n",
    "    num_train_epochs=5,\n",
    "    per_device_train_batch_size=16,\n",
    "    per_device_eval_batch_size=32,\n",
    "    warmup_steps=50,\n",
    "    weight_decay=0.01,\n",
    "    logging_strategy='steps',\n",
    "    logging_dir='./logs',\n",
    "    logging_steps=50,\n",
    "    evaluation_strategy='steps',\n",
    "    eval_steps=50,\n",
    "    save_strategy='steps',\n",
    "    load_best_model_at_end=True\n",
    ")"
   ],
   "metadata": {
    "collapsed": false,
    "ExecuteTime": {
     "end_time": "2024-04-16T15:59:27.938392Z",
     "start_time": "2024-04-16T15:59:27.919327Z"
    }
   },
   "id": "b2364a5b3b8f2fdf",
   "outputs": [],
   "execution_count": 10
  },
  {
   "cell_type": "code",
   "source": [
    "def compute_metrics(predictions):\n",
    "    labels = predictions.label_ids\n",
    "    preds = predictions.predictions.argmax(-1)\n",
    "    precision, recall, f1, _ = precision_recall_fscore_support(labels, preds, preds, average='macro')\n",
    "    acc = accuracy_score(labels, preds)\n",
    "    return {\n",
    "        'Accuracy': acc,\n",
    "        'F1': f1,\n",
    "        'Precision': precision,\n",
    "        'Recall': recall\n",
    "    }"
   ],
   "metadata": {
    "collapsed": false,
    "ExecuteTime": {
     "end_time": "2024-04-16T15:59:27.948507Z",
     "start_time": "2024-04-16T15:59:27.940402Z"
    }
   },
   "id": "a303811a8485e051",
   "outputs": [],
   "execution_count": 11
  },
  {
   "cell_type": "code",
   "source": [
    "trainer = Trainer(\n",
    "    model=model,\n",
    "    args=training_args,\n",
    "    train_dataset=train_dataloader,\n",
    "    eval_dataset=val_dataloader,\n",
    "    compute_metrics=compute_metrics\n",
    ")\n",
    "trainer.train()"
   ],
   "metadata": {
    "collapsed": false,
    "ExecuteTime": {
     "end_time": "2024-04-16T16:24:19.601628Z",
     "start_time": "2024-04-16T15:59:27.950518Z"
    }
   },
   "id": "e21cd72062895594",
   "outputs": [
    {
     "name": "stderr",
     "output_type": "stream",
     "text": [
      "C:\\Users\\Dell\\AppData\\Local\\Programs\\Python\\Python311\\Lib\\site-packages\\accelerate\\accelerator.py:436: FutureWarning: Passing the following arguments to `Accelerator` is deprecated and will be removed in version 1.0 of Accelerate: dict_keys(['dispatch_batches', 'split_batches', 'even_batches', 'use_seedable_sampler']). Please pass an `accelerate.DataLoaderConfiguration` instead: \n",
      "dataloader_config = DataLoaderConfiguration(dispatch_batches=None, split_batches=False, even_batches=True, use_seedable_sampler=True)\n",
      "  warnings.warn(\n"
     ]
    },
    {
     "data": {
      "text/plain": [
       "<IPython.core.display.HTML object>"
      ],
      "text/html": [
       "\n",
       "    <div>\n",
       "      \n",
       "      <progress value='20' max='20' style='width:300px; height:20px; vertical-align: middle;'></progress>\n",
       "      [20/20 23:02, Epoch 5/5]\n",
       "    </div>\n",
       "    <table border=\"1\" class=\"dataframe\">\n",
       "  <thead>\n",
       " <tr style=\"text-align: left;\">\n",
       "      <th>Step</th>\n",
       "      <th>Training Loss</th>\n",
       "      <th>Validation Loss</th>\n",
       "    </tr>\n",
       "  </thead>\n",
       "  <tbody>\n",
       "  </tbody>\n",
       "</table><p>"
      ]
     },
     "metadata": {},
     "output_type": "display_data"
    },
    {
     "data": {
      "text/plain": [
       "TrainOutput(global_step=20, training_loss=3.0876028060913088, metrics={'train_runtime': 1491.1479, 'train_samples_per_second': 0.184, 'train_steps_per_second': 0.013, 'total_flos': 72368533248000.0, 'train_loss': 3.0876028060913088, 'epoch': 5.0})"
      ]
     },
     "execution_count": 12,
     "metadata": {},
     "output_type": "execute_result"
    }
   ],
   "execution_count": 12
  },
  {
   "cell_type": "code",
   "source": [
    "def predict(text):\n",
    "    inputs = tokenizer(text, padding='longest', truncation=True, max_length=512, return_tensors='pt')\n",
    "\n",
    "    outputs = model(**inputs)\n",
    "    probs = outputs[0].softmax(1)\n",
    "    pred_label_idx = probs.argmax()\n",
    "\n",
    "    pred_label = model.config.id2label[pred_label_idx.item()]\n",
    "    return probs, pred_label_idx, pred_label\n",
    "\n",
    "predict(\"Egyre t\\u00f6bb a t\\u00f6meges H1N1-megbetegedes...\")"
   ],
   "metadata": {
    "collapsed": false,
    "ExecuteTime": {
     "end_time": "2024-04-16T16:27:58.962587Z",
     "start_time": "2024-04-16T16:27:58.801815Z"
    }
   },
   "id": "ea89b166988dbc04",
   "outputs": [
    {
     "data": {
      "text/plain": [
       "(tensor([[0.0433, 0.0428, 0.0294, 0.0438, 0.0301, 0.0439, 0.0427, 0.0661, 0.0559,\n",
       "          0.0381, 0.0423, 0.0295, 0.0546, 0.0500, 0.0473, 0.0569, 0.0419, 0.0591,\n",
       "          0.0518, 0.0299, 0.0483, 0.0524]], grad_fn=<SoftmaxBackward0>),\n",
       " tensor(7),\n",
       " 12)"
      ]
     },
     "execution_count": 15,
     "metadata": {},
     "output_type": "execute_result"
    }
   ],
   "execution_count": 15
  },
  {
   "cell_type": "code",
   "source": [
    "model_path = 'poltextlab-like-classification-model'\n",
    "trainer.save_model(model_path)\n",
    "tokenizer.save_pretrained(model_path)"
   ],
   "metadata": {
    "collapsed": false,
    "ExecuteTime": {
     "end_time": "2024-04-16T16:28:02.511280Z",
     "start_time": "2024-04-16T16:28:01.565800Z"
    }
   },
   "id": "9aa4efffff6031b3",
   "outputs": [
    {
     "data": {
      "text/plain": [
       "('poltextlab-like-classification-model\\\\tokenizer_config.json',\n",
       " 'poltextlab-like-classification-model\\\\special_tokens_map.json',\n",
       " 'poltextlab-like-classification-model\\\\vocab.txt',\n",
       " 'poltextlab-like-classification-model\\\\added_tokens.json',\n",
       " 'poltextlab-like-classification-model\\\\tokenizer.json')"
      ]
     },
     "execution_count": 16,
     "metadata": {},
     "output_type": "execute_result"
    }
   ],
   "execution_count": 16
  },
  {
   "cell_type": "code",
   "source": [
    "model = BertForSequenceClassification.from_pretrained(model_path)\n",
    "tokenizer=BertTokenizerFast.from_pretrained(model_path)\n",
    "nlp = pipeline('sentiment-analysis', model=model, tokenizer=tokenizer)"
   ],
   "metadata": {
    "collapsed": false,
    "ExecuteTime": {
     "end_time": "2024-04-16T16:29:47.388469Z",
     "start_time": "2024-04-16T16:29:46.993501Z"
    }
   },
   "id": "c3db19494e37efe",
   "outputs": [],
   "execution_count": 18
  },
  {
   "cell_type": "code",
   "source": "nlp(\"Egyre t\\u00f6bb a t\\u00f6meges H1N1-megbetegedes, sok a beteg a korhazakban, betegseg, rak, illness angolul\")",
   "metadata": {
    "collapsed": false,
    "ExecuteTime": {
     "end_time": "2024-04-16T16:31:58.654715Z",
     "start_time": "2024-04-16T16:31:58.510442Z"
    }
   },
   "id": "17166988ad439171",
   "outputs": [
    {
     "data": {
      "text/plain": [
       "[{'label': 999, 'score': 0.07323040813207626}]"
      ]
     },
     "execution_count": 21,
     "metadata": {},
     "output_type": "execute_result"
    }
   ],
   "execution_count": 21
  },
  {
   "metadata": {
    "ExecuteTime": {
     "end_time": "2024-04-16T16:31:12.820336Z",
     "start_time": "2024-04-16T16:31:12.643202Z"
    }
   },
   "cell_type": "code",
   "source": "nlp(\"Iran lebombazta irzaelt bombakkal, raketakkal\")",
   "id": "57b02295aa79ae12",
   "outputs": [
    {
     "data": {
      "text/plain": [
       "[{'label': 12, 'score': 0.07266714423894882}]"
      ]
     },
     "execution_count": 20,
     "metadata": {},
     "output_type": "execute_result"
    }
   ],
   "execution_count": 20
  },
  {
   "metadata": {},
   "cell_type": "code",
   "outputs": [],
   "execution_count": null,
   "source": "",
   "id": "640e91d6b0575e7a"
  }
 ],
 "metadata": {
  "kernelspec": {
   "display_name": "Python 3",
   "language": "python",
   "name": "python3"
  },
  "language_info": {
   "codemirror_mode": {
    "name": "ipython",
    "version": 2
   },
   "file_extension": ".py",
   "mimetype": "text/x-python",
   "name": "python",
   "nbconvert_exporter": "python",
   "pygments_lexer": "ipython2",
   "version": "2.7.6"
  }
 },
 "nbformat": 4,
 "nbformat_minor": 5
}
