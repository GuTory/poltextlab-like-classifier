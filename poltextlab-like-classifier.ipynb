{
 "cells": [
  {
   "cell_type": "code",
   "execution_count": 1,
   "id": "initial_id",
   "metadata": {
    "ExecuteTime": {
     "end_time": "2024-04-16T15:59:23.345566Z",
     "start_time": "2024-04-16T15:59:05.007324Z"
    },
    "collapsed": true
   },
   "outputs": [
    {
     "name": "stderr",
     "output_type": "stream",
     "text": [
      "2024-04-17 15:06:10.792881: I tensorflow/core/platform/cpu_feature_guard.cc:182] This TensorFlow binary is optimized to use available CPU instructions in performance-critical operations.\n",
      "To enable the following instructions: AVX2 FMA, in other operations, rebuild TensorFlow with the appropriate compiler flags.\n"
     ]
    }
   ],
   "source": [
    "import gzip\n",
    "import json\n",
    "import os\n",
    "import pandas as pd\n",
    "import torch\n",
    "from transformers import BertTokenizerFast, BertForSequenceClassification, TrainingArguments, Trainer, pipeline\n",
    "from torch import cuda\n",
    "from sklearn.utils import shuffle\n",
    "from torch.utils.data import Dataset\n",
    "from sklearn.metrics import accuracy_score, precision_recall_fscore_support\n",
    "\n",
    "os.environ[\"PYTORCH_MPS_HIGH_WATERMARK_RATIO\"] = \"0.0\"\n"
   ]
  },
  {
   "cell_type": "code",
   "execution_count": 23,
   "id": "f7ceefbe3e6811d0",
   "metadata": {
    "ExecuteTime": {
     "end_time": "2024-04-16T15:59:23.358722Z",
     "start_time": "2024-04-16T15:59:23.349580Z"
    },
    "collapsed": false
   },
   "outputs": [],
   "source": [
    "def read_folder(folder_path):\n",
    "    dataframes = []\n",
    "    for filename in os.listdir(folder_path):\n",
    "        if filename.endswith('.jsonl.gz'):\n",
    "            with gzip.open(os.path.join(folder_path, filename), 'rt', encoding='utf-8') as file:\n",
    "                for line in file:\n",
    "                    json_data = json.loads(line)\n",
    "                    df = pd.DataFrame(json_data)\n",
    "                    dataframes.append(df)\n",
    "    if dataframes:\n",
    "        aggregated_df = pd.concat(dataframes, ignore_index=True)\n",
    "        return aggregated_df\n",
    "    else:\n",
    "        print(\"No jsonl files found in the directory.\")\n",
    "        return None"
   ]
  },
  {
   "cell_type": "code",
   "execution_count": 24,
   "id": "757181da10fc77d1",
   "metadata": {
    "ExecuteTime": {
     "end_time": "2024-04-16T15:59:23.368952Z",
     "start_time": "2024-04-16T15:59:23.360914Z"
    },
    "collapsed": false
   },
   "outputs": [],
   "source": [
    "def reduce():\n",
    "    # csak a test\n",
    "    test = os.path.join(os.getcwd(), 'test')\n",
    "    df = read_folder(test)\n",
    "    df.drop('uuid', axis=1, inplace=True)\n",
    "    return df.groupby('major_topic_pred').apply(lambda x: x.sample(n=min(10, len(x)))).reset_index(drop=True)\n"
   ]
  },
  {
   "cell_type": "code",
   "execution_count": 25,
   "id": "8ff4310eaad5b733",
   "metadata": {
    "ExecuteTime": {
     "end_time": "2024-04-16T15:59:24.812735Z",
     "start_time": "2024-04-16T15:59:23.370960Z"
    },
    "collapsed": false
   },
   "outputs": [
    {
     "name": "stdout",
     "output_type": "stream",
     "text": [
      "{0: 20, 1: 23, 2: 13, 3: 7, 4: 9, 5: 4, 6: 21, 7: 12, 8: 8, 9: 18, 10: 6, 11: 5, 12: 1, 13: 16, 14: 14, 15: 10, 16: 999, 17: 17, 18: 19, 19: 3, 20: 15, 21: 2}\n"
     ]
    },
    {
     "data": {
      "text/html": [
       "<div>\n",
       "<style scoped>\n",
       "    .dataframe tbody tr th:only-of-type {\n",
       "        vertical-align: middle;\n",
       "    }\n",
       "\n",
       "    .dataframe tbody tr th {\n",
       "        vertical-align: top;\n",
       "    }\n",
       "\n",
       "    .dataframe thead th {\n",
       "        text-align: right;\n",
       "    }\n",
       "</style>\n",
       "<table border=\"1\" class=\"dataframe\">\n",
       "  <thead>\n",
       "    <tr style=\"text-align: right;\">\n",
       "      <th></th>\n",
       "      <th>title</th>\n",
       "      <th>lead</th>\n",
       "      <th>article</th>\n",
       "      <th>domain</th>\n",
       "      <th>url</th>\n",
       "      <th>date_of_creation</th>\n",
       "      <th>cc_date</th>\n",
       "      <th>tags</th>\n",
       "      <th>doc_similarity</th>\n",
       "      <th>major_topic_pred</th>\n",
       "      <th>major_topic_pred_index</th>\n",
       "    </tr>\n",
       "  </thead>\n",
       "  <tbody>\n",
       "    <tr>\n",
       "      <th>188</th>\n",
       "      <td>Az MSZP szerint a választási iroda meghekkelte...</td>\n",
       "      <td>Az MSZP-Párbeszéd csütörtöki sajtótájékoztatój...</td>\n",
       "      <td>Sajtótájékoztatót tartott csütörtökön Budapest...</td>\n",
       "      <td>hvg.hu</td>\n",
       "      <td>http://hvg.hu/itthon/20180412_Toth_Bertalan_sz...</td>\n",
       "      <td>2018-04-12T18:45:00</td>\n",
       "      <td>2018-04-23T13:38:32</td>\n",
       "      <td>listázás</td>\n",
       "      <td>0.591405</td>\n",
       "      <td>20</td>\n",
       "      <td>0</td>\n",
       "    </tr>\n",
       "    <tr>\n",
       "      <th>208</th>\n",
       "      <td>Kokas Ignác hagyatéka: parasztházban nyílt kép...</td>\n",
       "      <td>A Kossuth-díjas Kokas Ignác festőművész képein...</td>\n",
       "      <td>Kokas Ignác hagyatékának egy részét vásárolta ...</td>\n",
       "      <td>feol.hu</td>\n",
       "      <td>https://www.feol.hu/kultura/helyi-kultura/koka...</td>\n",
       "      <td>2019-09-30T11:30:00</td>\n",
       "      <td>2020-04-08T01:38:45</td>\n",
       "      <td>Kósa Judit</td>\n",
       "      <td>0.600307</td>\n",
       "      <td>23</td>\n",
       "      <td>1</td>\n",
       "    </tr>\n",
       "    <tr>\n",
       "      <th>110</th>\n",
       "      <td>Így számítják ki a nyugdíjat 2014-ben</td>\n",
       "      <td>2014-ben is a nettó átlagkeresettől és a szolg...</td>\n",
       "      <td>A nyugdíj alapjául szolgáló átlagkeresetnél 20...</td>\n",
       "      <td>hvg.hu</td>\n",
       "      <td>https://hvg.hu/gazdasag/20131230_Igy_szamitjak...</td>\n",
       "      <td>2013-12-30T15:50:00</td>\n",
       "      <td>2019-09-15T10:58:07</td>\n",
       "      <td>nyugdíj</td>\n",
       "      <td>0.841047</td>\n",
       "      <td>13</td>\n",
       "      <td>2</td>\n",
       "    </tr>\n",
       "    <tr>\n",
       "      <th>116</th>\n",
       "      <td>Aprópénz a rezsiutalvány az ellenzékben ígért ...</td>\n",
       "      <td>A Fidesz a 2006-os választás előtt azzal kampá...</td>\n",
       "      <td>Talán már feledésbe merült, de a 2006-os orszá...</td>\n",
       "      <td>24.hu</td>\n",
       "      <td>https://24.hu/fn/gazdasag/2019/09/04/rezsiutal...</td>\n",
       "      <td>2019-09-04T06:01:00</td>\n",
       "      <td>2019-09-19T02:34:35</td>\n",
       "      <td>Gazdaság</td>\n",
       "      <td>0.915870</td>\n",
       "      <td>13</td>\n",
       "      <td>2</td>\n",
       "    </tr>\n",
       "    <tr>\n",
       "      <th>61</th>\n",
       "      <td>Hegyekben áll a turisták szemete a Maldív-szig...</td>\n",
       "      <td>Thilafushi egy hulladékból épített sziget az I...</td>\n",
       "      <td>Az Indiai-óceánban található Maldív-szigeteket...</td>\n",
       "      <td>origo.hu</td>\n",
       "      <td>https://www.origo.hu/utazas/20170316-ide-hordj...</td>\n",
       "      <td>2017-03-17T05:00:00</td>\n",
       "      <td>2022-08-15T15:31:10</td>\n",
       "      <td>hulladék</td>\n",
       "      <td>0.421541</td>\n",
       "      <td>7</td>\n",
       "      <td>3</td>\n",
       "    </tr>\n",
       "    <tr>\n",
       "      <th>66</th>\n",
       "      <td>A téli etetés növeli nagyra a trófeát</td>\n",
       "      <td>Jóval több takarmány fogy a nagy hó és a zord ...</td>\n",
       "      <td>A vadgazdálkodási terv része az etetés, ám ily...</td>\n",
       "      <td>kisalfold.hu</td>\n",
       "      <td>http://www.kisalfold.hu/mosonmagyarovari_hirek...</td>\n",
       "      <td>2013-01-23T08:35:00</td>\n",
       "      <td>2017-07-25T21:27:43</td>\n",
       "      <td>Mosonmagyaróvár</td>\n",
       "      <td>0.610558</td>\n",
       "      <td>7</td>\n",
       "      <td>3</td>\n",
       "    </tr>\n",
       "    <tr>\n",
       "      <th>189</th>\n",
       "      <td>Őrsi Gergely: Kérdés nélkül vállalom a drogtes...</td>\n",
       "      <td>Tételesen cáfol minden, vele szemben – név nél...</td>\n",
       "      <td>Miből ismert magára, hogy a nyilvánosság elé k...</td>\n",
       "      <td>index.hu</td>\n",
       "      <td>https://index.hu/belfold/2019/12/10/angyal_ugy...</td>\n",
       "      <td>2019-12-10T07:21:00</td>\n",
       "      <td>2021-01-16T19:14:25</td>\n",
       "      <td>őrsi gergely</td>\n",
       "      <td>0.546769</td>\n",
       "      <td>20</td>\n",
       "      <td>0</td>\n",
       "    </tr>\n",
       "    <tr>\n",
       "      <th>87</th>\n",
       "      <td>300 afgán család éhségsztrájkol Belgiumban</td>\n",
       "      <td>Éhségsztrájkot tart egy hete háromszáz afgán c...</td>\n",
       "      <td>Egy hete éhségsztrájkot tart egy brüsszeli bel...</td>\n",
       "      <td>origo.hu</td>\n",
       "      <td>https://www.origo.hu/nagyvilag/20030731300afga...</td>\n",
       "      <td>None</td>\n",
       "      <td>2019-12-16T11:31:00</td>\n",
       "      <td>ENSZ</td>\n",
       "      <td>0.931950</td>\n",
       "      <td>9</td>\n",
       "      <td>4</td>\n",
       "    </tr>\n",
       "    <tr>\n",
       "      <th>38</th>\n",
       "      <td>Szamurájdarázs ölheti meg az összes poloskát</td>\n",
       "      <td>Nem elég, hogy küzdünk a régi ellenségeinkkel,...</td>\n",
       "      <td>A poloskáknak egész szép kis arzenálja települ...</td>\n",
       "      <td>nlc.hu</td>\n",
       "      <td>https://nlc.hu/ezvan/20190607/poloska-szamuraj...</td>\n",
       "      <td>2019-06-07T00:00:00</td>\n",
       "      <td>2021-03-08T00:23:03</td>\n",
       "      <td>poloska harlekinkatica kártevő szamurájdarázs</td>\n",
       "      <td>0.525787</td>\n",
       "      <td>4</td>\n",
       "      <td>5</td>\n",
       "    </tr>\n",
       "    <tr>\n",
       "      <th>192</th>\n",
       "      <td>Talán mégsem az összes mezőhegyesi árverési er...</td>\n",
       "      <td>Csak azokra a földekre nem köthetik meg a mező...</td>\n",
       "      <td>Lázár János Miniszterelnökséget vezető miniszt...</td>\n",
       "      <td>hvg.hu</td>\n",
       "      <td>https://hvg.hu/gazdasag/20160301_mezohegyes_ar...</td>\n",
       "      <td>2016-03-01T11:54:00</td>\n",
       "      <td>2019-12-09T23:35:06</td>\n",
       "      <td>kormánybiztos</td>\n",
       "      <td>0.529447</td>\n",
       "      <td>21</td>\n",
       "      <td>6</td>\n",
       "    </tr>\n",
       "  </tbody>\n",
       "</table>\n",
       "</div>"
      ],
      "text/plain": [
       "                                                 title  \\\n",
       "188  Az MSZP szerint a választási iroda meghekkelte...   \n",
       "208  Kokas Ignác hagyatéka: parasztházban nyílt kép...   \n",
       "110              Így számítják ki a nyugdíjat 2014-ben   \n",
       "116  Aprópénz a rezsiutalvány az ellenzékben ígért ...   \n",
       "61   Hegyekben áll a turisták szemete a Maldív-szig...   \n",
       "66               A téli etetés növeli nagyra a trófeát   \n",
       "189  Őrsi Gergely: Kérdés nélkül vállalom a drogtes...   \n",
       "87          300 afgán család éhségsztrájkol Belgiumban   \n",
       "38        Szamurájdarázs ölheti meg az összes poloskát   \n",
       "192  Talán mégsem az összes mezőhegyesi árverési er...   \n",
       "\n",
       "                                                  lead  \\\n",
       "188  Az MSZP-Párbeszéd csütörtöki sajtótájékoztatój...   \n",
       "208  A Kossuth-díjas Kokas Ignác festőművész képein...   \n",
       "110  2014-ben is a nettó átlagkeresettől és a szolg...   \n",
       "116  A Fidesz a 2006-os választás előtt azzal kampá...   \n",
       "61   Thilafushi egy hulladékból épített sziget az I...   \n",
       "66   Jóval több takarmány fogy a nagy hó és a zord ...   \n",
       "189  Tételesen cáfol minden, vele szemben – név nél...   \n",
       "87   Éhségsztrájkot tart egy hete háromszáz afgán c...   \n",
       "38   Nem elég, hogy küzdünk a régi ellenségeinkkel,...   \n",
       "192  Csak azokra a földekre nem köthetik meg a mező...   \n",
       "\n",
       "                                               article        domain  \\\n",
       "188  Sajtótájékoztatót tartott csütörtökön Budapest...        hvg.hu   \n",
       "208  Kokas Ignác hagyatékának egy részét vásárolta ...       feol.hu   \n",
       "110  A nyugdíj alapjául szolgáló átlagkeresetnél 20...        hvg.hu   \n",
       "116  Talán már feledésbe merült, de a 2006-os orszá...         24.hu   \n",
       "61   Az Indiai-óceánban található Maldív-szigeteket...      origo.hu   \n",
       "66   A vadgazdálkodási terv része az etetés, ám ily...  kisalfold.hu   \n",
       "189  Miből ismert magára, hogy a nyilvánosság elé k...      index.hu   \n",
       "87   Egy hete éhségsztrájkot tart egy brüsszeli bel...      origo.hu   \n",
       "38   A poloskáknak egész szép kis arzenálja települ...        nlc.hu   \n",
       "192  Lázár János Miniszterelnökséget vezető miniszt...        hvg.hu   \n",
       "\n",
       "                                                   url     date_of_creation  \\\n",
       "188  http://hvg.hu/itthon/20180412_Toth_Bertalan_sz...  2018-04-12T18:45:00   \n",
       "208  https://www.feol.hu/kultura/helyi-kultura/koka...  2019-09-30T11:30:00   \n",
       "110  https://hvg.hu/gazdasag/20131230_Igy_szamitjak...  2013-12-30T15:50:00   \n",
       "116  https://24.hu/fn/gazdasag/2019/09/04/rezsiutal...  2019-09-04T06:01:00   \n",
       "61   https://www.origo.hu/utazas/20170316-ide-hordj...  2017-03-17T05:00:00   \n",
       "66   http://www.kisalfold.hu/mosonmagyarovari_hirek...  2013-01-23T08:35:00   \n",
       "189  https://index.hu/belfold/2019/12/10/angyal_ugy...  2019-12-10T07:21:00   \n",
       "87   https://www.origo.hu/nagyvilag/20030731300afga...                 None   \n",
       "38   https://nlc.hu/ezvan/20190607/poloska-szamuraj...  2019-06-07T00:00:00   \n",
       "192  https://hvg.hu/gazdasag/20160301_mezohegyes_ar...  2016-03-01T11:54:00   \n",
       "\n",
       "                 cc_date                                           tags  \\\n",
       "188  2018-04-23T13:38:32                                       listázás   \n",
       "208  2020-04-08T01:38:45                                     Kósa Judit   \n",
       "110  2019-09-15T10:58:07                                        nyugdíj   \n",
       "116  2019-09-19T02:34:35                                       Gazdaság   \n",
       "61   2022-08-15T15:31:10                                       hulladék   \n",
       "66   2017-07-25T21:27:43                                Mosonmagyaróvár   \n",
       "189  2021-01-16T19:14:25                                   őrsi gergely   \n",
       "87   2019-12-16T11:31:00                                           ENSZ   \n",
       "38   2021-03-08T00:23:03  poloska harlekinkatica kártevő szamurájdarázs   \n",
       "192  2019-12-09T23:35:06                                  kormánybiztos   \n",
       "\n",
       "     doc_similarity  major_topic_pred  major_topic_pred_index  \n",
       "188        0.591405                20                       0  \n",
       "208        0.600307                23                       1  \n",
       "110        0.841047                13                       2  \n",
       "116        0.915870                13                       2  \n",
       "61         0.421541                 7                       3  \n",
       "66         0.610558                 7                       3  \n",
       "189        0.546769                20                       0  \n",
       "87         0.931950                 9                       4  \n",
       "38         0.525787                 4                       5  \n",
       "192        0.529447                21                       6  "
      ]
     },
     "execution_count": 25,
     "metadata": {},
     "output_type": "execute_result"
    }
   ],
   "source": [
    "reduced_df = reduce()\n",
    "df = shuffle(reduced_df)\n",
    "labels = df['major_topic_pred'].unique().tolist()\n",
    "number_of_labels = len(labels)\n",
    "id_to_label = {_id: label for _id, label in enumerate(labels)}\n",
    "label_to_id = {label: _id for _id, label in enumerate(labels)}\n",
    "print(id_to_label)\n",
    "df['major_topic_pred_index'] = df['major_topic_pred'].map(lambda x: label_to_id[x])\n",
    "df.head(10)"
   ]
  },
  {
   "cell_type": "code",
   "execution_count": 26,
   "id": "6dd26f57",
   "metadata": {},
   "outputs": [
    {
     "data": {
      "text/plain": [
       "'cpu'"
      ]
     },
     "execution_count": 26,
     "metadata": {},
     "output_type": "execute_result"
    }
   ],
   "source": [
    "device = 'cuda' if cuda.is_available() else 'cpu'\n",
    "device"
   ]
  },
  {
   "cell_type": "code",
   "execution_count": 27,
   "id": "7ad0973ecdd045ce",
   "metadata": {
    "ExecuteTime": {
     "end_time": "2024-04-16T15:59:27.468654Z",
     "start_time": "2024-04-16T15:59:24.817051Z"
    },
    "collapsed": false
   },
   "outputs": [
    {
     "name": "stderr",
     "output_type": "stream",
     "text": [
      "Some weights of BertForSequenceClassification were not initialized from the model checkpoint at google-bert/bert-base-uncased and are newly initialized: ['classifier.bias', 'classifier.weight']\n",
      "You should probably TRAIN this model on a down-stream task to be able to use it for predictions and inference.\n"
     ]
    },
    {
     "data": {
      "text/plain": [
       "BertForSequenceClassification(\n",
       "  (bert): BertModel(\n",
       "    (embeddings): BertEmbeddings(\n",
       "      (word_embeddings): Embedding(30522, 768, padding_idx=0)\n",
       "      (position_embeddings): Embedding(512, 768)\n",
       "      (token_type_embeddings): Embedding(2, 768)\n",
       "      (LayerNorm): LayerNorm((768,), eps=1e-12, elementwise_affine=True)\n",
       "      (dropout): Dropout(p=0.1, inplace=False)\n",
       "    )\n",
       "    (encoder): BertEncoder(\n",
       "      (layer): ModuleList(\n",
       "        (0-11): 12 x BertLayer(\n",
       "          (attention): BertAttention(\n",
       "            (self): BertSelfAttention(\n",
       "              (query): Linear(in_features=768, out_features=768, bias=True)\n",
       "              (key): Linear(in_features=768, out_features=768, bias=True)\n",
       "              (value): Linear(in_features=768, out_features=768, bias=True)\n",
       "              (dropout): Dropout(p=0.1, inplace=False)\n",
       "            )\n",
       "            (output): BertSelfOutput(\n",
       "              (dense): Linear(in_features=768, out_features=768, bias=True)\n",
       "              (LayerNorm): LayerNorm((768,), eps=1e-12, elementwise_affine=True)\n",
       "              (dropout): Dropout(p=0.1, inplace=False)\n",
       "            )\n",
       "          )\n",
       "          (intermediate): BertIntermediate(\n",
       "            (dense): Linear(in_features=768, out_features=3072, bias=True)\n",
       "            (intermediate_act_fn): GELUActivation()\n",
       "          )\n",
       "          (output): BertOutput(\n",
       "            (dense): Linear(in_features=3072, out_features=768, bias=True)\n",
       "            (LayerNorm): LayerNorm((768,), eps=1e-12, elementwise_affine=True)\n",
       "            (dropout): Dropout(p=0.1, inplace=False)\n",
       "          )\n",
       "        )\n",
       "      )\n",
       "    )\n",
       "    (pooler): BertPooler(\n",
       "      (dense): Linear(in_features=768, out_features=768, bias=True)\n",
       "      (activation): Tanh()\n",
       "    )\n",
       "  )\n",
       "  (dropout): Dropout(p=0.1, inplace=False)\n",
       "  (classifier): Linear(in_features=768, out_features=22, bias=True)\n",
       ")"
      ]
     },
     "execution_count": 27,
     "metadata": {},
     "output_type": "execute_result"
    }
   ],
   "source": [
    "model = BertForSequenceClassification.from_pretrained(\n",
    "    \"google-bert/bert-base-uncased\",\n",
    "    num_labels=number_of_labels,\n",
    "    id2label=id_to_label,\n",
    "    label2id=label_to_id\n",
    ")\n",
    "model.to(device)"
   ]
  },
  {
   "cell_type": "code",
   "execution_count": 28,
   "id": "9ba0cc96cea7cfaf",
   "metadata": {
    "ExecuteTime": {
     "end_time": "2024-04-16T15:59:27.704216Z",
     "start_time": "2024-04-16T15:59:27.470662Z"
    },
    "collapsed": false
   },
   "outputs": [
    {
     "name": "stdout",
     "output_type": "stream",
     "text": [
      "110 55 55\n"
     ]
    }
   ],
   "source": [
    "tokenizer = BertTokenizerFast.from_pretrained(\"google-bert/bert-base-uncased\")\n",
    "size = df.shape[0]\n",
    "half = size // 2\n",
    "three_fourth = (3 * size) // 4\n",
    "train_texts = list(df['article'][:half])\n",
    "val_texts = list(df['article'][half:three_fourth])\n",
    "test_texts = list(df['article'][three_fourth:])\n",
    "print(len(train_texts), len(val_texts), len(test_texts))\n"
   ]
  },
  {
   "cell_type": "code",
   "execution_count": 29,
   "id": "cfa86895c3b17ffe",
   "metadata": {
    "ExecuteTime": {
     "end_time": "2024-04-16T15:59:27.715699Z",
     "start_time": "2024-04-16T15:59:27.706223Z"
    },
    "collapsed": false
   },
   "outputs": [
    {
     "name": "stdout",
     "output_type": "stream",
     "text": [
      "110 55 55\n"
     ]
    }
   ],
   "source": [
    "train_labels = list(df['major_topic_pred_index'][:half])\n",
    "val_labels = list(df['major_topic_pred_index'][half:three_fourth])\n",
    "test_labels = list(df['major_topic_pred_index'][three_fourth:])\n",
    "print(len(train_labels), len(val_labels), len(test_labels))"
   ]
  },
  {
   "cell_type": "code",
   "execution_count": 30,
   "id": "1fc723147afce3c2",
   "metadata": {
    "ExecuteTime": {
     "end_time": "2024-04-16T15:59:27.725082Z",
     "start_time": "2024-04-16T15:59:27.717713Z"
    },
    "collapsed": false
   },
   "outputs": [],
   "source": [
    "class DataLoader(Dataset):\n",
    "    def __init__(self, encodings, _labels):\n",
    "        self.encodings = encodings\n",
    "        self.labels = _labels\n",
    "\n",
    "    def __len__(self):\n",
    "        return len(self.labels)\n",
    "\n",
    "    def __getitem__(self, idx):\n",
    "        item = {key: torch.tensor(val[idx]) for key, val in self.encodings.items()}\n",
    "        item['labels'] = torch.tensor(self.labels[idx])\n",
    "        return item"
   ]
  },
  {
   "cell_type": "code",
   "execution_count": 31,
   "id": "dda9b996732e60e3",
   "metadata": {
    "ExecuteTime": {
     "end_time": "2024-04-16T15:59:27.918319Z",
     "start_time": "2024-04-16T15:59:27.728597Z"
    },
    "collapsed": false
   },
   "outputs": [],
   "source": [
    "train_encodings = tokenizer(train_texts, truncation=True, padding=True)\n",
    "val_encodings = tokenizer(val_texts, truncation=True, padding=True)\n",
    "test_encodings = tokenizer(test_texts, truncation=True, padding=True)\n",
    "\n",
    "train_dataloader = DataLoader(train_encodings, train_labels)\n",
    "val_dataloader = DataLoader(val_encodings, val_labels)\n",
    "test_dataset = DataLoader(test_encodings, test_labels)"
   ]
  },
  {
   "cell_type": "code",
   "execution_count": 32,
   "id": "b2364a5b3b8f2fdf",
   "metadata": {
    "ExecuteTime": {
     "end_time": "2024-04-16T15:59:27.938392Z",
     "start_time": "2024-04-16T15:59:27.919327Z"
    },
    "collapsed": false
   },
   "outputs": [],
   "source": [
    "training_args = TrainingArguments(\n",
    "    output_dir='./z',\n",
    "    do_train=True,\n",
    "    do_eval=True,\n",
    "    num_train_epochs=5,\n",
    "    per_device_train_batch_size=8,\n",
    "    per_device_eval_batch_size=16,\n",
    "    warmup_steps=50,\n",
    "    weight_decay=0.01,\n",
    "    logging_strategy='steps',\n",
    "    logging_dir='./logs',\n",
    "    logging_steps=50,\n",
    "    evaluation_strategy='steps',\n",
    "    eval_steps=50,\n",
    "    save_strategy='steps',\n",
    "    load_best_model_at_end=True,\n",
    "    gradient_accumulation_steps=4\n",
    ")"
   ]
  },
  {
   "cell_type": "code",
   "execution_count": 33,
   "id": "a303811a8485e051",
   "metadata": {
    "ExecuteTime": {
     "end_time": "2024-04-16T15:59:27.948507Z",
     "start_time": "2024-04-16T15:59:27.940402Z"
    },
    "collapsed": false
   },
   "outputs": [],
   "source": [
    "def compute_metrics(predictions):\n",
    "    labels = predictions.label_ids\n",
    "    preds = predictions.predictions.argmax(-1)\n",
    "    precision, recall, f1, _ = precision_recall_fscore_support(labels, preds, preds, average='macro')\n",
    "    acc = accuracy_score(labels, preds)\n",
    "    return {\n",
    "        'Accuracy': acc,\n",
    "        'F1': f1,\n",
    "        'Precision': precision,\n",
    "        'Recall': recall\n",
    "    }"
   ]
  },
  {
   "cell_type": "code",
   "execution_count": 34,
   "id": "e21cd72062895594",
   "metadata": {
    "ExecuteTime": {
     "end_time": "2024-04-16T16:24:19.601628Z",
     "start_time": "2024-04-16T15:59:27.950518Z"
    },
    "collapsed": false
   },
   "outputs": [
    {
     "name": "stderr",
     "output_type": "stream",
     "text": [
      "/Users/I577305/Library/Python/3.11/lib/python/site-packages/accelerate/accelerator.py:436: FutureWarning: Passing the following arguments to `Accelerator` is deprecated and will be removed in version 1.0 of Accelerate: dict_keys(['dispatch_batches', 'split_batches', 'even_batches', 'use_seedable_sampler']). Please pass an `accelerate.DataLoaderConfiguration` instead: \n",
      "dataloader_config = DataLoaderConfiguration(dispatch_batches=None, split_batches=False, even_batches=True, use_seedable_sampler=True)\n",
      "  warnings.warn(\n"
     ]
    },
    {
     "data": {
      "application/vnd.jupyter.widget-view+json": {
       "model_id": "0c4470fcdbf848b99be452fd73109929",
       "version_major": 2,
       "version_minor": 0
      },
      "text/plain": [
       "  0%|          | 0/15 [00:00<?, ?it/s]"
      ]
     },
     "metadata": {},
     "output_type": "display_data"
    },
    {
     "name": "stdout",
     "output_type": "stream",
     "text": [
      "{'train_runtime': 844.975, 'train_samples_per_second': 0.651, 'train_steps_per_second': 0.018, 'train_loss': 3.1433509826660155, 'epoch': 4.29}\n"
     ]
    },
    {
     "data": {
      "text/plain": [
       "TrainOutput(global_step=15, training_loss=3.1433509826660155, metrics={'train_runtime': 844.975, 'train_samples_per_second': 0.651, 'train_steps_per_second': 0.018, 'train_loss': 3.1433509826660155, 'epoch': 4.29})"
      ]
     },
     "execution_count": 34,
     "metadata": {},
     "output_type": "execute_result"
    }
   ],
   "source": [
    "trainer = Trainer(\n",
    "    model=model,\n",
    "    args=training_args,\n",
    "    train_dataset=train_dataloader,\n",
    "    eval_dataset=val_dataloader,\n",
    "    compute_metrics=compute_metrics\n",
    ")\n",
    "trainer.train()"
   ]
  },
  {
   "cell_type": "code",
   "execution_count": 35,
   "id": "ea89b166988dbc04",
   "metadata": {
    "ExecuteTime": {
     "end_time": "2024-04-16T16:27:58.962587Z",
     "start_time": "2024-04-16T16:27:58.801815Z"
    },
    "collapsed": false
   },
   "outputs": [
    {
     "data": {
      "text/plain": [
       "(tensor([[0.0274, 0.0413, 0.0463, 0.0452, 0.0735, 0.0298, 0.0773, 0.0756, 0.0274,\n",
       "          0.0360, 0.0378, 0.0390, 0.0484, 0.0430, 0.0355, 0.0474, 0.0387, 0.0518,\n",
       "          0.0594, 0.0293, 0.0447, 0.0450]], grad_fn=<SoftmaxBackward0>),\n",
       " tensor(6),\n",
       " 21)"
      ]
     },
     "execution_count": 35,
     "metadata": {},
     "output_type": "execute_result"
    }
   ],
   "source": [
    "def predict(text):\n",
    "    device = torch.device('cuda' if torch.cuda.is_available() else 'cpu')\n",
    "    model.to(device)\n",
    "\n",
    "    inputs = tokenizer(text, padding='longest', truncation=True, max_length=512, return_tensors='pt').to(device)\n",
    "\n",
    "    outputs = model(**inputs)\n",
    "    probs = outputs[0].softmax(1)\n",
    "    pred_label_idx = probs.argmax()\n",
    "\n",
    "    pred_label = model.config.id2label[pred_label_idx.item()]\n",
    "    return probs.cpu(), pred_label_idx.cpu(), pred_label\n",
    "\n",
    "predict(\"Egyre t\\u00f6bb a t\\u00f6meges H1N1-megbetegedes...\")"
   ]
  },
  {
   "cell_type": "code",
   "execution_count": 36,
   "id": "9aa4efffff6031b3",
   "metadata": {
    "ExecuteTime": {
     "end_time": "2024-04-16T16:28:02.511280Z",
     "start_time": "2024-04-16T16:28:01.565800Z"
    },
    "collapsed": false
   },
   "outputs": [
    {
     "data": {
      "text/plain": [
       "('poltextlab-like-classification-model/tokenizer_config.json',\n",
       " 'poltextlab-like-classification-model/special_tokens_map.json',\n",
       " 'poltextlab-like-classification-model/vocab.txt',\n",
       " 'poltextlab-like-classification-model/added_tokens.json',\n",
       " 'poltextlab-like-classification-model/tokenizer.json')"
      ]
     },
     "execution_count": 36,
     "metadata": {},
     "output_type": "execute_result"
    }
   ],
   "source": [
    "model_path = 'poltextlab-like-classification-model'\n",
    "trainer.save_model(model_path)\n",
    "tokenizer.save_pretrained(model_path)"
   ]
  },
  {
   "cell_type": "code",
   "execution_count": 37,
   "id": "c3db19494e37efe",
   "metadata": {
    "ExecuteTime": {
     "end_time": "2024-04-16T16:29:47.388469Z",
     "start_time": "2024-04-16T16:29:46.993501Z"
    },
    "collapsed": false
   },
   "outputs": [],
   "source": [
    "model = BertForSequenceClassification.from_pretrained(model_path)\n",
    "tokenizer=BertTokenizerFast.from_pretrained(model_path)\n",
    "nlp = pipeline('sentiment-analysis', model=model, tokenizer=tokenizer)"
   ]
  },
  {
   "cell_type": "code",
   "execution_count": 38,
   "id": "17166988ad439171",
   "metadata": {
    "ExecuteTime": {
     "end_time": "2024-04-16T16:31:58.654715Z",
     "start_time": "2024-04-16T16:31:58.510442Z"
    },
    "collapsed": false
   },
   "outputs": [
    {
     "data": {
      "text/plain": [
       "[{'label': 21, 'score': 0.08608993142843246}]"
      ]
     },
     "execution_count": 38,
     "metadata": {},
     "output_type": "execute_result"
    }
   ],
   "source": [
    "nlp(\"Egyre t\\u00f6bb a t\\u00f6meges H1N1-megbetegedes, sok a beteg a korhazakban, betegseg, rak, illness angolul\")"
   ]
  },
  {
   "cell_type": "code",
   "execution_count": 39,
   "id": "57b02295aa79ae12",
   "metadata": {
    "ExecuteTime": {
     "end_time": "2024-04-16T16:31:12.820336Z",
     "start_time": "2024-04-16T16:31:12.643202Z"
    }
   },
   "outputs": [
    {
     "data": {
      "text/plain": [
       "[{'label': 9, 'score': 0.07747523486614227}]"
      ]
     },
     "execution_count": 39,
     "metadata": {},
     "output_type": "execute_result"
    }
   ],
   "source": [
    "nlp(\"Iran lebombazta irzaelt bombakkal, raketakkal\")"
   ]
  },
  {
   "cell_type": "code",
   "execution_count": 41,
   "id": "640e91d6b0575e7a",
   "metadata": {},
   "outputs": [
    {
     "data": {
      "text/plain": [
       "[{'label': 21, 'score': 0.10057864338159561}]"
      ]
     },
     "execution_count": 41,
     "metadata": {},
     "output_type": "execute_result"
    }
   ],
   "source": [
    "nlp(\"Az MSZP-Párbeszéd csütörtöki sajtótájékoztatój...\t\")"
   ]
  },
  {
   "cell_type": "code",
   "execution_count": null,
   "id": "c2ea9e6b",
   "metadata": {},
   "outputs": [],
   "source": []
  }
 ],
 "metadata": {
  "kernelspec": {
   "display_name": "Python 3",
   "language": "python",
   "name": "python3"
  },
  "language_info": {
   "codemirror_mode": {
    "name": "ipython",
    "version": 3
   },
   "file_extension": ".py",
   "mimetype": "text/x-python",
   "name": "python",
   "nbconvert_exporter": "python",
   "pygments_lexer": "ipython3",
   "version": "3.11.5"
  }
 },
 "nbformat": 4,
 "nbformat_minor": 5
}
